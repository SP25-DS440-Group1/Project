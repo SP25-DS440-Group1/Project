{
 "cells": [
  {
   "cell_type": "code",
   "execution_count": 8,
   "id": "6e66885f",
   "metadata": {},
   "outputs": [
    {
     "name": "stdout",
     "output_type": "stream",
     "text": [
      "Dataset contains time from 2020-01-01T00:00:00.000000000 to 2022-12-31T18:00:00.000000000\n",
      "US 2020-2022 0.25 degree ZArr → ERA5_2020-2022_6h_5VAR_0.25.zarr\n",
      "US 2020-2022 0.25 degree NetCDF4 → ERA5_2020-2022_6h_5VAR_0.25.nc\n",
      "US 2020-2022 1.0 degree ZArr → ERA5_2020-2022_6h_5VAR_1.0.zarr\n",
      "US 2020-2022 1.0 degree NetCDF4 → ERA5_2020-2022_6h_5VAR_1.0.nc\n"
     ]
    }
   ],
   "source": [
    "import os\n",
    "import xarray as xr\n",
    "import gcsfs\n",
    "import numpy as np\n",
    "\n",
    "# ─── CONFIG ────────────────────────────────────────────────────────────────────\n",
    "GCS_URI_6H_13L = \"gs://weatherbench2/datasets/era5/1959-2023_01_10-wb13-6h-1440x721_with_derived_variables.zarr\"\n",
    "OUT_6H_13L_ZARR = \"ERA5_2020-2022_6h_5VAR_0.25.zarr\"\n",
    "OUT_6H_13L_NC = \"ERA5_2020-2022_6h_5VAR_0.25.nc\"\n",
    "OUT_6H_13L_1deg_ZARR = \"ERA5_2020-2022_6h_5VAR_1.0.zarr\"\n",
    "OUT_6H_13L_1deg_NC = \"ERA5_2020-2022_6h_5VAR_1.0.nc\"\n",
    "\n",
    "# set start and end dates for data range. yyyy-mm-dd\n",
    "start = \"2020-01-01\"\n",
    "end = \"2022-12-31\"\n",
    "\n",
    "VARS = [\n",
    "    \"2m_temperature\",\n",
    "    \"mean_sea_level_pressure\",\n",
    "    \"10m_u_component_of_wind\",\n",
    "    \"10m_v_component_of_wind\",\n",
    "    \"total_precipitation_6hr\"\n",
    "]\n",
    "\n",
    "def open_gcs_zarr(uri: str, project: str = None):\n",
    "    fs = gcsfs.GCSFileSystem(project=project)\n",
    "    return xr.open_zarr(fs.get_mapper(uri), consolidated=True)\n",
    "\n",
    "\n",
    "\n",
    "\n",
    "# 1) load & time‐subset 6h/13l for 2020-2022\n",
    "ds = open_gcs_zarr(GCS_URI_6H_13L)\n",
    "ds2020_22 = ds.sel(time=slice(start, end))\n",
    "\n",
    "# 1b) keep only the five surface variables\n",
    "ds2020_22 = ds2020_22[VARS]\n",
    "\n",
    "times = ds2020_22.time.values\n",
    "start = np.min(times)\n",
    "end   = np.max(times)\n",
    "print(f\"Dataset contains time from {start} to {end}\")\n",
    "\n",
    "# use the actual coord names in your ds:\n",
    "lon_coord = \"longitude\"    if \"longitude\"    in ds2020_22.coords else \"lon\"\n",
    "lat_coord = \"latitude\"     if \"latitude\"     in ds2020_22.coords else \"lat\"\n",
    "\n",
    "# only save US subset\n",
    "us_lon_min, us_lon_max = 235.0, 294.0   # [0–360] U.S. longitudes\n",
    "us_lat_min, us_lat_max =  24.0,  50.0   # U.S. latitudes\n",
    "ds2020_22 = ( ds2020_22.sortby(lon_coord)\n",
    "    .sortby(lat_coord)\n",
    "    .sel({\n",
    "        lon_coord: slice(us_lon_min, us_lon_max),\n",
    "        lat_coord: slice(us_lat_min, us_lat_max)\n",
    "    })\n",
    ")\n",
    "\n",
    "\n",
    "# 2) write out the U.S. subsets\n",
    "\n",
    "ds2020_22.to_zarr(OUT_6H_13L_ZARR, mode=\"w\")\n",
    "print(\"US 2020-2022 0.25 degree ZArr →\", OUT_6H_13L_ZARR)\n",
    "ds2020_22.to_netcdf(OUT_6H_13L_NC)\n",
    "print(\"US 2020-2022 0.25 degree NetCDF4 →\", OUT_6H_13L_NC)\n",
    "\n",
    "ds2020_22_1deg = ds2020_22.coarsen(\n",
    "    {lat_coord: 4, lon_coord: 4},\n",
    "    boundary=\"trim\").mean()\n",
    "\n",
    "\n",
    "ds2020_22_1deg.to_zarr(OUT_6H_13L_1deg_ZARR, mode=\"w\")\n",
    "print(\"US 2020-2022 1.0 degree ZArr →\", OUT_6H_13L_1deg_ZARR)\n",
    "ds2020_22_1deg.to_netcdf(OUT_6H_13L_1deg_NC)\n",
    "print(\"US 2020-2022 1.0 degree NetCDF4 →\", OUT_6H_13L_1deg_NC)\n"
   ]
  },
  {
   "cell_type": "markdown",
   "id": "6acf6835",
   "metadata": {},
   "source": [
    "Then gather arrival data"
   ]
  },
  {
   "cell_type": "code",
   "execution_count": 9,
   "id": "e4a107b0",
   "metadata": {},
   "outputs": [
    {
     "name": "stdout",
     "output_type": "stream",
     "text": [
      "=== ERA5 DATASET SUMMARY ===\n",
      "<xarray.Dataset> Size: 135MB\n",
      "Dimensions:                  (time: 4384, latitude: 26, longitude: 59)\n",
      "Coordinates:\n",
      "  * latitude                 (latitude) float32 104B 24.38 25.38 ... 48.38 49.38\n",
      "  * longitude                (longitude) float32 236B 235.4 236.4 ... 293.4\n",
      "  * time                     (time) datetime64[ns] 35kB 2020-01-01 ... 2022-1...\n",
      "Data variables:\n",
      "    10m_u_component_of_wind  (time, latitude, longitude) float32 27MB dask.array<chunksize=(1, 26, 59), meta=np.ndarray>\n",
      "    10m_v_component_of_wind  (time, latitude, longitude) float32 27MB dask.array<chunksize=(1, 26, 59), meta=np.ndarray>\n",
      "    2m_temperature           (time, latitude, longitude) float32 27MB dask.array<chunksize=(1, 26, 59), meta=np.ndarray>\n",
      "    mean_sea_level_pressure  (time, latitude, longitude) float32 27MB dask.array<chunksize=(1, 26, 59), meta=np.ndarray>\n",
      "    total_precipitation_6hr  (time, latitude, longitude) float32 27MB dask.array<chunksize=(1, 26, 59), meta=np.ndarray>\n",
      "\n",
      "Variables in ds.data_vars:\n",
      " • 10m_u_component_of_wind        dims=('time', 'latitude', 'longitude')   shape=(4384, 26, 59)\n",
      " • 10m_v_component_of_wind        dims=('time', 'latitude', 'longitude')   shape=(4384, 26, 59)\n",
      " • 2m_temperature                 dims=('time', 'latitude', 'longitude')   shape=(4384, 26, 59)\n",
      " • mean_sea_level_pressure        dims=('time', 'latitude', 'longitude')   shape=(4384, 26, 59)\n",
      " • total_precipitation_6hr        dims=('time', 'latitude', 'longitude')   shape=(4384, 26, 59)\n",
      "\n",
      "Coordinates in ds.coords:\n",
      " • latitude = [24.375 25.375 26.375 27.375 28.375] …\n",
      " • longitude = [235.375 236.375 237.375 238.375 239.375] …\n",
      " • time = ['2020-01-01T00:00:00.000000000' '2020-01-01T06:00:00.000000000'\n",
      " '2020-01-01T12:00:00.000000000' '2020-01-01T18:00:00.000000000'\n",
      " '2020-01-02T00:00:00.000000000'] …\n"
     ]
    }
   ],
   "source": [
    "\n",
    "\n",
    "# ─── 1) Inspect your ERA5 dataset ──────────────────────────────────────────────\n",
    "ERA5_STORE = \"ERA5_2020-2022_6h_5VAR_1.0.zarr\"\n",
    "ds = xr.open_zarr(ERA5_STORE)\n",
    "\n",
    "print(\"=== ERA5 DATASET SUMMARY ===\")\n",
    "print(ds)                        # full summary: dims, coords, data_vars\n",
    "print(\"\\nVariables in ds.data_vars:\")\n",
    "for name, var in ds.data_vars.items():\n",
    "    print(f\" • {name:30s} dims={var.dims}   shape={tuple(var.shape)}\")\n",
    "\n",
    "print(\"\\nCoordinates in ds.coords:\")\n",
    "for coord in ds.coords:\n",
    "    print(\" •\", coord, \"=\", ds.coords[coord].values[:5], \"…\")\n",
    "\n"
   ]
  },
  {
   "cell_type": "markdown",
   "id": "baf520d4",
   "metadata": {},
   "source": [
    "augment arrival data with weather data"
   ]
  },
  {
   "cell_type": "code",
   "execution_count": null,
   "id": "a5e20363",
   "metadata": {},
   "outputs": [
    {
     "name": "stdout",
     "output_type": "stream",
     "text": [
      "dims before subsetting: FrozenMappingWarningOnValuesAccess({'time': 4384, 'lat': 105, 'lon': 237})\n"
     ]
    }
   ],
   "source": [
    "import os\n",
    "import numpy as np\n",
    "import pandas as pd\n",
    "import xarray as xr\n",
    "#!pip install pyproj\n",
    "from pyproj import geod\n",
    "\n",
    "# ─── CONFIG ───────────────────────────────────────────────────────────────────\n",
    "ERA5_STORE   = \"ERA5_2020-2022_6h_5VAR_0.25.zarr\"\n",
    "MASTER_COORD = \"Datasets/T_MASTER_CORD.csv\"\n",
    "ARRIVAL_DIR  = \"Datasets/Arrival_Statistics/2020-2022\"\n",
    "OUTPUT_DIR   = \"Datasets/Arrival_With_Weather/2020-2022\"\n",
    "\n",
    "VARS = [\n",
    "    \"2m_temperature\",\n",
    "    \"mean_sea_level_pressure\",\n",
    "    \"10m_u_component_of_wind\",\n",
    "    \"10m_v_component_of_wind\",\n",
    "    \"total_precipitation_6hr\"\n",
    "]\n",
    "\n",
    "\n",
    "\n",
    "os.makedirs(OUTPUT_DIR, exist_ok=True)\n",
    "\n",
    "# ─── 1) load ERA5 & rename dims ───────────────────────────────────────────────\n",
    "ds = xr.open_zarr(ERA5_STORE, consolidated=True)\n",
    "\n",
    "if \"latitude\" in ds.dims and \"longitude\" in ds.dims:\n",
    "    ds = ds.rename({\"latitude\": \"lat\", \"longitude\": \"lon\"})\n",
    "\n",
    "print(\"dims before subsetting:\", ds.dims)\n",
    "\n",
    "# ─── 1b) wrap & sort lon/lat, then slice just over the U.S. ────────────────\n",
    "# Only do this slice if flight data contains only Domestic U.S. Flights and weather data contains the world.\n",
    "#us_lon_min, us_lon_max = 235.0, 294.0   # [0–360] U.S. longitudes\n",
    "#us_lat_min, us_lat_max =  24.0,  50.0   # U.S. latitudes\n",
    "\n",
    "#ds = (ds.assign_coords(lon=((ds.lon + 360) % 360)).sortby(\"lon\").sortby(\"lat\").sel(lon=slice(us_lon_min, us_lon_max),lat=slice(us_lat_min, us_lat_max)))\n",
    "#print(\"dims after subsetting:\", ds.dims)\n",
    "\n",
    "# ─── 2) build your fast lookup arrays ────────────────────────────────────────\n",
    "time_index = ds[\"time\"].to_index()\n",
    "lat_vals    = ds[\"lat\"].values\n",
    "lon_vals    = ds[\"lon\"].values\n",
    "var_arrays = {var: ds[var].data.compute()  for var in VARS}\n",
    "\n",
    "\n",
    "# ─── 3) load master coords ───────────────────────────────────────────────────\n",
    "mc = (\n",
    "    pd.read_csv(MASTER_COORD, dtype=str)\n",
    "      .set_index(\"AIRPORT_SEQ_ID\")[[\"LATITUDE\",\"LONGITUDE\"]]\n",
    "      .astype(float)\n",
    ")\n",
    "\n",
    "# ─── 4) helpers ─────────────────────────────────────────────\n",
    "def parse_hhmm(x):\n",
    "    if pd.isna(x) or not str(x).strip():\n",
    "        return pd.NaT\n",
    "    s = str(int(float(x))).zfill(4)\n",
    "    return pd.Timedelta(hours=int(s[:2]), minutes=int(s[2:]))\n",
    "\n",
    "\n",
    "\n",
    "# ─── then your make_weather_lookup becomes ─────────────────────────────────\n",
    "def make_weather_lookup(keys: pd.DataFrame) -> pd.DataFrame:\n",
    "    sub = keys.copy()\n",
    "    sub[\"lat\"] = sub[\"AirportSeqID\"].map(mc[\"LATITUDE\"])\n",
    "    sub[\"lon\"] = sub[\"AirportSeqID\"].map(mc[\"LONGITUDE\"]) % 360.0\n",
    "    \n",
    "    \n",
    "    #sub = sub.dropna(subset=[\"Datetime\",\"lat\",\"lon\"])\n",
    "    if sub.empty:\n",
    "        return pd.DataFrame(columns=VARS,\n",
    "                            index=pd.MultiIndex.from_arrays([[],[]],\n",
    "                                                           names=[\"AirportSeqID\",\"Datetime\"]))\n",
    "\n",
    "    # 1) nearest‐time\n",
    "    t_idx = time_index.get_indexer(sub[\"Datetime\"], method=\"nearest\")\n",
    "\n",
    "    # 2) nearest‐lat/lon\n",
    "    sub_lat = sub[\"lat\"].to_numpy()\n",
    "    sub_lon = sub[\"lon\"].to_numpy()\n",
    "    l_idx = np.abs(lat_vals[None,:] - sub_lat[:,None]).argmin(axis=1)\n",
    "    o_idx = np.abs(lon_vals[None,:] - sub_lon[:,None]).argmin(axis=1)\n",
    "\n",
    "    # 3) pull out each VAR from our preloaded var_arrays\n",
    "    out = {}\n",
    "    for var in VARS:\n",
    "        arr = var_arrays[var]   # pure numpy now\n",
    "        out[var] = arr[t_idx, l_idx, o_idx]\n",
    "\n",
    "    # 4) assemble a DataFrame and re‑index\n",
    "    df_lkp = pd.DataFrame(out, index=sub.index)\n",
    "    df_lkp.index = pd.MultiIndex.from_frame(\n",
    "        sub[[\"AirportSeqID\",\"Datetime\"]],\n",
    "        names=[\"AirportSeqID\",\"Datetime\"]\n",
    "    )\n",
    "    return df_lkp\n",
    "\n",
    "\n",
    "# unused code to extract points along expected route for further prediction\n",
    "def make_route_lookup(df: pd.DataFrame, spacing_miles=100) -> pd.DataFrame:\n",
    "    \"\"\"\n",
    "    For each flight (row of df), sample points every ~spacing_miles along the\n",
    "    great‐circle from origin→dest at the departure time. Then compute\n",
    "    mean/min/max for each VAR along that route.\n",
    "    \"\"\"\n",
    "    records = []\n",
    "    for idx, row in df.iterrows():\n",
    "        orig = row[\"OriginAirportSeqID\"]\n",
    "        dest = row[\"DestAirportSeqID\"]\n",
    "        t0   = row[\"DepDatetime\"]\n",
    "\n",
    "        lat0, lon0 = mc.loc[orig]\n",
    "        lat1, lon1 = mc.loc[dest]\n",
    "        # total distance in meters:\n",
    "        _,_,dist_m = geod.inv(lon0, lat0, lon1, lat1)\n",
    "        # number of segments\n",
    "        nseg = max(1, int(dist_m / (spacing_miles*1609.34)))\n",
    "        # intermediate points (excluding endpoints)\n",
    "        pts = geod.npts(lon0, lat0, lon1, lat1, nseg-1)\n",
    "        # build full list including endpoints\n",
    "        all_pts = [(lat0,lon0)] + [(lat,lon) for lon,lat in pts] + [(lat1,lon1)]\n",
    "\n",
    "        t_idx = time_index.get_indexer([t0], method=\"nearest\")[0]\n",
    "        vals = {var: [] for var in VARS}\n",
    "\n",
    "        for lat, lon in all_pts:\n",
    "            # nearest grid\n",
    "            i_lat = np.abs(lat_vals - lat).argmin()\n",
    "            i_lon = np.abs(lon_vals - (lon%360)).argmin()\n",
    "            for var in VARS:\n",
    "                vals[var].append(var_arrays[var][t_idx, i_lat, i_lon])\n",
    "\n",
    "        # compute summaries\n",
    "        rec = {\"AirportSeqID\": orig, \"Datetime\": t0}\n",
    "        for var, arr in vals.items():\n",
    "            rec[f\"Route_{var}_mean\"] = np.nanmean(arr)\n",
    "            rec[f\"Route_{var}_min\"]  = np.nanmin(arr)\n",
    "            rec[f\"Route_{var}_max\"]  = np.nanmax(arr)\n",
    "        records.append(rec)\n",
    "\n",
    "    if not records:\n",
    "        return pd.DataFrame([], columns=[f\"Route_{v}_{s}\" for v in VARS for s in (\"mean\",\"min\",\"max\")],\n",
    "                            index=pd.MultiIndex(levels=[[],[]], codes=[[],[]],\n",
    "                                                names=[\"AirportSeqID\",\"Datetime\"]))\n",
    "\n",
    "    df_route = pd.DataFrame(records)\n",
    "    idx = pd.MultiIndex.from_frame(df_route[[\"AirportSeqID\",\"Datetime\"]],\n",
    "                                   names=[\"AirportSeqID\",\"Datetime\"])\n",
    "    df_route.index = idx\n",
    "    return df_route.drop(columns=[\"AirportSeqID\",\"Datetime\"])\n",
    "\n",
    "\n",
    "\n",
    "\n"
   ]
  },
  {
   "cell_type": "code",
   "execution_count": 11,
   "id": "657fd9fb",
   "metadata": {},
   "outputs": [
    {
     "name": "stdout",
     "output_type": "stream",
     "text": [
      "→ augmenting On_Time_Reporting_Carrier_On_Time_Performance_(1987_present)_2020_1.csv\n"
     ]
    },
    {
     "name": "stderr",
     "output_type": "stream",
     "text": [
      "C:\\Users\\ebror\\AppData\\Local\\Temp\\ipykernel_31592\\3010907270.py:39: FutureWarning: Downcasting behavior in `replace` is deprecated and will be removed in a future version. To retain the old behavior, explicitly call `result.infer_objects(copy=False)`. To opt-in to the future behavior, set `pd.set_option('future.no_silent_downcasting', True)`\n",
      "  df.replace(r'^\\s*$', np.nan, regex=True, inplace=True)\n"
     ]
    },
    {
     "name": "stdout",
     "output_type": "stream",
     "text": [
      "   saved → Datasets/Arrival_With_Weather/2020-2022\\On_Time_Reporting_Carrier_On_Time_Performance_(1987_present)_2020_1.csv\n",
      "→ augmenting On_Time_Reporting_Carrier_On_Time_Performance_(1987_present)_2020_10.csv\n"
     ]
    },
    {
     "name": "stderr",
     "output_type": "stream",
     "text": [
      "C:\\Users\\ebror\\AppData\\Local\\Temp\\ipykernel_31592\\3010907270.py:39: FutureWarning: Downcasting behavior in `replace` is deprecated and will be removed in a future version. To retain the old behavior, explicitly call `result.infer_objects(copy=False)`. To opt-in to the future behavior, set `pd.set_option('future.no_silent_downcasting', True)`\n",
      "  df.replace(r'^\\s*$', np.nan, regex=True, inplace=True)\n"
     ]
    },
    {
     "name": "stdout",
     "output_type": "stream",
     "text": [
      "   saved → Datasets/Arrival_With_Weather/2020-2022\\On_Time_Reporting_Carrier_On_Time_Performance_(1987_present)_2020_10.csv\n",
      "→ augmenting On_Time_Reporting_Carrier_On_Time_Performance_(1987_present)_2020_11.csv\n"
     ]
    },
    {
     "name": "stderr",
     "output_type": "stream",
     "text": [
      "C:\\Users\\ebror\\AppData\\Local\\Temp\\ipykernel_31592\\3010907270.py:39: FutureWarning: Downcasting behavior in `replace` is deprecated and will be removed in a future version. To retain the old behavior, explicitly call `result.infer_objects(copy=False)`. To opt-in to the future behavior, set `pd.set_option('future.no_silent_downcasting', True)`\n",
      "  df.replace(r'^\\s*$', np.nan, regex=True, inplace=True)\n"
     ]
    },
    {
     "name": "stdout",
     "output_type": "stream",
     "text": [
      "   saved → Datasets/Arrival_With_Weather/2020-2022\\On_Time_Reporting_Carrier_On_Time_Performance_(1987_present)_2020_11.csv\n",
      "→ augmenting On_Time_Reporting_Carrier_On_Time_Performance_(1987_present)_2020_12.csv\n"
     ]
    },
    {
     "name": "stderr",
     "output_type": "stream",
     "text": [
      "C:\\Users\\ebror\\AppData\\Local\\Temp\\ipykernel_31592\\3010907270.py:39: FutureWarning: Downcasting behavior in `replace` is deprecated and will be removed in a future version. To retain the old behavior, explicitly call `result.infer_objects(copy=False)`. To opt-in to the future behavior, set `pd.set_option('future.no_silent_downcasting', True)`\n",
      "  df.replace(r'^\\s*$', np.nan, regex=True, inplace=True)\n"
     ]
    },
    {
     "name": "stdout",
     "output_type": "stream",
     "text": [
      "   saved → Datasets/Arrival_With_Weather/2020-2022\\On_Time_Reporting_Carrier_On_Time_Performance_(1987_present)_2020_12.csv\n",
      "→ augmenting On_Time_Reporting_Carrier_On_Time_Performance_(1987_present)_2020_2.csv\n"
     ]
    },
    {
     "name": "stderr",
     "output_type": "stream",
     "text": [
      "C:\\Users\\ebror\\AppData\\Local\\Temp\\ipykernel_31592\\3010907270.py:39: FutureWarning: Downcasting behavior in `replace` is deprecated and will be removed in a future version. To retain the old behavior, explicitly call `result.infer_objects(copy=False)`. To opt-in to the future behavior, set `pd.set_option('future.no_silent_downcasting', True)`\n",
      "  df.replace(r'^\\s*$', np.nan, regex=True, inplace=True)\n"
     ]
    },
    {
     "name": "stdout",
     "output_type": "stream",
     "text": [
      "   saved → Datasets/Arrival_With_Weather/2020-2022\\On_Time_Reporting_Carrier_On_Time_Performance_(1987_present)_2020_2.csv\n",
      "→ augmenting On_Time_Reporting_Carrier_On_Time_Performance_(1987_present)_2020_3.csv\n"
     ]
    },
    {
     "name": "stderr",
     "output_type": "stream",
     "text": [
      "C:\\Users\\ebror\\AppData\\Local\\Temp\\ipykernel_31592\\3010907270.py:39: FutureWarning: Downcasting behavior in `replace` is deprecated and will be removed in a future version. To retain the old behavior, explicitly call `result.infer_objects(copy=False)`. To opt-in to the future behavior, set `pd.set_option('future.no_silent_downcasting', True)`\n",
      "  df.replace(r'^\\s*$', np.nan, regex=True, inplace=True)\n"
     ]
    },
    {
     "name": "stdout",
     "output_type": "stream",
     "text": [
      "   saved → Datasets/Arrival_With_Weather/2020-2022\\On_Time_Reporting_Carrier_On_Time_Performance_(1987_present)_2020_3.csv\n",
      "→ augmenting On_Time_Reporting_Carrier_On_Time_Performance_(1987_present)_2020_4.csv\n"
     ]
    },
    {
     "name": "stderr",
     "output_type": "stream",
     "text": [
      "C:\\Users\\ebror\\AppData\\Local\\Temp\\ipykernel_31592\\3010907270.py:39: FutureWarning: Downcasting behavior in `replace` is deprecated and will be removed in a future version. To retain the old behavior, explicitly call `result.infer_objects(copy=False)`. To opt-in to the future behavior, set `pd.set_option('future.no_silent_downcasting', True)`\n",
      "  df.replace(r'^\\s*$', np.nan, regex=True, inplace=True)\n"
     ]
    },
    {
     "name": "stdout",
     "output_type": "stream",
     "text": [
      "   saved → Datasets/Arrival_With_Weather/2020-2022\\On_Time_Reporting_Carrier_On_Time_Performance_(1987_present)_2020_4.csv\n",
      "→ augmenting On_Time_Reporting_Carrier_On_Time_Performance_(1987_present)_2020_5.csv\n"
     ]
    },
    {
     "name": "stderr",
     "output_type": "stream",
     "text": [
      "C:\\Users\\ebror\\AppData\\Local\\Temp\\ipykernel_31592\\3010907270.py:39: FutureWarning: Downcasting behavior in `replace` is deprecated and will be removed in a future version. To retain the old behavior, explicitly call `result.infer_objects(copy=False)`. To opt-in to the future behavior, set `pd.set_option('future.no_silent_downcasting', True)`\n",
      "  df.replace(r'^\\s*$', np.nan, regex=True, inplace=True)\n"
     ]
    },
    {
     "name": "stdout",
     "output_type": "stream",
     "text": [
      "   saved → Datasets/Arrival_With_Weather/2020-2022\\On_Time_Reporting_Carrier_On_Time_Performance_(1987_present)_2020_5.csv\n",
      "→ augmenting On_Time_Reporting_Carrier_On_Time_Performance_(1987_present)_2020_6.csv\n"
     ]
    },
    {
     "name": "stderr",
     "output_type": "stream",
     "text": [
      "C:\\Users\\ebror\\AppData\\Local\\Temp\\ipykernel_31592\\3010907270.py:39: FutureWarning: Downcasting behavior in `replace` is deprecated and will be removed in a future version. To retain the old behavior, explicitly call `result.infer_objects(copy=False)`. To opt-in to the future behavior, set `pd.set_option('future.no_silent_downcasting', True)`\n",
      "  df.replace(r'^\\s*$', np.nan, regex=True, inplace=True)\n"
     ]
    },
    {
     "name": "stdout",
     "output_type": "stream",
     "text": [
      "   saved → Datasets/Arrival_With_Weather/2020-2022\\On_Time_Reporting_Carrier_On_Time_Performance_(1987_present)_2020_6.csv\n",
      "→ augmenting On_Time_Reporting_Carrier_On_Time_Performance_(1987_present)_2020_7.csv\n"
     ]
    },
    {
     "name": "stderr",
     "output_type": "stream",
     "text": [
      "C:\\Users\\ebror\\AppData\\Local\\Temp\\ipykernel_31592\\3010907270.py:39: FutureWarning: Downcasting behavior in `replace` is deprecated and will be removed in a future version. To retain the old behavior, explicitly call `result.infer_objects(copy=False)`. To opt-in to the future behavior, set `pd.set_option('future.no_silent_downcasting', True)`\n",
      "  df.replace(r'^\\s*$', np.nan, regex=True, inplace=True)\n"
     ]
    },
    {
     "name": "stdout",
     "output_type": "stream",
     "text": [
      "   saved → Datasets/Arrival_With_Weather/2020-2022\\On_Time_Reporting_Carrier_On_Time_Performance_(1987_present)_2020_7.csv\n",
      "→ augmenting On_Time_Reporting_Carrier_On_Time_Performance_(1987_present)_2020_8.csv\n"
     ]
    },
    {
     "name": "stderr",
     "output_type": "stream",
     "text": [
      "C:\\Users\\ebror\\AppData\\Local\\Temp\\ipykernel_31592\\3010907270.py:39: FutureWarning: Downcasting behavior in `replace` is deprecated and will be removed in a future version. To retain the old behavior, explicitly call `result.infer_objects(copy=False)`. To opt-in to the future behavior, set `pd.set_option('future.no_silent_downcasting', True)`\n",
      "  df.replace(r'^\\s*$', np.nan, regex=True, inplace=True)\n"
     ]
    },
    {
     "name": "stdout",
     "output_type": "stream",
     "text": [
      "   saved → Datasets/Arrival_With_Weather/2020-2022\\On_Time_Reporting_Carrier_On_Time_Performance_(1987_present)_2020_8.csv\n",
      "→ augmenting On_Time_Reporting_Carrier_On_Time_Performance_(1987_present)_2020_9.csv\n"
     ]
    },
    {
     "name": "stderr",
     "output_type": "stream",
     "text": [
      "C:\\Users\\ebror\\AppData\\Local\\Temp\\ipykernel_31592\\3010907270.py:39: FutureWarning: Downcasting behavior in `replace` is deprecated and will be removed in a future version. To retain the old behavior, explicitly call `result.infer_objects(copy=False)`. To opt-in to the future behavior, set `pd.set_option('future.no_silent_downcasting', True)`\n",
      "  df.replace(r'^\\s*$', np.nan, regex=True, inplace=True)\n"
     ]
    },
    {
     "name": "stdout",
     "output_type": "stream",
     "text": [
      "   saved → Datasets/Arrival_With_Weather/2020-2022\\On_Time_Reporting_Carrier_On_Time_Performance_(1987_present)_2020_9.csv\n",
      "→ augmenting On_Time_Reporting_Carrier_On_Time_Performance_(1987_present)_2021_1.csv\n"
     ]
    },
    {
     "name": "stderr",
     "output_type": "stream",
     "text": [
      "C:\\Users\\ebror\\AppData\\Local\\Temp\\ipykernel_31592\\3010907270.py:39: FutureWarning: Downcasting behavior in `replace` is deprecated and will be removed in a future version. To retain the old behavior, explicitly call `result.infer_objects(copy=False)`. To opt-in to the future behavior, set `pd.set_option('future.no_silent_downcasting', True)`\n",
      "  df.replace(r'^\\s*$', np.nan, regex=True, inplace=True)\n"
     ]
    },
    {
     "name": "stdout",
     "output_type": "stream",
     "text": [
      "   saved → Datasets/Arrival_With_Weather/2020-2022\\On_Time_Reporting_Carrier_On_Time_Performance_(1987_present)_2021_1.csv\n",
      "→ augmenting On_Time_Reporting_Carrier_On_Time_Performance_(1987_present)_2021_10.csv\n"
     ]
    },
    {
     "name": "stderr",
     "output_type": "stream",
     "text": [
      "C:\\Users\\ebror\\AppData\\Local\\Temp\\ipykernel_31592\\3010907270.py:39: FutureWarning: Downcasting behavior in `replace` is deprecated and will be removed in a future version. To retain the old behavior, explicitly call `result.infer_objects(copy=False)`. To opt-in to the future behavior, set `pd.set_option('future.no_silent_downcasting', True)`\n",
      "  df.replace(r'^\\s*$', np.nan, regex=True, inplace=True)\n"
     ]
    },
    {
     "name": "stdout",
     "output_type": "stream",
     "text": [
      "   saved → Datasets/Arrival_With_Weather/2020-2022\\On_Time_Reporting_Carrier_On_Time_Performance_(1987_present)_2021_10.csv\n",
      "→ augmenting On_Time_Reporting_Carrier_On_Time_Performance_(1987_present)_2021_11.csv\n"
     ]
    },
    {
     "name": "stderr",
     "output_type": "stream",
     "text": [
      "C:\\Users\\ebror\\AppData\\Local\\Temp\\ipykernel_31592\\3010907270.py:39: FutureWarning: Downcasting behavior in `replace` is deprecated and will be removed in a future version. To retain the old behavior, explicitly call `result.infer_objects(copy=False)`. To opt-in to the future behavior, set `pd.set_option('future.no_silent_downcasting', True)`\n",
      "  df.replace(r'^\\s*$', np.nan, regex=True, inplace=True)\n"
     ]
    },
    {
     "name": "stdout",
     "output_type": "stream",
     "text": [
      "   saved → Datasets/Arrival_With_Weather/2020-2022\\On_Time_Reporting_Carrier_On_Time_Performance_(1987_present)_2021_11.csv\n",
      "→ augmenting On_Time_Reporting_Carrier_On_Time_Performance_(1987_present)_2021_12.csv\n"
     ]
    },
    {
     "name": "stderr",
     "output_type": "stream",
     "text": [
      "C:\\Users\\ebror\\AppData\\Local\\Temp\\ipykernel_31592\\3010907270.py:39: FutureWarning: Downcasting behavior in `replace` is deprecated and will be removed in a future version. To retain the old behavior, explicitly call `result.infer_objects(copy=False)`. To opt-in to the future behavior, set `pd.set_option('future.no_silent_downcasting', True)`\n",
      "  df.replace(r'^\\s*$', np.nan, regex=True, inplace=True)\n"
     ]
    },
    {
     "name": "stdout",
     "output_type": "stream",
     "text": [
      "   saved → Datasets/Arrival_With_Weather/2020-2022\\On_Time_Reporting_Carrier_On_Time_Performance_(1987_present)_2021_12.csv\n",
      "→ augmenting On_Time_Reporting_Carrier_On_Time_Performance_(1987_present)_2021_2.csv\n"
     ]
    },
    {
     "name": "stderr",
     "output_type": "stream",
     "text": [
      "C:\\Users\\ebror\\AppData\\Local\\Temp\\ipykernel_31592\\3010907270.py:39: FutureWarning: Downcasting behavior in `replace` is deprecated and will be removed in a future version. To retain the old behavior, explicitly call `result.infer_objects(copy=False)`. To opt-in to the future behavior, set `pd.set_option('future.no_silent_downcasting', True)`\n",
      "  df.replace(r'^\\s*$', np.nan, regex=True, inplace=True)\n"
     ]
    },
    {
     "name": "stdout",
     "output_type": "stream",
     "text": [
      "   saved → Datasets/Arrival_With_Weather/2020-2022\\On_Time_Reporting_Carrier_On_Time_Performance_(1987_present)_2021_2.csv\n",
      "→ augmenting On_Time_Reporting_Carrier_On_Time_Performance_(1987_present)_2021_3.csv\n"
     ]
    },
    {
     "name": "stderr",
     "output_type": "stream",
     "text": [
      "C:\\Users\\ebror\\AppData\\Local\\Temp\\ipykernel_31592\\3010907270.py:39: FutureWarning: Downcasting behavior in `replace` is deprecated and will be removed in a future version. To retain the old behavior, explicitly call `result.infer_objects(copy=False)`. To opt-in to the future behavior, set `pd.set_option('future.no_silent_downcasting', True)`\n",
      "  df.replace(r'^\\s*$', np.nan, regex=True, inplace=True)\n"
     ]
    },
    {
     "name": "stdout",
     "output_type": "stream",
     "text": [
      "   saved → Datasets/Arrival_With_Weather/2020-2022\\On_Time_Reporting_Carrier_On_Time_Performance_(1987_present)_2021_3.csv\n",
      "→ augmenting On_Time_Reporting_Carrier_On_Time_Performance_(1987_present)_2021_4.csv\n"
     ]
    },
    {
     "name": "stderr",
     "output_type": "stream",
     "text": [
      "C:\\Users\\ebror\\AppData\\Local\\Temp\\ipykernel_31592\\3010907270.py:39: FutureWarning: Downcasting behavior in `replace` is deprecated and will be removed in a future version. To retain the old behavior, explicitly call `result.infer_objects(copy=False)`. To opt-in to the future behavior, set `pd.set_option('future.no_silent_downcasting', True)`\n",
      "  df.replace(r'^\\s*$', np.nan, regex=True, inplace=True)\n"
     ]
    },
    {
     "name": "stdout",
     "output_type": "stream",
     "text": [
      "   saved → Datasets/Arrival_With_Weather/2020-2022\\On_Time_Reporting_Carrier_On_Time_Performance_(1987_present)_2021_4.csv\n",
      "→ augmenting On_Time_Reporting_Carrier_On_Time_Performance_(1987_present)_2021_5.csv\n"
     ]
    },
    {
     "name": "stderr",
     "output_type": "stream",
     "text": [
      "C:\\Users\\ebror\\AppData\\Local\\Temp\\ipykernel_31592\\3010907270.py:39: FutureWarning: Downcasting behavior in `replace` is deprecated and will be removed in a future version. To retain the old behavior, explicitly call `result.infer_objects(copy=False)`. To opt-in to the future behavior, set `pd.set_option('future.no_silent_downcasting', True)`\n",
      "  df.replace(r'^\\s*$', np.nan, regex=True, inplace=True)\n"
     ]
    },
    {
     "name": "stdout",
     "output_type": "stream",
     "text": [
      "   saved → Datasets/Arrival_With_Weather/2020-2022\\On_Time_Reporting_Carrier_On_Time_Performance_(1987_present)_2021_5.csv\n",
      "→ augmenting On_Time_Reporting_Carrier_On_Time_Performance_(1987_present)_2021_6.csv\n"
     ]
    },
    {
     "name": "stderr",
     "output_type": "stream",
     "text": [
      "C:\\Users\\ebror\\AppData\\Local\\Temp\\ipykernel_31592\\3010907270.py:39: FutureWarning: Downcasting behavior in `replace` is deprecated and will be removed in a future version. To retain the old behavior, explicitly call `result.infer_objects(copy=False)`. To opt-in to the future behavior, set `pd.set_option('future.no_silent_downcasting', True)`\n",
      "  df.replace(r'^\\s*$', np.nan, regex=True, inplace=True)\n"
     ]
    },
    {
     "name": "stdout",
     "output_type": "stream",
     "text": [
      "   saved → Datasets/Arrival_With_Weather/2020-2022\\On_Time_Reporting_Carrier_On_Time_Performance_(1987_present)_2021_6.csv\n",
      "→ augmenting On_Time_Reporting_Carrier_On_Time_Performance_(1987_present)_2021_7.csv\n"
     ]
    },
    {
     "name": "stderr",
     "output_type": "stream",
     "text": [
      "C:\\Users\\ebror\\AppData\\Local\\Temp\\ipykernel_31592\\3010907270.py:39: FutureWarning: Downcasting behavior in `replace` is deprecated and will be removed in a future version. To retain the old behavior, explicitly call `result.infer_objects(copy=False)`. To opt-in to the future behavior, set `pd.set_option('future.no_silent_downcasting', True)`\n",
      "  df.replace(r'^\\s*$', np.nan, regex=True, inplace=True)\n"
     ]
    },
    {
     "name": "stdout",
     "output_type": "stream",
     "text": [
      "   saved → Datasets/Arrival_With_Weather/2020-2022\\On_Time_Reporting_Carrier_On_Time_Performance_(1987_present)_2021_7.csv\n",
      "→ augmenting On_Time_Reporting_Carrier_On_Time_Performance_(1987_present)_2021_8.csv\n"
     ]
    },
    {
     "name": "stderr",
     "output_type": "stream",
     "text": [
      "C:\\Users\\ebror\\AppData\\Local\\Temp\\ipykernel_31592\\3010907270.py:39: FutureWarning: Downcasting behavior in `replace` is deprecated and will be removed in a future version. To retain the old behavior, explicitly call `result.infer_objects(copy=False)`. To opt-in to the future behavior, set `pd.set_option('future.no_silent_downcasting', True)`\n",
      "  df.replace(r'^\\s*$', np.nan, regex=True, inplace=True)\n"
     ]
    },
    {
     "name": "stdout",
     "output_type": "stream",
     "text": [
      "   saved → Datasets/Arrival_With_Weather/2020-2022\\On_Time_Reporting_Carrier_On_Time_Performance_(1987_present)_2021_8.csv\n",
      "→ augmenting On_Time_Reporting_Carrier_On_Time_Performance_(1987_present)_2021_9.csv\n"
     ]
    },
    {
     "name": "stderr",
     "output_type": "stream",
     "text": [
      "C:\\Users\\ebror\\AppData\\Local\\Temp\\ipykernel_31592\\3010907270.py:39: FutureWarning: Downcasting behavior in `replace` is deprecated and will be removed in a future version. To retain the old behavior, explicitly call `result.infer_objects(copy=False)`. To opt-in to the future behavior, set `pd.set_option('future.no_silent_downcasting', True)`\n",
      "  df.replace(r'^\\s*$', np.nan, regex=True, inplace=True)\n"
     ]
    },
    {
     "name": "stdout",
     "output_type": "stream",
     "text": [
      "   saved → Datasets/Arrival_With_Weather/2020-2022\\On_Time_Reporting_Carrier_On_Time_Performance_(1987_present)_2021_9.csv\n",
      "→ augmenting On_Time_Reporting_Carrier_On_Time_Performance_(1987_present)_2022_1.csv\n"
     ]
    },
    {
     "name": "stderr",
     "output_type": "stream",
     "text": [
      "C:\\Users\\ebror\\AppData\\Local\\Temp\\ipykernel_31592\\3010907270.py:39: FutureWarning: Downcasting behavior in `replace` is deprecated and will be removed in a future version. To retain the old behavior, explicitly call `result.infer_objects(copy=False)`. To opt-in to the future behavior, set `pd.set_option('future.no_silent_downcasting', True)`\n",
      "  df.replace(r'^\\s*$', np.nan, regex=True, inplace=True)\n"
     ]
    },
    {
     "name": "stdout",
     "output_type": "stream",
     "text": [
      "   saved → Datasets/Arrival_With_Weather/2020-2022\\On_Time_Reporting_Carrier_On_Time_Performance_(1987_present)_2022_1.csv\n",
      "→ augmenting On_Time_Reporting_Carrier_On_Time_Performance_(1987_present)_2022_10.csv\n"
     ]
    },
    {
     "name": "stderr",
     "output_type": "stream",
     "text": [
      "C:\\Users\\ebror\\AppData\\Local\\Temp\\ipykernel_31592\\3010907270.py:39: FutureWarning: Downcasting behavior in `replace` is deprecated and will be removed in a future version. To retain the old behavior, explicitly call `result.infer_objects(copy=False)`. To opt-in to the future behavior, set `pd.set_option('future.no_silent_downcasting', True)`\n",
      "  df.replace(r'^\\s*$', np.nan, regex=True, inplace=True)\n"
     ]
    },
    {
     "name": "stdout",
     "output_type": "stream",
     "text": [
      "   saved → Datasets/Arrival_With_Weather/2020-2022\\On_Time_Reporting_Carrier_On_Time_Performance_(1987_present)_2022_10.csv\n",
      "→ augmenting On_Time_Reporting_Carrier_On_Time_Performance_(1987_present)_2022_11.csv\n"
     ]
    },
    {
     "name": "stderr",
     "output_type": "stream",
     "text": [
      "C:\\Users\\ebror\\AppData\\Local\\Temp\\ipykernel_31592\\3010907270.py:39: FutureWarning: Downcasting behavior in `replace` is deprecated and will be removed in a future version. To retain the old behavior, explicitly call `result.infer_objects(copy=False)`. To opt-in to the future behavior, set `pd.set_option('future.no_silent_downcasting', True)`\n",
      "  df.replace(r'^\\s*$', np.nan, regex=True, inplace=True)\n"
     ]
    },
    {
     "name": "stdout",
     "output_type": "stream",
     "text": [
      "   saved → Datasets/Arrival_With_Weather/2020-2022\\On_Time_Reporting_Carrier_On_Time_Performance_(1987_present)_2022_11.csv\n",
      "→ augmenting On_Time_Reporting_Carrier_On_Time_Performance_(1987_present)_2022_12.csv\n"
     ]
    },
    {
     "name": "stderr",
     "output_type": "stream",
     "text": [
      "C:\\Users\\ebror\\AppData\\Local\\Temp\\ipykernel_31592\\3010907270.py:39: FutureWarning: Downcasting behavior in `replace` is deprecated and will be removed in a future version. To retain the old behavior, explicitly call `result.infer_objects(copy=False)`. To opt-in to the future behavior, set `pd.set_option('future.no_silent_downcasting', True)`\n",
      "  df.replace(r'^\\s*$', np.nan, regex=True, inplace=True)\n"
     ]
    },
    {
     "name": "stdout",
     "output_type": "stream",
     "text": [
      "   saved → Datasets/Arrival_With_Weather/2020-2022\\On_Time_Reporting_Carrier_On_Time_Performance_(1987_present)_2022_12.csv\n",
      "→ augmenting On_Time_Reporting_Carrier_On_Time_Performance_(1987_present)_2022_2.csv\n"
     ]
    },
    {
     "name": "stderr",
     "output_type": "stream",
     "text": [
      "C:\\Users\\ebror\\AppData\\Local\\Temp\\ipykernel_31592\\3010907270.py:39: FutureWarning: Downcasting behavior in `replace` is deprecated and will be removed in a future version. To retain the old behavior, explicitly call `result.infer_objects(copy=False)`. To opt-in to the future behavior, set `pd.set_option('future.no_silent_downcasting', True)`\n",
      "  df.replace(r'^\\s*$', np.nan, regex=True, inplace=True)\n"
     ]
    },
    {
     "name": "stdout",
     "output_type": "stream",
     "text": [
      "   saved → Datasets/Arrival_With_Weather/2020-2022\\On_Time_Reporting_Carrier_On_Time_Performance_(1987_present)_2022_2.csv\n",
      "→ augmenting On_Time_Reporting_Carrier_On_Time_Performance_(1987_present)_2022_3.csv\n"
     ]
    },
    {
     "name": "stderr",
     "output_type": "stream",
     "text": [
      "C:\\Users\\ebror\\AppData\\Local\\Temp\\ipykernel_31592\\3010907270.py:39: FutureWarning: Downcasting behavior in `replace` is deprecated and will be removed in a future version. To retain the old behavior, explicitly call `result.infer_objects(copy=False)`. To opt-in to the future behavior, set `pd.set_option('future.no_silent_downcasting', True)`\n",
      "  df.replace(r'^\\s*$', np.nan, regex=True, inplace=True)\n"
     ]
    },
    {
     "name": "stdout",
     "output_type": "stream",
     "text": [
      "   saved → Datasets/Arrival_With_Weather/2020-2022\\On_Time_Reporting_Carrier_On_Time_Performance_(1987_present)_2022_3.csv\n",
      "→ augmenting On_Time_Reporting_Carrier_On_Time_Performance_(1987_present)_2022_4.csv\n"
     ]
    },
    {
     "name": "stderr",
     "output_type": "stream",
     "text": [
      "C:\\Users\\ebror\\AppData\\Local\\Temp\\ipykernel_31592\\3010907270.py:39: FutureWarning: Downcasting behavior in `replace` is deprecated and will be removed in a future version. To retain the old behavior, explicitly call `result.infer_objects(copy=False)`. To opt-in to the future behavior, set `pd.set_option('future.no_silent_downcasting', True)`\n",
      "  df.replace(r'^\\s*$', np.nan, regex=True, inplace=True)\n"
     ]
    },
    {
     "name": "stdout",
     "output_type": "stream",
     "text": [
      "   saved → Datasets/Arrival_With_Weather/2020-2022\\On_Time_Reporting_Carrier_On_Time_Performance_(1987_present)_2022_4.csv\n",
      "→ augmenting On_Time_Reporting_Carrier_On_Time_Performance_(1987_present)_2022_5.csv\n"
     ]
    },
    {
     "name": "stderr",
     "output_type": "stream",
     "text": [
      "C:\\Users\\ebror\\AppData\\Local\\Temp\\ipykernel_31592\\3010907270.py:39: FutureWarning: Downcasting behavior in `replace` is deprecated and will be removed in a future version. To retain the old behavior, explicitly call `result.infer_objects(copy=False)`. To opt-in to the future behavior, set `pd.set_option('future.no_silent_downcasting', True)`\n",
      "  df.replace(r'^\\s*$', np.nan, regex=True, inplace=True)\n"
     ]
    },
    {
     "name": "stdout",
     "output_type": "stream",
     "text": [
      "   saved → Datasets/Arrival_With_Weather/2020-2022\\On_Time_Reporting_Carrier_On_Time_Performance_(1987_present)_2022_5.csv\n",
      "→ augmenting On_Time_Reporting_Carrier_On_Time_Performance_(1987_present)_2022_6.csv\n"
     ]
    },
    {
     "name": "stderr",
     "output_type": "stream",
     "text": [
      "C:\\Users\\ebror\\AppData\\Local\\Temp\\ipykernel_31592\\3010907270.py:39: FutureWarning: Downcasting behavior in `replace` is deprecated and will be removed in a future version. To retain the old behavior, explicitly call `result.infer_objects(copy=False)`. To opt-in to the future behavior, set `pd.set_option('future.no_silent_downcasting', True)`\n",
      "  df.replace(r'^\\s*$', np.nan, regex=True, inplace=True)\n"
     ]
    },
    {
     "name": "stdout",
     "output_type": "stream",
     "text": [
      "   saved → Datasets/Arrival_With_Weather/2020-2022\\On_Time_Reporting_Carrier_On_Time_Performance_(1987_present)_2022_6.csv\n",
      "→ augmenting On_Time_Reporting_Carrier_On_Time_Performance_(1987_present)_2022_7.csv\n"
     ]
    },
    {
     "name": "stderr",
     "output_type": "stream",
     "text": [
      "C:\\Users\\ebror\\AppData\\Local\\Temp\\ipykernel_31592\\3010907270.py:39: FutureWarning: Downcasting behavior in `replace` is deprecated and will be removed in a future version. To retain the old behavior, explicitly call `result.infer_objects(copy=False)`. To opt-in to the future behavior, set `pd.set_option('future.no_silent_downcasting', True)`\n",
      "  df.replace(r'^\\s*$', np.nan, regex=True, inplace=True)\n"
     ]
    },
    {
     "name": "stdout",
     "output_type": "stream",
     "text": [
      "   saved → Datasets/Arrival_With_Weather/2020-2022\\On_Time_Reporting_Carrier_On_Time_Performance_(1987_present)_2022_7.csv\n",
      "→ augmenting On_Time_Reporting_Carrier_On_Time_Performance_(1987_present)_2022_8.csv\n"
     ]
    },
    {
     "name": "stderr",
     "output_type": "stream",
     "text": [
      "C:\\Users\\ebror\\AppData\\Local\\Temp\\ipykernel_31592\\3010907270.py:39: FutureWarning: Downcasting behavior in `replace` is deprecated and will be removed in a future version. To retain the old behavior, explicitly call `result.infer_objects(copy=False)`. To opt-in to the future behavior, set `pd.set_option('future.no_silent_downcasting', True)`\n",
      "  df.replace(r'^\\s*$', np.nan, regex=True, inplace=True)\n"
     ]
    },
    {
     "name": "stdout",
     "output_type": "stream",
     "text": [
      "   saved → Datasets/Arrival_With_Weather/2020-2022\\On_Time_Reporting_Carrier_On_Time_Performance_(1987_present)_2022_8.csv\n",
      "→ augmenting On_Time_Reporting_Carrier_On_Time_Performance_(1987_present)_2022_9.csv\n"
     ]
    },
    {
     "name": "stderr",
     "output_type": "stream",
     "text": [
      "C:\\Users\\ebror\\AppData\\Local\\Temp\\ipykernel_31592\\3010907270.py:39: FutureWarning: Downcasting behavior in `replace` is deprecated and will be removed in a future version. To retain the old behavior, explicitly call `result.infer_objects(copy=False)`. To opt-in to the future behavior, set `pd.set_option('future.no_silent_downcasting', True)`\n",
      "  df.replace(r'^\\s*$', np.nan, regex=True, inplace=True)\n"
     ]
    },
    {
     "name": "stdout",
     "output_type": "stream",
     "text": [
      "   saved → Datasets/Arrival_With_Weather/2020-2022\\On_Time_Reporting_Carrier_On_Time_Performance_(1987_present)_2022_9.csv\n"
     ]
    }
   ],
   "source": [
    "for fn in sorted(os.listdir(ARRIVAL_DIR)):\n",
    "    if not fn.lower().endswith(\".csv\"):\n",
    "        continue\n",
    "    print(\"→ augmenting\", fn)\n",
    "    df = pd.read_csv(os.path.join(ARRIVAL_DIR, fn), dtype=str)\n",
    "\n",
    "    # build timestamps\n",
    "    df[\"FlightDate\"]   = pd.to_datetime(df[\"FlightDate\"], format=\"%Y-%m-%d\", errors=\"coerce\")\n",
    "    df[\"DepDelta\"]     = df[\"DepTime\"].apply(parse_hhmm)\n",
    "    df[\"ArrDelta\"]     = df[\"ArrTime\"].apply(parse_hhmm)\n",
    "    df[\"DepDatetime\"]  = df[\"FlightDate\"] + df[\"DepDelta\"]\n",
    "    df[\"ArrDatetime\"]  = df[\"FlightDate\"] + df[\"ArrDelta\"]\n",
    "\n",
    "    # origin & dest lookups\n",
    "    orig = ( df[[\"OriginAirportSeqID\",\"DepDatetime\"]]\n",
    "             .dropna().drop_duplicates()\n",
    "             .rename(columns={\"OriginAirportSeqID\":\"AirportSeqID\",\"DepDatetime\":\"Datetime\"}) )\n",
    "    dest = ( df[[\"DestAirportSeqID\",\"ArrDatetime\"]]\n",
    "             .dropna().drop_duplicates()\n",
    "             .rename(columns={\"DestAirportSeqID\":\"AirportSeqID\",\"ArrDatetime\":\"Datetime\"}) )\n",
    "\n",
    "    orig_lkp  = make_weather_lookup(orig).rename(columns=lambda c: f\"Origin_{c}\")\n",
    "    dest_lkp  = make_weather_lookup(dest).rename(columns=lambda c: f\"Dest_{c}\")\n",
    "\n",
    "    # route lookups\n",
    "    #route_df  = df[[\"OriginAirportSeqID\",\"DepDatetime\"]].dropna().drop_duplicates()\n",
    "    #route_df  = route_df.rename(columns={\"OriginAirportSeqID\":\"AirportSeqID\",\"DepDatetime\":\"Datetime\"})\n",
    "    #route_lkp = make_route_lookup(route_df, spacing_miles=100)\n",
    "\n",
    "    # merge everything back\n",
    "    df = (df\n",
    "          .merge(orig_lkp,  left_on=[\"OriginAirportSeqID\",\"DepDatetime\"], right_index=True, how=\"left\")\n",
    "          .merge(dest_lkp,  left_on=[\"DestAirportSeqID\",\"ArrDatetime\"],   right_index=True, how=\"left\")\n",
    "          #.merge(route_lkp, left_on=[\"OriginAirportSeqID\",\"DepDatetime\"], right_index=True, how=\"left\")\n",
    "        )\n",
    "\n",
    "    # cleanup & save\n",
    "    df.drop(columns=[\"DepDelta\",\"ArrDelta\",\"DepDatetime\",\"ArrDatetime\"], errors=\"ignore\", inplace=True)\n",
    "    df.replace(r'^\\s*$', np.nan, regex=True, inplace=True)\n",
    "    df.dropna(axis=1, how=\"all\", inplace=True)\n",
    "\n",
    "    out = os.path.join(OUTPUT_DIR, fn)\n",
    "    df.to_csv(out, index=False)\n",
    "    print(\"   saved →\", out)"
   ]
  },
  {
   "cell_type": "code",
   "execution_count": 12,
   "id": "1a834100",
   "metadata": {},
   "outputs": [
    {
     "name": "stderr",
     "output_type": "stream",
     "text": [
      "C:\\Users\\ebror\\AppData\\Local\\Temp\\ipykernel_31592\\3948918952.py:5: DtypeWarning: Columns (48,69,76,77,84) have mixed types. Specify dtype option on import or set low_memory=False.\n",
      "  df = pd.read_csv(os.path.join(ARRIVAL_DIR, fn), parse_dates=[\"FlightDate\"])\n"
     ]
    },
    {
     "name": "stdout",
     "output_type": "stream",
     "text": [
      "\n",
      "=== SAMPLE ARRIVAL CSV: On_Time_Reporting_Carrier_On_Time_Performance_(1987_present)_2020_1.csv ===\n",
      "\n",
      "Columns: ['Year', 'Quarter', 'Month', 'DayofMonth', 'DayOfWeek', 'FlightDate', 'Reporting_Airline', 'DOT_ID_Reporting_Airline', 'IATA_CODE_Reporting_Airline', 'Tail_Number', 'Flight_Number_Reporting_Airline', 'OriginAirportID', 'OriginAirportSeqID', 'OriginCityMarketID', 'Origin', 'OriginCityName', 'OriginState', 'OriginStateFips', 'OriginStateName', 'OriginWac', 'DestAirportID', 'DestAirportSeqID', 'DestCityMarketID', 'Dest', 'DestCityName', 'DestState', 'DestStateFips', 'DestStateName', 'DestWac', 'CRSDepTime', 'DepTime', 'DepDelay', 'DepDelayMinutes', 'DepDel15', 'DepartureDelayGroups', 'DepTimeBlk', 'TaxiOut', 'WheelsOff', 'WheelsOn', 'TaxiIn', 'CRSArrTime', 'ArrTime', 'ArrDelay', 'ArrDelayMinutes', 'ArrDel15', 'ArrivalDelayGroups', 'ArrTimeBlk', 'Cancelled', 'CancellationCode', 'Diverted', 'CRSElapsedTime', 'ActualElapsedTime', 'AirTime', 'Flights', 'Distance', 'DistanceGroup', 'CarrierDelay', 'WeatherDelay', 'NASDelay', 'SecurityDelay', 'LateAircraftDelay', 'FirstDepTime', 'TotalAddGTime', 'LongestAddGTime', 'DivAirportLandings', 'DivReachedDest', 'DivActualElapsedTime', 'DivArrDelay', 'DivDistance', 'Div1Airport', 'Div1AirportID', 'Div1AirportSeqID', 'Div1WheelsOn', 'Div1TotalGTime', 'Div1LongestGTime', 'Div1WheelsOff', 'Div1TailNum', 'Div2Airport', 'Div2AirportID', 'Div2AirportSeqID', 'Div2WheelsOn', 'Div2TotalGTime', 'Div2LongestGTime', 'Div2WheelsOff', 'Div2TailNum', 'Origin_2m_temperature', 'Origin_mean_sea_level_pressure', 'Origin_10m_u_component_of_wind', 'Origin_10m_v_component_of_wind', 'Origin_total_precipitation_6hr', 'Dest_2m_temperature', 'Dest_mean_sea_level_pressure', 'Dest_10m_u_component_of_wind', 'Dest_10m_v_component_of_wind', 'Dest_total_precipitation_6hr']\n",
      "\n",
      "First 5 rows:\n",
      "   Year  Quarter  Month  DayofMonth  DayOfWeek FlightDate Reporting_Airline  \\\n",
      "0  2020        1      1          17          5 2020-01-17                B6   \n",
      "1  2020        1      1          18          6 2020-01-18                B6   \n",
      "2  2020        1      1          19          7 2020-01-19                B6   \n",
      "3  2020        1      1          20          1 2020-01-20                B6   \n",
      "4  2020        1      1          21          2 2020-01-21                B6   \n",
      "\n",
      "   DOT_ID_Reporting_Airline IATA_CODE_Reporting_Airline Tail_Number  ...  \\\n",
      "0                     20409                          B6      N661JB  ...   \n",
      "1                     20409                          B6      N584JB  ...   \n",
      "2                     20409                          B6      N662JB  ...   \n",
      "3                     20409                          B6      N784JB  ...   \n",
      "4                     20409                          B6      N784JB  ...   \n",
      "\n",
      "   Origin_2m_temperature  Origin_mean_sea_level_pressure  \\\n",
      "0              297.41843                      102555.180   \n",
      "1              296.14220                      102541.640   \n",
      "2              298.19740                      101954.280   \n",
      "3              293.29083                      101960.960   \n",
      "4              290.89350                      101853.195   \n",
      "\n",
      "   Origin_10m_u_component_of_wind  Origin_10m_v_component_of_wind  \\\n",
      "0                       -7.572047                       -4.783078   \n",
      "1                       -6.024319                        3.832024   \n",
      "2                        1.425548                        3.954334   \n",
      "3                        1.265657                       -6.558300   \n",
      "4                        5.317981                       -7.284566   \n",
      "\n",
      "  Origin_total_precipitation_6hr Dest_2m_temperature  \\\n",
      "0                   6.001405e-04           264.76760   \n",
      "1                   3.824383e-05           267.59805   \n",
      "2                  -1.117587e-08           272.92520   \n",
      "3                   1.746695e-04           265.67078   \n",
      "4                   3.297813e-05           261.80753   \n",
      "\n",
      "  Dest_mean_sea_level_pressure  Dest_10m_u_component_of_wind  \\\n",
      "0                    103905.90                      2.523050   \n",
      "1                    101774.24                     -1.546868   \n",
      "2                    101062.31                      3.529461   \n",
      "3                    102721.19                      2.869700   \n",
      "4                    103107.73                      2.684846   \n",
      "\n",
      "  Dest_10m_v_component_of_wind  Dest_total_precipitation_6hr  \n",
      "0                    -2.797639                 -1.862645e-09  \n",
      "1                     3.089462                  5.056867e-03  \n",
      "2                    -2.081129                  6.651506e-06  \n",
      "3                    -2.142799                 -9.313226e-09  \n",
      "4                    -1.938694                  0.000000e+00  \n",
      "\n",
      "[5 rows x 95 columns]\n"
     ]
    }
   ],
   "source": [
    "# ─── 2) Inspect one of your cleaned arrivals CSVs ──────────────────────────────\n",
    "ARRIVAL_DIR = \"Datasets/Arrival_With_Weather/2020-2022\"\n",
    "# pick the first CSV in the folder\n",
    "fn = sorted([f for f in os.listdir(ARRIVAL_DIR) if f.lower().endswith(\".csv\")])[0]\n",
    "df = pd.read_csv(os.path.join(ARRIVAL_DIR, fn), parse_dates=[\"FlightDate\"])\n",
    "\n",
    "print(\"\\n=== SAMPLE ARRIVAL CSV:\", fn, \"===\\n\")\n",
    "print(\"Columns:\", list(df.columns))\n",
    "print(\"\\nFirst 5 rows:\")\n",
    "print(df.head())"
   ]
  },
  {
   "cell_type": "markdown",
   "id": "5f535d20",
   "metadata": {},
   "source": [
    "Now run preprocessing to merge and format the arrival data for training"
   ]
  }
 ],
 "metadata": {
  "kernelspec": {
   "display_name": "Python 3",
   "language": "python",
   "name": "python3"
  },
  "language_info": {
   "codemirror_mode": {
    "name": "ipython",
    "version": 3
   },
   "file_extension": ".py",
   "mimetype": "text/x-python",
   "name": "python",
   "nbconvert_exporter": "python",
   "pygments_lexer": "ipython3",
   "version": "3.10.16"
  }
 },
 "nbformat": 4,
 "nbformat_minor": 5
}
