{
 "cells": [
  {
   "cell_type": "code",
   "execution_count": 1,
   "metadata": {
    "id": "GlYS371lkUDv"
   },
   "outputs": [],
   "source": [
    "import numpy as np\n",
    "import pandas as pd\n",
    "import matplotlib.pyplot as plt\n",
    "import tensorflow.keras as keras\n",
    "from tensorflow.keras.layers import Layer\n",
    "from sklearn.metrics import mean_squared_error, mean_absolute_error, r2_score, roc_auc_score, roc_curve\n",
    "#!pip install seaborn\n",
    "import seaborn as sns\n",
    "from tensorflow.keras.utils import plot_model, register_keras_serializable\n",
    "from sklearn.preprocessing import label_binarize\n",
    "import tensorflow as tf"
   ]
  },
  {
   "cell_type": "code",
   "execution_count": 2,
   "metadata": {},
   "outputs": [],
   "source": [
    "@register_keras_serializable(package=\"Custom\", name=\"SimpleGraphConv\")\n",
    "class SimpleGraphConv(Layer):\n",
    "    def __init__(self, units, **kwargs):\n",
    "        super().__init__(**kwargs)\n",
    "        self.units = units\n",
    "\n",
    "    def build(self, input_shape):\n",
    "        # input_shape = [(batch, N, F), (batch, N, N)]\n",
    "        F = input_shape[0][-1]\n",
    "        self.w = self.add_weight(\n",
    "            shape=(F, self.units),\n",
    "            initializer=\"glorot_uniform\",\n",
    "            name=\"kernel\")\n",
    "        super().build(input_shape)\n",
    "\n",
    "    def call(self, inputs):\n",
    "        X, A = inputs    # X: (batch, N, F), A: (batch, N, N)\n",
    "        return tf.matmul(A, tf.matmul(X, self.w))\n",
    "\n",
    "\n",
    "@register_keras_serializable(package=\"Custom\", name=\"GCNTimeDistributed\")\n",
    "class GCNTimeDistributed(Layer):\n",
    "    def __init__(self, units, **kwargs):\n",
    "        super().__init__(**kwargs)\n",
    "        self.units = units\n",
    "        # we’ll reuse this conv at each time slice\n",
    "        self.gcn = SimpleGraphConv(units)\n",
    "\n",
    "    def build(self, input_shape):\n",
    "        # input_shape = [(batch, T, N, F), (batch, N, N)]\n",
    "        # we need to build the inner GCN on a flattened time‐slice shape:\n",
    "        # pretend batch' = None and time = 1 so shape = (None, N, F) & (None, N, N)\n",
    "        _, T, N, F = input_shape[0]\n",
    "        # call inner build:\n",
    "        self.gcn.build([(None, N, F), (None, N, N)])\n",
    "        super().build(input_shape)\n",
    "\n",
    "    def call(self, inputs):\n",
    "        X, A = inputs\n",
    "        batch = tf.shape(X)[0]\n",
    "        T     = tf.shape(X)[1]\n",
    "        N     = tf.shape(X)[2]\n",
    "        F     = tf.shape(X)[3]\n",
    "\n",
    "        # 1) collapse time\n",
    "        Xr = tf.reshape(X, (batch * T, N, F))\n",
    "        # 2) tile adjacency\n",
    "        Aexp = tf.expand_dims(A, 1)               # (batch, 1, N, N)\n",
    "        Atil = tf.tile(Aexp, [1, T, 1, 1])         # (batch, T, N, N)\n",
    "        Ar   = tf.reshape(Atil, (batch * T, N, N))\n",
    "        # 3) apply GCN\n",
    "        Yr = self.gcn([Xr, Ar])                    # (batch*T, N, units)\n",
    "        # 4) restore time axis\n",
    "        return tf.reshape(Yr, (batch, T, N, self.units))"
   ]
  },
  {
   "cell_type": "markdown",
   "metadata": {},
   "source": [
    "Load train and test data"
   ]
  },
  {
   "cell_type": "code",
   "execution_count": 15,
   "metadata": {
    "id": "fnL7IcIRkl_c"
   },
   "outputs": [
    {
     "name": "stdout",
     "output_type": "stream",
     "text": [
      "Shapes → X_orig: (316612, 21) X_aug: (317538, 11) Y_test: (316612, 5)\n"
     ]
    }
   ],
   "source": [
    "#X_train = pd.read_csv(\"./data/X_train_lstm.csv\")\n",
    "X_test = pd.read_csv(\"./data/X_test_lstm.csv\")\n",
    "X_test_orig = pd.read_csv(\"./data/old_data/X_test_lstm.csv\")\n",
    "#Y_train = pd.read_csv(\"./data/Y_train_lstm.csv\")\n",
    "Y_test = pd.read_csv(\"./data/Y_test_lstm.csv\")\n",
    "\n",
    "X_train_gnn = np.load(\"./data/X_train_gnn.npy\")\n",
    "A_train     = np.load(\"./data/A_train.npy\")\n",
    "Y_train     = np.load(\"./data/Y_train.npy\")\n",
    "\n",
    "#X_test_gnn = np.load(\"./data/X_test_gnn.npy\")\n",
    "A_test     = np.load(\"./data/A_test.npy\")\n",
    "#Y_test     = np.load(\"./data/Y_test.npy\")\n",
    "\n",
    "X_test_gnn_aug = np.load(\"./data/X_test_gnn_aug.npy\")\n",
    "A_test_aug     = np.load(\"./data/A_test_aug.npy\")\n",
    "Y_test_aug     = np.load(\"./data/Y_test_aug.npy\")\n",
    "\n",
    "\n",
    "print(\"Shapes → X_orig:\", X_test.shape, \"X_aug:\", X_test_orig.shape, \"Y_test:\", Y_test.shape)"
   ]
  },
  {
   "cell_type": "markdown",
   "metadata": {},
   "source": [
    "Load LSTM models"
   ]
  },
  {
   "cell_type": "code",
   "execution_count": 16,
   "metadata": {},
   "outputs": [],
   "source": [
    "model_files = {\n",
    "    \"LSTM\":     \"./models/lstm_model.keras\",\n",
    "    \"BiLSTM\":   \"./models/bilstm_model.keras\",\n",
    "    \"CNN+LSTM\":   \"./models/hybrid_model.keras\",\n",
    "    #\"GNN+LSTM\":   \"./models/gnn_lstm.keras\",\n",
    "    \"LSTM_AUG\":     \"./models/lstm_model_aug.keras\",\n",
    "    \"BiLSTM_AUG\":   \"./models/bilstm_model_aug.keras\",\n",
    "    \"CNN+LSTM_AUG\":   \"./models/hybrid_model_aug.keras\",\n",
    "    #\"GNN+LSTM_AUG\":   \"./models/gnn_lstm_aug.keras\"\n",
    "}"
   ]
  },
  {
   "cell_type": "code",
   "execution_count": 17,
   "metadata": {},
   "outputs": [
    {
     "name": "stdout",
     "output_type": "stream",
     "text": [
      "LSTM: single-input (seq) → X_in (317538, 11, 1)\n",
      "LSTM: predicted (317538, 5)\n",
      "BiLSTM: single-input (seq) → X_in (317538, 11, 1)\n",
      "BiLSTM: predicted (317538, 5)\n",
      "CNN+LSTM: single-input (seq) → X_in (317538, 11, 1)\n",
      "CNN+LSTM: predicted (317538, 5)\n",
      "LSTM_AUG: single-input (seq) → X_in (316612, 21, 1)\n",
      "LSTM_AUG: predicted (316612, 5)\n",
      "BiLSTM_AUG: single-input (seq) → X_in (317538, 11, 1)\n",
      "BiLSTM_AUG: predicted (317538, 5)\n",
      "CNN+LSTM_AUG: single-input (seq) → X_in (316612, 21, 1)\n",
      "CNN+LSTM_AUG: predicted (316612, 5)\n"
     ]
    }
   ],
   "source": [
    "# 1) raw feature matrices\n",
    "X_orig = X_test_orig.values    # (n_samples, 11)\n",
    "X_aug  = X_test.values     # (n_samples, 21)\n",
    "\n",
    "# 2) your pre-built GNN arrays\n",
    "X_test_gnn = np.load(\"./data/X_test_gnn.npy\")  # shape (n_samples, T, N, F)\n",
    "A_test     = np.load(\"./data/A_test.npy\")      # shape (n_samples, N, N)\n",
    "\n",
    "preds = {}\n",
    "\n",
    "for name, path in model_files.items():\n",
    "    # reload model (ensure your GCNTimeDistributed is registered in this notebook)\n",
    "    model = keras.models.load_model(path)\n",
    "\n",
    "    # 3) multi-input case: GNN→LSTM\n",
    "    if isinstance(model.input_shape, list):\n",
    "        print(f\"{name}: multi-input → using GNN data\")\n",
    "        Yhat = model.predict(\n",
    "            [X_test_gnn, A_test],\n",
    "            batch_size=32,\n",
    "            verbose=1\n",
    "        )\n",
    "\n",
    "    else:\n",
    "        # 4) single-input: infer dims\n",
    "        #    input_shape = (None, ...) so drop first None\n",
    "        dims = model.input_shape[1:]\n",
    "        nd   = len(dims)\n",
    "\n",
    "        if nd == 2:\n",
    "            # sequence (T, F)\n",
    "            T, F = dims\n",
    "            total = T * F\n",
    "            if total == X_orig.shape[1]:\n",
    "                X_arr = X_orig\n",
    "            elif total == X_aug.shape[1]:\n",
    "                X_arr = X_aug\n",
    "            else:\n",
    "                raise ValueError(\n",
    "                    f\"{name} expects {total} features but we only have \"\n",
    "                    f\"{X_orig.shape[1]}/{X_aug.shape[1]}\"\n",
    "                )\n",
    "            X_in = X_arr.reshape(-1, T, F)\n",
    "            print(f\"{name}: single-input (seq) → X_in {X_in.shape}\")\n",
    "\n",
    "        elif nd == 1:\n",
    "            # flat (F,)\n",
    "            F, = dims\n",
    "            if F == X_orig.shape[1]:\n",
    "                X_in = X_orig\n",
    "            elif F == X_aug.shape[1]:\n",
    "                X_in = X_aug\n",
    "            else:\n",
    "                raise ValueError(\n",
    "                    f\"{name} expects {F} features but we only have \"\n",
    "                    f\"{X_orig.shape[1]}/{X_aug.shape[1]}\"\n",
    "                )\n",
    "            print(f\"{name}: single-input (flat) → X_in {X_in.shape}\")\n",
    "\n",
    "        else:\n",
    "            raise ValueError(f\"{name}: unsupported input dims {dims}\")\n",
    "\n",
    "        Yhat = model.predict(X_in, batch_size=512, verbose=0)\n",
    "\n",
    "    # 5) collect\n",
    "    preds[name] = pd.DataFrame(Yhat, columns=Y_test.columns)\n",
    "    print(f\"{name}: predicted {preds[name].shape}\")"
   ]
  },
  {
   "cell_type": "code",
   "execution_count": 18,
   "metadata": {},
   "outputs": [
    {
     "name": "stdout",
     "output_type": "stream",
     "text": [
      "\u001b[1m9924/9924\u001b[0m \u001b[32m━━━━━━━━━━━━━━━━━━━━\u001b[0m\u001b[37m\u001b[0m \u001b[1m12s\u001b[0m 1ms/step\n",
      "Added GNN_LSTM → (317538, 5)\n"
     ]
    }
   ],
   "source": [
    "# path to the file you saved earlier\n",
    "gnn_path = \"./models/gnn_lstm.keras\"\n",
    "\n",
    "# load it with the custom objects map\n",
    "gnn = keras.models.load_model(\n",
    "    gnn_path,\n",
    "    custom_objects={\n",
    "      \"SimpleGraphConv\": SimpleGraphConv,\n",
    "      \"GCNTimeDistributed\": GCNTimeDistributed\n",
    "    }\n",
    ")\n",
    "\n",
    "# run prediction just like your loop would have\n",
    "Yhat_gnn = gnn.predict(\n",
    "    [ X_test_gnn, A_test ],   # your GNN inputs\n",
    "    batch_size=32,\n",
    "    verbose=1\n",
    ")\n",
    "\n",
    "# stick it into preds under the same five‐column scheme\n",
    "preds[\"GNN_LSTM\"] = pd.DataFrame(Yhat_gnn, columns=Y_test.columns)\n",
    "\n",
    "print(\"Added GNN_LSTM →\", preds[\"GNN_LSTM\"].shape)"
   ]
  },
  {
   "cell_type": "code",
   "execution_count": 19,
   "metadata": {},
   "outputs": [
    {
     "name": "stdout",
     "output_type": "stream",
     "text": [
      "\u001b[1m9895/9895\u001b[0m \u001b[32m━━━━━━━━━━━━━━━━━━━━\u001b[0m\u001b[37m\u001b[0m \u001b[1m12s\u001b[0m 1ms/step\n"
     ]
    },
    {
     "ename": "AttributeError",
     "evalue": "'numpy.ndarray' object has no attribute 'columns'",
     "output_type": "error",
     "traceback": [
      "\u001b[1;31m---------------------------------------------------------------------------\u001b[0m",
      "\u001b[1;31mAttributeError\u001b[0m                            Traceback (most recent call last)",
      "Cell \u001b[1;32mIn[19], line 21\u001b[0m\n\u001b[0;32m     14\u001b[0m Yhat_gnn_aug \u001b[38;5;241m=\u001b[39m gnn_aug\u001b[38;5;241m.\u001b[39mpredict(\n\u001b[0;32m     15\u001b[0m     [ X_test_gnn_aug, A_test_aug ],   \u001b[38;5;66;03m# your GNN inputs\u001b[39;00m\n\u001b[0;32m     16\u001b[0m     batch_size\u001b[38;5;241m=\u001b[39m\u001b[38;5;241m32\u001b[39m,\n\u001b[0;32m     17\u001b[0m     verbose\u001b[38;5;241m=\u001b[39m\u001b[38;5;241m1\u001b[39m\n\u001b[0;32m     18\u001b[0m )\n\u001b[0;32m     20\u001b[0m \u001b[38;5;66;03m# stick it into preds under the same five‐column scheme\u001b[39;00m\n\u001b[1;32m---> 21\u001b[0m preds[\u001b[38;5;124m\"\u001b[39m\u001b[38;5;124mGNN_LSTM\u001b[39m\u001b[38;5;124m\"\u001b[39m] \u001b[38;5;241m=\u001b[39m pd\u001b[38;5;241m.\u001b[39mDataFrame(Yhat_gnn_aug, columns\u001b[38;5;241m=\u001b[39m\u001b[43mY_test_aug\u001b[49m\u001b[38;5;241;43m.\u001b[39;49m\u001b[43mcolumns\u001b[49m)\n\u001b[0;32m     23\u001b[0m \u001b[38;5;28mprint\u001b[39m(\u001b[38;5;124m\"\u001b[39m\u001b[38;5;124mAdded GNN_LSTM →\u001b[39m\u001b[38;5;124m\"\u001b[39m, preds[\u001b[38;5;124m\"\u001b[39m\u001b[38;5;124mGNN_LSTM\u001b[39m\u001b[38;5;124m\"\u001b[39m]\u001b[38;5;241m.\u001b[39mshape)\n",
      "\u001b[1;31mAttributeError\u001b[0m: 'numpy.ndarray' object has no attribute 'columns'"
     ]
    }
   ],
   "source": [
    "# path to the file you saved earlier\n",
    "gnn_path_aug = \"./models/gnn_lstm_aug.keras\"\n",
    "\n",
    "# load it with the custom objects map\n",
    "gnn_aug = keras.models.load_model(\n",
    "    gnn_path_aug,\n",
    "    custom_objects={\n",
    "      \"SimpleGraphConv\": SimpleGraphConv,\n",
    "      \"GCNTimeDistributed\": GCNTimeDistributed\n",
    "    }\n",
    ")\n",
    "\n",
    "# run prediction just like your loop would have\n",
    "Yhat_gnn_aug = gnn_aug.predict(\n",
    "    [ X_test_gnn_aug, A_test_aug ],   # your GNN inputs\n",
    "    batch_size=32,\n",
    "    verbose=1\n",
    ")\n",
    "\n",
    "# stick it into preds under the same five‐column scheme\n",
    "preds[\"GNN_LSTM\"] = pd.DataFrame(Yhat_gnn_aug, columns=Y_test_aug.columns)\n",
    "\n",
    "print(\"Added GNN_LSTM →\", preds[\"GNN_LSTM\"].shape)"
   ]
  },
  {
   "cell_type": "markdown",
   "metadata": {},
   "source": [
    "Compute Metrics"
   ]
  },
  {
   "cell_type": "code",
   "execution_count": null,
   "metadata": {},
   "outputs": [
    {
     "name": "stdout",
     "output_type": "stream",
     "text": [
      "Warning: LSTM true/pred length 316612/317538, truncating to 316612\n",
      "Warning: BiLSTM true/pred length 316612/317538, truncating to 316612\n",
      "Warning: CNN+LSTM true/pred length 316612/317538, truncating to 316612\n"
     ]
    },
    {
     "data": {
      "text/html": [
       "<div>\n",
       "<style scoped>\n",
       "    .dataframe tbody tr th:only-of-type {\n",
       "        vertical-align: middle;\n",
       "    }\n",
       "\n",
       "    .dataframe tbody tr th {\n",
       "        vertical-align: top;\n",
       "    }\n",
       "\n",
       "    .dataframe thead tr th {\n",
       "        text-align: left;\n",
       "    }\n",
       "\n",
       "    .dataframe thead tr:last-of-type th {\n",
       "        text-align: right;\n",
       "    }\n",
       "</style>\n",
       "<table border=\"1\" class=\"dataframe\">\n",
       "  <thead>\n",
       "    <tr>\n",
       "      <th></th>\n",
       "      <th colspan=\"3\" halign=\"left\">MAE</th>\n",
       "      <th colspan=\"3\" halign=\"left\">RMSE</th>\n",
       "      <th colspan=\"3\" halign=\"left\">R2</th>\n",
       "    </tr>\n",
       "    <tr>\n",
       "      <th>Model</th>\n",
       "      <th>BiLSTM</th>\n",
       "      <th>CNN+LSTM</th>\n",
       "      <th>LSTM</th>\n",
       "      <th>BiLSTM</th>\n",
       "      <th>CNN+LSTM</th>\n",
       "      <th>LSTM</th>\n",
       "      <th>BiLSTM</th>\n",
       "      <th>CNN+LSTM</th>\n",
       "      <th>LSTM</th>\n",
       "    </tr>\n",
       "    <tr>\n",
       "      <th>Variable</th>\n",
       "      <th></th>\n",
       "      <th></th>\n",
       "      <th></th>\n",
       "      <th></th>\n",
       "      <th></th>\n",
       "      <th></th>\n",
       "      <th></th>\n",
       "      <th></th>\n",
       "      <th></th>\n",
       "    </tr>\n",
       "  </thead>\n",
       "  <tbody>\n",
       "    <tr>\n",
       "      <th>DELAY_DUE_CARRIER</th>\n",
       "      <td>18.766558</td>\n",
       "      <td>18.777309</td>\n",
       "      <td>18.497713</td>\n",
       "      <td>27.010635</td>\n",
       "      <td>27.149766</td>\n",
       "      <td>27.005963</td>\n",
       "      <td>-0.087509</td>\n",
       "      <td>-0.098741</td>\n",
       "      <td>-0.087133</td>\n",
       "    </tr>\n",
       "    <tr>\n",
       "      <th>DELAY_DUE_LATE_AIRCRAFT</th>\n",
       "      <td>23.922354</td>\n",
       "      <td>23.768764</td>\n",
       "      <td>23.946260</td>\n",
       "      <td>30.874227</td>\n",
       "      <td>30.825834</td>\n",
       "      <td>31.041489</td>\n",
       "      <td>-0.180962</td>\n",
       "      <td>-0.177263</td>\n",
       "      <td>-0.193792</td>\n",
       "    </tr>\n",
       "    <tr>\n",
       "      <th>DELAY_DUE_NAS</th>\n",
       "      <td>13.426551</td>\n",
       "      <td>13.954420</td>\n",
       "      <td>13.705234</td>\n",
       "      <td>20.954715</td>\n",
       "      <td>21.346025</td>\n",
       "      <td>21.107477</td>\n",
       "      <td>-0.378959</td>\n",
       "      <td>-0.430941</td>\n",
       "      <td>-0.399138</td>\n",
       "    </tr>\n",
       "    <tr>\n",
       "      <th>DELAY_DUE_SECURITY</th>\n",
       "      <td>0.292310</td>\n",
       "      <td>0.271716</td>\n",
       "      <td>0.312000</td>\n",
       "      <td>2.168528</td>\n",
       "      <td>2.169294</td>\n",
       "      <td>2.169464</td>\n",
       "      <td>-0.002408</td>\n",
       "      <td>-0.003116</td>\n",
       "      <td>-0.003274</td>\n",
       "    </tr>\n",
       "    <tr>\n",
       "      <th>DELAY_DUE_WEATHER</th>\n",
       "      <td>4.445875</td>\n",
       "      <td>4.396444</td>\n",
       "      <td>4.604500</td>\n",
       "      <td>11.125301</td>\n",
       "      <td>11.187745</td>\n",
       "      <td>11.180430</td>\n",
       "      <td>-0.027398</td>\n",
       "      <td>-0.038964</td>\n",
       "      <td>-0.037605</td>\n",
       "    </tr>\n",
       "  </tbody>\n",
       "</table>\n",
       "</div>"
      ],
      "text/plain": [
       "                               MAE                             RMSE  \\\n",
       "Model                       BiLSTM   CNN+LSTM       LSTM     BiLSTM   \n",
       "Variable                                                              \n",
       "DELAY_DUE_CARRIER        18.766558  18.777309  18.497713  27.010635   \n",
       "DELAY_DUE_LATE_AIRCRAFT  23.922354  23.768764  23.946260  30.874227   \n",
       "DELAY_DUE_NAS            13.426551  13.954420  13.705234  20.954715   \n",
       "DELAY_DUE_SECURITY        0.292310   0.271716   0.312000   2.168528   \n",
       "DELAY_DUE_WEATHER         4.445875   4.396444   4.604500  11.125301   \n",
       "\n",
       "                                                     R2                      \n",
       "Model                     CNN+LSTM       LSTM    BiLSTM  CNN+LSTM      LSTM  \n",
       "Variable                                                                     \n",
       "DELAY_DUE_CARRIER        27.149766  27.005963 -0.087509 -0.098741 -0.087133  \n",
       "DELAY_DUE_LATE_AIRCRAFT  30.825834  31.041489 -0.180962 -0.177263 -0.193792  \n",
       "DELAY_DUE_NAS            21.346025  21.107477 -0.378959 -0.430941 -0.399138  \n",
       "DELAY_DUE_SECURITY        2.169294   2.169464 -0.002408 -0.003116 -0.003274  \n",
       "DELAY_DUE_WEATHER        11.187745  11.180430 -0.027398 -0.038964 -0.037605  "
      ]
     },
     "metadata": {},
     "output_type": "display_data"
    }
   ],
   "source": [
    "records = []\n",
    "for name, df_pred in preds.items():\n",
    "    # raw numpy arrays\n",
    "    y_true_full = Y_test.values           # shape (n_true, n_vars)\n",
    "    y_pred_full = df_pred.values          # shape (n_pred, n_vars)\n",
    "\n",
    "    # find common length\n",
    "    n_true = y_true_full.shape[0]\n",
    "    n_pred = y_pred_full.shape[0]\n",
    "    n = min(n_true, n_pred)\n",
    "    if n_true != n_pred:\n",
    "        print(f\"Warning: {name} true/pred length {n_true}/{n_pred}, truncating to {n}\")\n",
    "\n",
    "    # truncate\n",
    "    y_true = y_true_full[:n]\n",
    "    y_pred = y_pred_full[:n]\n",
    "\n",
    "    # compute per‐variable metrics\n",
    "    for j, var in enumerate(Y_test.columns):\n",
    "        records.append({\n",
    "            \"Model\":    name,\n",
    "            \"Variable\": var,\n",
    "            \"MAE\":      mean_absolute_error(y_true[:, j], y_pred[:, j]),\n",
    "            \"RMSE\":     np.sqrt(mean_squared_error(y_true[:, j], y_pred[:, j])),\n",
    "            \"R2\":       r2_score(y_true[:, j], y_pred[:, j]),\n",
    "        })\n",
    "\n",
    "metrics_df = pd.DataFrame(records)\n",
    "display(\n",
    "    metrics_df\n",
    "      .pivot(index=\"Variable\", columns=\"Model\", values=[\"MAE\",\"RMSE\",\"R2\"])\n",
    ")"
   ]
  },
  {
   "cell_type": "code",
   "execution_count": null,
   "metadata": {},
   "outputs": [
    {
     "ename": "ValueError",
     "evalue": "x and y must be the same size",
     "output_type": "error",
     "traceback": [
      "\u001b[1;31m---------------------------------------------------------------------------\u001b[0m",
      "\u001b[1;31mValueError\u001b[0m                                Traceback (most recent call last)",
      "Cell \u001b[1;32mIn[10], line 3\u001b[0m\n\u001b[0;32m      1\u001b[0m plt\u001b[38;5;241m.\u001b[39mfigure(figsize\u001b[38;5;241m=\u001b[39m(\u001b[38;5;241m6\u001b[39m,\u001b[38;5;241m6\u001b[39m))\n\u001b[0;32m      2\u001b[0m \u001b[38;5;28;01mfor\u001b[39;00m name, Yhat \u001b[38;5;129;01min\u001b[39;00m preds\u001b[38;5;241m.\u001b[39mitems():\n\u001b[1;32m----> 3\u001b[0m     \u001b[43mplt\u001b[49m\u001b[38;5;241;43m.\u001b[39;49m\u001b[43mscatter\u001b[49m\u001b[43m(\u001b[49m\n\u001b[0;32m      4\u001b[0m \u001b[43m        \u001b[49m\u001b[43mY_test\u001b[49m\u001b[38;5;241;43m.\u001b[39;49m\u001b[43mvalues\u001b[49m\u001b[38;5;241;43m.\u001b[39;49m\u001b[43mravel\u001b[49m\u001b[43m(\u001b[49m\u001b[43m)\u001b[49m\u001b[43m,\u001b[49m\n\u001b[0;32m      5\u001b[0m \u001b[43m        \u001b[49m\u001b[43mYhat\u001b[49m\u001b[38;5;241;43m.\u001b[39;49m\u001b[43mvalues\u001b[49m\u001b[38;5;241;43m.\u001b[39;49m\u001b[43mravel\u001b[49m\u001b[43m(\u001b[49m\u001b[43m)\u001b[49m\u001b[43m,\u001b[49m\n\u001b[0;32m      6\u001b[0m \u001b[43m        \u001b[49m\u001b[43malpha\u001b[49m\u001b[38;5;241;43m=\u001b[39;49m\u001b[38;5;241;43m0.3\u001b[39;49m\u001b[43m,\u001b[49m\n\u001b[0;32m      7\u001b[0m \u001b[43m        \u001b[49m\u001b[43ms\u001b[49m\u001b[38;5;241;43m=\u001b[39;49m\u001b[38;5;241;43m10\u001b[39;49m\u001b[43m,\u001b[49m\n\u001b[0;32m      8\u001b[0m \u001b[43m        \u001b[49m\u001b[43mlabel\u001b[49m\u001b[38;5;241;43m=\u001b[39;49m\u001b[43mname\u001b[49m\n\u001b[0;32m      9\u001b[0m \u001b[43m    \u001b[49m\u001b[43m)\u001b[49m\n\u001b[0;32m     10\u001b[0m plt\u001b[38;5;241m.\u001b[39mplot(\n\u001b[0;32m     11\u001b[0m     [Y_test\u001b[38;5;241m.\u001b[39mvalues\u001b[38;5;241m.\u001b[39mmin(), Y_test\u001b[38;5;241m.\u001b[39mvalues\u001b[38;5;241m.\u001b[39mmax()]\u001b[38;5;241m*\u001b[39m\u001b[38;5;241m2\u001b[39m,\n\u001b[0;32m     12\u001b[0m     [Y_test\u001b[38;5;241m.\u001b[39mvalues\u001b[38;5;241m.\u001b[39mmin(), Y_test\u001b[38;5;241m.\u001b[39mvalues\u001b[38;5;241m.\u001b[39mmax()]\u001b[38;5;241m*\u001b[39m\u001b[38;5;241m2\u001b[39m,\n\u001b[0;32m     13\u001b[0m     \u001b[38;5;124m\"\u001b[39m\u001b[38;5;124mk--\u001b[39m\u001b[38;5;124m\"\u001b[39m,\n\u001b[0;32m     14\u001b[0m     label\u001b[38;5;241m=\u001b[39m\u001b[38;5;124m\"\u001b[39m\u001b[38;5;124mPerfect\u001b[39m\u001b[38;5;124m\"\u001b[39m\n\u001b[0;32m     15\u001b[0m )\n\u001b[0;32m     16\u001b[0m plt\u001b[38;5;241m.\u001b[39mlegend()\n",
      "File \u001b[1;32mc:\\Users\\ebror\\OneDrive\\Documents\\GitHub\\Project\\.conda\\lib\\site-packages\\matplotlib\\_api\\deprecation.py:453\u001b[0m, in \u001b[0;36mmake_keyword_only.<locals>.wrapper\u001b[1;34m(*args, **kwargs)\u001b[0m\n\u001b[0;32m    447\u001b[0m \u001b[38;5;28;01mif\u001b[39;00m \u001b[38;5;28mlen\u001b[39m(args) \u001b[38;5;241m>\u001b[39m name_idx:\n\u001b[0;32m    448\u001b[0m     warn_deprecated(\n\u001b[0;32m    449\u001b[0m         since, message\u001b[38;5;241m=\u001b[39m\u001b[38;5;124m\"\u001b[39m\u001b[38;5;124mPassing the \u001b[39m\u001b[38;5;132;01m%(name)s\u001b[39;00m\u001b[38;5;124m \u001b[39m\u001b[38;5;132;01m%(obj_type)s\u001b[39;00m\u001b[38;5;124m \u001b[39m\u001b[38;5;124m\"\u001b[39m\n\u001b[0;32m    450\u001b[0m         \u001b[38;5;124m\"\u001b[39m\u001b[38;5;124mpositionally is deprecated since Matplotlib \u001b[39m\u001b[38;5;132;01m%(since)s\u001b[39;00m\u001b[38;5;124m; the \u001b[39m\u001b[38;5;124m\"\u001b[39m\n\u001b[0;32m    451\u001b[0m         \u001b[38;5;124m\"\u001b[39m\u001b[38;5;124mparameter will become keyword-only in \u001b[39m\u001b[38;5;132;01m%(removal)s\u001b[39;00m\u001b[38;5;124m.\u001b[39m\u001b[38;5;124m\"\u001b[39m,\n\u001b[0;32m    452\u001b[0m         name\u001b[38;5;241m=\u001b[39mname, obj_type\u001b[38;5;241m=\u001b[39m\u001b[38;5;124mf\u001b[39m\u001b[38;5;124m\"\u001b[39m\u001b[38;5;124mparameter of \u001b[39m\u001b[38;5;132;01m{\u001b[39;00mfunc\u001b[38;5;241m.\u001b[39m\u001b[38;5;18m__name__\u001b[39m\u001b[38;5;132;01m}\u001b[39;00m\u001b[38;5;124m()\u001b[39m\u001b[38;5;124m\"\u001b[39m)\n\u001b[1;32m--> 453\u001b[0m \u001b[38;5;28;01mreturn\u001b[39;00m func(\u001b[38;5;241m*\u001b[39margs, \u001b[38;5;241m*\u001b[39m\u001b[38;5;241m*\u001b[39mkwargs)\n",
      "File \u001b[1;32mc:\\Users\\ebror\\OneDrive\\Documents\\GitHub\\Project\\.conda\\lib\\site-packages\\matplotlib\\pyplot.py:3937\u001b[0m, in \u001b[0;36mscatter\u001b[1;34m(x, y, s, c, marker, cmap, norm, vmin, vmax, alpha, linewidths, edgecolors, colorizer, plotnonfinite, data, **kwargs)\u001b[0m\n\u001b[0;32m   3917\u001b[0m \u001b[38;5;129m@_copy_docstring_and_deprecators\u001b[39m(Axes\u001b[38;5;241m.\u001b[39mscatter)\n\u001b[0;32m   3918\u001b[0m \u001b[38;5;28;01mdef\u001b[39;00m\u001b[38;5;250m \u001b[39m\u001b[38;5;21mscatter\u001b[39m(\n\u001b[0;32m   3919\u001b[0m     x: \u001b[38;5;28mfloat\u001b[39m \u001b[38;5;241m|\u001b[39m ArrayLike,\n\u001b[1;32m   (...)\u001b[0m\n\u001b[0;32m   3935\u001b[0m     \u001b[38;5;241m*\u001b[39m\u001b[38;5;241m*\u001b[39mkwargs,\n\u001b[0;32m   3936\u001b[0m ) \u001b[38;5;241m-\u001b[39m\u001b[38;5;241m>\u001b[39m PathCollection:\n\u001b[1;32m-> 3937\u001b[0m     __ret \u001b[38;5;241m=\u001b[39m gca()\u001b[38;5;241m.\u001b[39mscatter(\n\u001b[0;32m   3938\u001b[0m         x,\n\u001b[0;32m   3939\u001b[0m         y,\n\u001b[0;32m   3940\u001b[0m         s\u001b[38;5;241m=\u001b[39ms,\n\u001b[0;32m   3941\u001b[0m         c\u001b[38;5;241m=\u001b[39mc,\n\u001b[0;32m   3942\u001b[0m         marker\u001b[38;5;241m=\u001b[39mmarker,\n\u001b[0;32m   3943\u001b[0m         cmap\u001b[38;5;241m=\u001b[39mcmap,\n\u001b[0;32m   3944\u001b[0m         norm\u001b[38;5;241m=\u001b[39mnorm,\n\u001b[0;32m   3945\u001b[0m         vmin\u001b[38;5;241m=\u001b[39mvmin,\n\u001b[0;32m   3946\u001b[0m         vmax\u001b[38;5;241m=\u001b[39mvmax,\n\u001b[0;32m   3947\u001b[0m         alpha\u001b[38;5;241m=\u001b[39malpha,\n\u001b[0;32m   3948\u001b[0m         linewidths\u001b[38;5;241m=\u001b[39mlinewidths,\n\u001b[0;32m   3949\u001b[0m         edgecolors\u001b[38;5;241m=\u001b[39medgecolors,\n\u001b[0;32m   3950\u001b[0m         colorizer\u001b[38;5;241m=\u001b[39mcolorizer,\n\u001b[0;32m   3951\u001b[0m         plotnonfinite\u001b[38;5;241m=\u001b[39mplotnonfinite,\n\u001b[0;32m   3952\u001b[0m         \u001b[38;5;241m*\u001b[39m\u001b[38;5;241m*\u001b[39m({\u001b[38;5;124m\"\u001b[39m\u001b[38;5;124mdata\u001b[39m\u001b[38;5;124m\"\u001b[39m: data} \u001b[38;5;28;01mif\u001b[39;00m data \u001b[38;5;129;01mis\u001b[39;00m \u001b[38;5;129;01mnot\u001b[39;00m \u001b[38;5;28;01mNone\u001b[39;00m \u001b[38;5;28;01melse\u001b[39;00m {}),\n\u001b[0;32m   3953\u001b[0m         \u001b[38;5;241m*\u001b[39m\u001b[38;5;241m*\u001b[39mkwargs,\n\u001b[0;32m   3954\u001b[0m     )\n\u001b[0;32m   3955\u001b[0m     sci(__ret)\n\u001b[0;32m   3956\u001b[0m     \u001b[38;5;28;01mreturn\u001b[39;00m __ret\n",
      "File \u001b[1;32mc:\\Users\\ebror\\OneDrive\\Documents\\GitHub\\Project\\.conda\\lib\\site-packages\\matplotlib\\_api\\deprecation.py:453\u001b[0m, in \u001b[0;36mmake_keyword_only.<locals>.wrapper\u001b[1;34m(*args, **kwargs)\u001b[0m\n\u001b[0;32m    447\u001b[0m \u001b[38;5;28;01mif\u001b[39;00m \u001b[38;5;28mlen\u001b[39m(args) \u001b[38;5;241m>\u001b[39m name_idx:\n\u001b[0;32m    448\u001b[0m     warn_deprecated(\n\u001b[0;32m    449\u001b[0m         since, message\u001b[38;5;241m=\u001b[39m\u001b[38;5;124m\"\u001b[39m\u001b[38;5;124mPassing the \u001b[39m\u001b[38;5;132;01m%(name)s\u001b[39;00m\u001b[38;5;124m \u001b[39m\u001b[38;5;132;01m%(obj_type)s\u001b[39;00m\u001b[38;5;124m \u001b[39m\u001b[38;5;124m\"\u001b[39m\n\u001b[0;32m    450\u001b[0m         \u001b[38;5;124m\"\u001b[39m\u001b[38;5;124mpositionally is deprecated since Matplotlib \u001b[39m\u001b[38;5;132;01m%(since)s\u001b[39;00m\u001b[38;5;124m; the \u001b[39m\u001b[38;5;124m\"\u001b[39m\n\u001b[0;32m    451\u001b[0m         \u001b[38;5;124m\"\u001b[39m\u001b[38;5;124mparameter will become keyword-only in \u001b[39m\u001b[38;5;132;01m%(removal)s\u001b[39;00m\u001b[38;5;124m.\u001b[39m\u001b[38;5;124m\"\u001b[39m,\n\u001b[0;32m    452\u001b[0m         name\u001b[38;5;241m=\u001b[39mname, obj_type\u001b[38;5;241m=\u001b[39m\u001b[38;5;124mf\u001b[39m\u001b[38;5;124m\"\u001b[39m\u001b[38;5;124mparameter of \u001b[39m\u001b[38;5;132;01m{\u001b[39;00mfunc\u001b[38;5;241m.\u001b[39m\u001b[38;5;18m__name__\u001b[39m\u001b[38;5;132;01m}\u001b[39;00m\u001b[38;5;124m()\u001b[39m\u001b[38;5;124m\"\u001b[39m)\n\u001b[1;32m--> 453\u001b[0m \u001b[38;5;28;01mreturn\u001b[39;00m func(\u001b[38;5;241m*\u001b[39margs, \u001b[38;5;241m*\u001b[39m\u001b[38;5;241m*\u001b[39mkwargs)\n",
      "File \u001b[1;32mc:\\Users\\ebror\\OneDrive\\Documents\\GitHub\\Project\\.conda\\lib\\site-packages\\matplotlib\\__init__.py:1521\u001b[0m, in \u001b[0;36m_preprocess_data.<locals>.inner\u001b[1;34m(ax, data, *args, **kwargs)\u001b[0m\n\u001b[0;32m   1518\u001b[0m \u001b[38;5;129m@functools\u001b[39m\u001b[38;5;241m.\u001b[39mwraps(func)\n\u001b[0;32m   1519\u001b[0m \u001b[38;5;28;01mdef\u001b[39;00m\u001b[38;5;250m \u001b[39m\u001b[38;5;21minner\u001b[39m(ax, \u001b[38;5;241m*\u001b[39margs, data\u001b[38;5;241m=\u001b[39m\u001b[38;5;28;01mNone\u001b[39;00m, \u001b[38;5;241m*\u001b[39m\u001b[38;5;241m*\u001b[39mkwargs):\n\u001b[0;32m   1520\u001b[0m     \u001b[38;5;28;01mif\u001b[39;00m data \u001b[38;5;129;01mis\u001b[39;00m \u001b[38;5;28;01mNone\u001b[39;00m:\n\u001b[1;32m-> 1521\u001b[0m         \u001b[38;5;28;01mreturn\u001b[39;00m func(\n\u001b[0;32m   1522\u001b[0m             ax,\n\u001b[0;32m   1523\u001b[0m             \u001b[38;5;241m*\u001b[39m\u001b[38;5;28mmap\u001b[39m(cbook\u001b[38;5;241m.\u001b[39msanitize_sequence, args),\n\u001b[0;32m   1524\u001b[0m             \u001b[38;5;241m*\u001b[39m\u001b[38;5;241m*\u001b[39m{k: cbook\u001b[38;5;241m.\u001b[39msanitize_sequence(v) \u001b[38;5;28;01mfor\u001b[39;00m k, v \u001b[38;5;129;01min\u001b[39;00m kwargs\u001b[38;5;241m.\u001b[39mitems()})\n\u001b[0;32m   1526\u001b[0m     bound \u001b[38;5;241m=\u001b[39m new_sig\u001b[38;5;241m.\u001b[39mbind(ax, \u001b[38;5;241m*\u001b[39margs, \u001b[38;5;241m*\u001b[39m\u001b[38;5;241m*\u001b[39mkwargs)\n\u001b[0;32m   1527\u001b[0m     auto_label \u001b[38;5;241m=\u001b[39m (bound\u001b[38;5;241m.\u001b[39marguments\u001b[38;5;241m.\u001b[39mget(label_namer)\n\u001b[0;32m   1528\u001b[0m                   \u001b[38;5;129;01mor\u001b[39;00m bound\u001b[38;5;241m.\u001b[39mkwargs\u001b[38;5;241m.\u001b[39mget(label_namer))\n",
      "File \u001b[1;32mc:\\Users\\ebror\\OneDrive\\Documents\\GitHub\\Project\\.conda\\lib\\site-packages\\matplotlib\\axes\\_axes.py:4930\u001b[0m, in \u001b[0;36mAxes.scatter\u001b[1;34m(self, x, y, s, c, marker, cmap, norm, vmin, vmax, alpha, linewidths, edgecolors, colorizer, plotnonfinite, **kwargs)\u001b[0m\n\u001b[0;32m   4928\u001b[0m y \u001b[38;5;241m=\u001b[39m np\u001b[38;5;241m.\u001b[39mma\u001b[38;5;241m.\u001b[39mravel(y)\n\u001b[0;32m   4929\u001b[0m \u001b[38;5;28;01mif\u001b[39;00m x\u001b[38;5;241m.\u001b[39msize \u001b[38;5;241m!=\u001b[39m y\u001b[38;5;241m.\u001b[39msize:\n\u001b[1;32m-> 4930\u001b[0m     \u001b[38;5;28;01mraise\u001b[39;00m \u001b[38;5;167;01mValueError\u001b[39;00m(\u001b[38;5;124m\"\u001b[39m\u001b[38;5;124mx and y must be the same size\u001b[39m\u001b[38;5;124m\"\u001b[39m)\n\u001b[0;32m   4932\u001b[0m \u001b[38;5;28;01mif\u001b[39;00m s \u001b[38;5;129;01mis\u001b[39;00m \u001b[38;5;28;01mNone\u001b[39;00m:\n\u001b[0;32m   4933\u001b[0m     s \u001b[38;5;241m=\u001b[39m (\u001b[38;5;241m20\u001b[39m \u001b[38;5;28;01mif\u001b[39;00m mpl\u001b[38;5;241m.\u001b[39mrcParams[\u001b[38;5;124m'\u001b[39m\u001b[38;5;124m_internal.classic_mode\u001b[39m\u001b[38;5;124m'\u001b[39m] \u001b[38;5;28;01melse\u001b[39;00m\n\u001b[0;32m   4934\u001b[0m          mpl\u001b[38;5;241m.\u001b[39mrcParams[\u001b[38;5;124m'\u001b[39m\u001b[38;5;124mlines.markersize\u001b[39m\u001b[38;5;124m'\u001b[39m] \u001b[38;5;241m*\u001b[39m\u001b[38;5;241m*\u001b[39m \u001b[38;5;241m2.0\u001b[39m)\n",
      "\u001b[1;31mValueError\u001b[0m: x and y must be the same size"
     ]
    },
    {
     "data": {
      "image/png": "[encoded data removed]",
      "text/plain": [
       "<Figure size 600x600 with 1 Axes>"
      ]
     },
     "metadata": {},
     "output_type": "display_data"
    }
   ],
   "source": [
    "plt.figure(figsize=(6,6))\n",
    "for name, Yhat in preds.items():\n",
    "    plt.scatter(\n",
    "        Y_test.values.ravel(),\n",
    "        Yhat.values.ravel(),\n",
    "        alpha=0.3,\n",
    "        s=10,\n",
    "        label=name\n",
    "    )\n",
    "plt.plot(\n",
    "    [Y_test.values.min(), Y_test.values.max()]*2,\n",
    "    [Y_test.values.min(), Y_test.values.max()]*2,\n",
    "    \"k--\",\n",
    "    label=\"Perfect\"\n",
    ")\n",
    "plt.legend()\n",
    "plt.xlabel(\"True Delay (mins)\")\n",
    "plt.ylabel(\"Predicted Delay (mins)\")\n",
    "plt.title(\"Predicted vs True Delay\")\n",
    "plt.grid(True)\n",
    "plt.tight_layout()\n",
    "plt.show()"
   ]
  },
  {
   "cell_type": "code",
   "execution_count": null,
   "metadata": {},
   "outputs": [],
   "source": [
    "# ─── Cell 7: AUC curves for delay‐categories ──────────────────────────────────\n",
    "\n",
    "\n",
    "# 1) bin continuous delays into K classes\n",
    "bins   = [0, 5, 15, 30, 60, np.inf]\n",
    "labels = list(range(len(bins)-1))\n",
    "delay_cat = pd.cut(Y_test.values.ravel(), bins=bins, labels=labels).astype(int)\n",
    "y_true_cat = delay_cat.to_numpy()\n",
    "classes    = np.unique(y_true_cat)\n",
    "y_true_bin = label_binarize(y_true_cat, classes=classes)\n",
    "\n",
    "# 2) build a one‐hot “probability” from each regressor by assigning all mass to nearest bin\n",
    "def to_proba(y_cont):\n",
    "    # assign each continuous prediction to its bin, then one-hot\n",
    "    idx = np.digitize(y_cont, bins) - 1\n",
    "    proba = np.eye(len(classes))[idx]\n",
    "    return proba\n",
    "\n",
    "# 3) compute & plot per‐model\n",
    "for name, Yhat in preds.items():\n",
    "    y_proba = to_proba(Yhat.values.ravel())\n",
    "    aucs    = roc_auc_score(y_true_bin, y_proba, multi_class='ovr', average=None)\n",
    "\n",
    "    plt.figure(figsize=(6,6))\n",
    "    for i, cls in enumerate(classes):\n",
    "        fpr, tpr, _ = roc_curve(y_true_bin[:,i], y_proba[:,i])\n",
    "        plt.plot(fpr, tpr, label=f\"Class {cls} (AUC={aucs[i]:.2f})\")\n",
    "    plt.plot([0,1],[0,1],\"k--\", label=\"Chance\")\n",
    "    plt.title(f\"ROC Curves ({name})\")\n",
    "    plt.xlabel(\"False Positive Rate\")\n",
    "    plt.ylabel(\"True Positive Rate\")\n",
    "    plt.legend(loc=\"lower right\")\n",
    "    plt.grid(True)\n",
    "    plt.show()\n"
   ]
  },
  {
   "cell_type": "code",
   "execution_count": null,
   "metadata": {},
   "outputs": [],
   "source": []
  },
  {
   "cell_type": "code",
   "execution_count": null,
   "metadata": {},
   "outputs": [],
   "source": []
  },
  {
   "cell_type": "code",
   "execution_count": null,
   "metadata": {},
   "outputs": [],
   "source": [
    "# 4) Pivot for bar charts\n",
    "mae_df  = metrics.pivot(index=\"Variable\", columns=\"Model\", values=\"MAE\")\n",
    "rmse_df = metrics.pivot(index=\"Variable\", columns=\"Model\", values=\"RMSE\")\n",
    "r2_df   = metrics.pivot(index=\"Variable\", columns=\"Model\", values=\"R2\")"
   ]
  },
  {
   "cell_type": "code",
   "execution_count": null,
   "metadata": {},
   "outputs": [],
   "source": [
    "# 5) Plot MAE / RMSE / R² side by side\n",
    "fig, axes = plt.subplots(3, 1, figsize=(12, 16))\n",
    "\n",
    "mae_df.plot.bar(ax=axes[0])\n",
    "axes[0].set_title(\"Mean Absolute Error by Model & Variable\")\n",
    "axes[0].set_ylabel(\"MAE\")\n",
    "\n",
    "rmse_df.plot.bar(ax=axes[1])\n",
    "axes[1].set_title(\"Root MSE by Model & Variable\")\n",
    "axes[1].set_ylabel(\"RMSE\")\n",
    "\n",
    "r2_df.plot.bar(ax=axes[2])\n",
    "axes[2].set_title(\"R² Score by Model & Variable\")\n",
    "axes[2].set_ylabel(\"R²\")\n",
    "\n",
    "for ax in axes:\n",
    "    ax.legend(title=\"Model\")\n",
    "    ax.tick_params(axis=\"x\", rotation=45)\n",
    "\n",
    "plt.tight_layout()\n",
    "plt.show()"
   ]
  },
  {
   "cell_type": "code",
   "execution_count": null,
   "metadata": {},
   "outputs": [],
   "source": [
    "# 6) Aggregate scatter: Predicted vs True (all models, all vars)\n",
    "plt.figure(figsize=(6,6))\n",
    "mn, mx = Y_test.values.min(), Y_test.values.max()\n",
    "plt.plot([mn,mx], [mn,mx], \"k--\", label=\"Perfect\")\n",
    "\n",
    "for name, Y_pred in preds.items():\n",
    "    plt.scatter(\n",
    "        Y_test.values.ravel(),\n",
    "        Y_pred.values.ravel(),\n",
    "        alpha=0.3,\n",
    "        label=name,\n",
    "        s=10\n",
    "    )\n",
    "\n",
    "plt.legend()\n",
    "plt.xlabel(\"True Delay (mins)\")\n",
    "plt.ylabel(\"Predicted Delay (mins)\")\n",
    "plt.title(\"Predicted vs True Delay (All Models & Variables)\")\n",
    "plt.tight_layout()\n",
    "plt.show()"
   ]
  },
  {
   "cell_type": "code",
   "execution_count": null,
   "metadata": {},
   "outputs": [],
   "source": [
    "# 7) Error‐distribution KDE\n",
    "plt.figure(figsize=(10,5))\n",
    "for name, Y_pred in preds.items():\n",
    "    errs = (Y_pred.values - Y_test.values).ravel()\n",
    "    sns.kdeplot(errs, label=name, fill=True)\n",
    "\n",
    "plt.legend()\n",
    "plt.title(\"Error Distribution by Model\")\n",
    "plt.xlabel(\"Prediction Error (mins)\")\n",
    "plt.tight_layout()\n",
    "plt.show()"
   ]
  },
  {
   "cell_type": "code",
   "execution_count": null,
   "metadata": {},
   "outputs": [],
   "source": []
  },
  {
   "cell_type": "code",
   "execution_count": null,
   "metadata": {},
   "outputs": [],
   "source": []
  },
  {
   "cell_type": "code",
   "execution_count": null,
   "metadata": {},
   "outputs": [],
   "source": []
  },
  {
   "cell_type": "code",
   "execution_count": null,
   "metadata": {},
   "outputs": [],
   "source": []
  },
  {
   "cell_type": "markdown",
   "metadata": {},
   "source": [
    "MSE and MAE"
   ]
  },
  {
   "cell_type": "code",
   "execution_count": null,
   "metadata": {
    "colab": {
     "base_uri": "https://localhost:8080/"
    },
    "executionInfo": {
     "elapsed": 7,
     "status": "ok",
     "timestamp": 1713154775945,
     "user": {
      "displayName": "Jacob Gerlach",
      "userId": "10710073523636440366"
     },
     "user_tz": 240
    },
    "id": "eXf5Ypz74cTZ",
    "outputId": "85cc09ca-fb5c-4d4b-aed0-1666b9830b59"
   },
   "outputs": [
    {
     "data": {
      "text/plain": [
       "361.1148094700631"
      ]
     },
     "execution_count": 6,
     "metadata": {},
     "output_type": "execute_result"
    }
   ],
   "source": [
    "mean_squared_error(Y_test, Y_pred)"
   ]
  },
  {
   "cell_type": "code",
   "execution_count": null,
   "metadata": {
    "colab": {
     "base_uri": "https://localhost:8080/"
    },
    "executionInfo": {
     "elapsed": 4,
     "status": "ok",
     "timestamp": 1713154775945,
     "user": {
      "displayName": "Jacob Gerlach",
      "userId": "10710073523636440366"
     },
     "user_tz": 240
    },
    "id": "g0RCqqmc4cbu",
    "outputId": "aa7c49bb-dfec-4f42-c81c-6b4cda3c68a9"
   },
   "outputs": [
    {
     "data": {
      "text/plain": [
       "10.083698641605949"
      ]
     },
     "execution_count": 7,
     "metadata": {},
     "output_type": "execute_result"
    }
   ],
   "source": [
    "mean_absolute_error(Y_test, Y_pred)  # mins"
   ]
  },
  {
   "cell_type": "markdown",
   "metadata": {},
   "source": [
    "Standard deviation"
   ]
  },
  {
   "cell_type": "code",
   "execution_count": null,
   "metadata": {
    "colab": {
     "base_uri": "https://localhost:8080/"
    },
    "executionInfo": {
     "elapsed": 3,
     "status": "ok",
     "timestamp": 1713191280896,
     "user": {
      "displayName": "Jacob Gerlach",
      "userId": "10710073523636440366"
     },
     "user_tz": 240
    },
    "id": "qxcrL2mLIpOG",
    "outputId": "b848c824-c49d-40d1-c027-885bf2d865a6"
   },
   "outputs": [
    {
     "name": "stdout",
     "output_type": "stream",
     "text": [
      "DELAY_DUE_CARRIER\n",
      "25.567373882087463 7.6205435\n",
      "DELAY_DUE_WEATHER\n",
      "11.406046218751655 0.93484366\n",
      "DELAY_DUE_SECURITY\n",
      "2.4229327308810777 0.12023699\n",
      "DELAY_DUE_NAS\n",
      "19.65953564135613 11.143993\n",
      "DELAY_DUE_LATE_AIRCRAFT\n",
      "29.452996135802763 9.612298\n"
     ]
    }
   ],
   "source": [
    "for col in Y_pred.columns:\n",
    "    print(col)\n",
    "    print(Y_test[col].std(), Y_pred[col].std())"
   ]
  },
  {
   "cell_type": "markdown",
   "metadata": {},
   "source": [
    "Mean of predictions"
   ]
  },
  {
   "cell_type": "code",
   "execution_count": null,
   "metadata": {
    "colab": {
     "base_uri": "https://localhost:8080/"
    },
    "executionInfo": {
     "elapsed": 4,
     "status": "ok",
     "timestamp": 1713153888417,
     "user": {
      "displayName": "Jacob Gerlach",
      "userId": "10710073523636440366"
     },
     "user_tz": 240
    },
    "id": "JgFakR-s6jHu",
    "outputId": "8e9ba9b8-73fa-4a64-ed24-a13a710c4057"
   },
   "outputs": [
    {
     "data": {
      "text/plain": [
       "DELAY_DUE_CARRIER          16.751114\n",
       "DELAY_DUE_WEATHER           2.335597\n",
       "DELAY_DUE_SECURITY          0.190225\n",
       "DELAY_DUE_NAS              11.991378\n",
       "DELAY_DUE_LATE_AIRCRAFT    18.397444\n",
       "dtype: float32"
      ]
     },
     "execution_count": 9,
     "metadata": {},
     "output_type": "execute_result"
    }
   ],
   "source": [
    "Y_pred.mean()"
   ]
  },
  {
   "cell_type": "markdown",
   "metadata": {},
   "source": [
    "### Plot box plots of predicted test labels and true labels"
   ]
  },
  {
   "cell_type": "code",
   "execution_count": null,
   "metadata": {
    "colab": {
     "base_uri": "https://localhost:8080/",
     "height": 564
    },
    "executionInfo": {
     "elapsed": 3887,
     "status": "ok",
     "timestamp": 1713155447091,
     "user": {
      "displayName": "Jacob Gerlach",
      "userId": "10710073523636440366"
     },
     "user_tz": 240
    },
    "id": "VYXdBQj56jQX",
    "outputId": "817e6961-892d-4f77-b489-246a50e04d46"
   },
   "outputs": [
    {
     "data": {
      "image/png": "[encoded data removed]",
      "text/plain": [
       "<Figure size 1100x600 with 1 Axes>"
      ]
     },
     "metadata": {},
     "output_type": "display_data"
    }
   ],
   "source": [
    "plt.figure(figsize=(11, 6))\n",
    "plt.grid()\n",
    "sns.boxplot(Y_pred.melt(), x=\"variable\", y=\"value\", color=\"orange\")\n",
    "plt.title('LSTM Predicted Test Labels')\n",
    "plt.ylabel(\"Delay (mins)\")\n",
    "plt.show()"
   ]
  },
  {
   "cell_type": "code",
   "execution_count": null,
   "metadata": {
    "id": "Mrdv1S476jXx"
   },
   "outputs": [
    {
     "data": {
      "image/png": "[encoded data removed]",
      "text/plain": [
       "<Figure size 1100x600 with 1 Axes>"
      ]
     },
     "metadata": {},
     "output_type": "display_data"
    }
   ],
   "source": [
    "plt.figure(figsize=(11, 6))\n",
    "plt.grid()\n",
    "sns.boxplot(Y_test.melt(), x=\"variable\", y=\"value\", color=\"blue\")\n",
    "plt.title('LSTM True Test Labels')\n",
    "plt.ylabel(\"Delay (mins)\")\n",
    "plt.show()"
   ]
  },
  {
   "cell_type": "code",
   "execution_count": null,
   "metadata": {},
   "outputs": [],
   "source": [
    "y_true = np.array([...], dtype=int)      # shape (n_samples,)\n",
    "y_pred_proba = model.predict(X_test)     # shape (n_samples, C)"
   ]
  },
  {
   "cell_type": "code",
   "execution_count": null,
   "metadata": {},
   "outputs": [],
   "source": [
    "# ─── 1) number of classes \n",
    "classes = np.unique(y_true)\n",
    "n_classes = len(classes)"
   ]
  },
  {
   "cell_type": "code",
   "execution_count": null,
   "metadata": {},
   "outputs": [],
   "source": [
    "# ─── 2) compute AUC per class ─────────────────────────────────────────────────\n",
    "# multi_class='ovr' gives one‐vs‐rest; average=None returns array of per‐class AUCs\n",
    "auc_scores = roc_auc_score(\n",
    "    y_true,\n",
    "    y_pred_proba,\n",
    "    multi_class='ovr',\n",
    "    average=None\n",
    ")\n",
    "\n",
    "for i, cls in enumerate(classes):\n",
    "    print(f\"Class {cls} AUC = {auc_scores[i]:.4f}\")"
   ]
  },
  {
   "cell_type": "code",
   "execution_count": null,
   "metadata": {},
   "outputs": [],
   "source": [
    "plt.figure(figsize=(8, 6))\n",
    "for i, cls in enumerate(classes):\n",
    "    # get binary labels for this class\n",
    "    y_true_bin = (y_true == cls).astype(int)\n",
    "    fpr, tpr, _ = roc_curve(y_true_bin, y_pred_proba[:, i])\n",
    "    plt.plot(fpr, tpr, label=f\"Class {cls} (AUC={auc_scores[i]:.3f})\")\n",
    "\n",
    "# plot the chance line\n",
    "plt.plot([0, 1], [0, 1], \"k--\", label=\"Chance\")\n",
    "plt.xlabel(\"False Positive Rate\")\n",
    "plt.ylabel(\"True Positive Rate\")\n",
    "plt.title(\"One-vs-Rest ROC Curves by Delay Category\")\n",
    "plt.legend(loc=\"lower right\")\n",
    "plt.grid(True)\n",
    "plt.show()"
   ]
  },
  {
   "cell_type": "code",
   "execution_count": null,
   "metadata": {},
   "outputs": [],
   "source": []
  },
  {
   "cell_type": "code",
   "execution_count": null,
   "metadata": {},
   "outputs": [],
   "source": []
  },
  {
   "cell_type": "code",
   "execution_count": null,
   "metadata": {},
   "outputs": [],
   "source": []
  },
  {
   "cell_type": "code",
   "execution_count": null,
   "metadata": {
    "id": "Ln5Bdmd95Ebd"
   },
   "outputs": [
    {
     "name": "stdout",
     "output_type": "stream",
     "text": [
      "WARNING:tensorflow:Layer lstm_2 will not use cuDNN kernels since it doesn't meet the criteria. It will use a generic GPU kernel as fallback when running on GPU.\n"
     ]
    }
   ],
   "source": [
    "hybrid_model = keras.models.load_model(\"./models/hybrid_model.keras\")"
   ]
  },
  {
   "cell_type": "code",
   "execution_count": null,
   "metadata": {},
   "outputs": [],
   "source": [
    "!pip install pydot graphviz"
   ]
  },
  {
   "cell_type": "code",
   "execution_count": null,
   "metadata": {
    "colab": {
     "base_uri": "https://localhost:8080/",
     "height": 312
    },
    "executionInfo": {
     "elapsed": 5,
     "status": "ok",
     "timestamp": 1713190617356,
     "user": {
      "displayName": "Jacob Gerlach",
      "userId": "10710073523636440366"
     },
     "user_tz": 240
    },
    "id": "qDfPJe2ZHGuG",
    "outputId": "fa762b7b-a3c2-43c6-8c1c-98b5f09fe595"
   },
   "outputs": [
    {
     "name": "stdout",
     "output_type": "stream",
     "text": [
      "You must install pydot (`pip install pydot`) and install graphviz (see instructions at https://graphviz.gitlab.io/download/) for plot_model to work.\n"
     ]
    }
   ],
   "source": [
    "plot_model(hybrid_model,to_file=\"hybrid_model_architecture.png\", show_shapes=True, show_layer_names=False)"
   ]
  },
  {
   "cell_type": "code",
   "execution_count": null,
   "metadata": {
    "colab": {
     "base_uri": "https://localhost:8080/"
    },
    "executionInfo": {
     "elapsed": 21337,
     "status": "ok",
     "timestamp": 1713153346836,
     "user": {
      "displayName": "Jacob Gerlach",
      "userId": "10710073523636440366"
     },
     "user_tz": 240
    },
    "id": "LP78ONIW5SiT",
    "outputId": "88046e9f-e63a-4621-ef57-e12ec494d32a"
   },
   "outputs": [
    {
     "name": "stdout",
     "output_type": "stream",
     "text": [
      "3827/3827 [==============================] - 13s 3ms/step\n"
     ]
    }
   ],
   "source": [
    "Y_pred = hybrid_model.predict(X_test)"
   ]
  },
  {
   "cell_type": "code",
   "execution_count": null,
   "metadata": {
    "colab": {
     "base_uri": "https://localhost:8080/"
    },
    "executionInfo": {
     "elapsed": 26,
     "status": "ok",
     "timestamp": 1713153346837,
     "user": {
      "displayName": "Jacob Gerlach",
      "userId": "10710073523636440366"
     },
     "user_tz": 240
    },
    "id": "hq28nvOZ5Edx",
    "outputId": "27d628b4-8a75-4bdf-fe0a-7cb190d1812f"
   },
   "outputs": [
    {
     "data": {
      "text/plain": [
       "370.4797229216997"
      ]
     },
     "execution_count": 15,
     "metadata": {},
     "output_type": "execute_result"
    }
   ],
   "source": [
    "mean_squared_error(Y_test, Y_pred)"
   ]
  },
  {
   "cell_type": "code",
   "execution_count": null,
   "metadata": {
    "colab": {
     "base_uri": "https://localhost:8080/"
    },
    "executionInfo": {
     "elapsed": 24,
     "status": "ok",
     "timestamp": 1713153346837,
     "user": {
      "displayName": "Jacob Gerlach",
      "userId": "10710073523636440366"
     },
     "user_tz": 240
    },
    "id": "15RktZJy5EgG",
    "outputId": "bc381ac2-6d6b-4b1f-c747-bab11c3d6834"
   },
   "outputs": [
    {
     "data": {
      "text/plain": [
       "10.5174843329492"
      ]
     },
     "execution_count": 16,
     "metadata": {},
     "output_type": "execute_result"
    }
   ],
   "source": [
    "mean_absolute_error(Y_test, Y_pred)"
   ]
  }
 ],
 "metadata": {
  "colab": {
   "authorship_tag": "ABX9TyPz2DWDyq9g9pzOunwjFV2K",
   "provenance": []
  },
  "kernelspec": {
   "display_name": "Python 3",
   "language": "python",
   "name": "python3"
  },
  "language_info": {
   "codemirror_mode": {
    "name": "ipython",
    "version": 3
   },
   "file_extension": ".py",
   "mimetype": "text/x-python",
   "name": "python",
   "nbconvert_exporter": "python",
   "pygments_lexer": "ipython3",
   "version": "3.10.16"
  }
 },
 "nbformat": 4,
 "nbformat_minor": 0
}
