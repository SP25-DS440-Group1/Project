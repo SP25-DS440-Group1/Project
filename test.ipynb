{
 "cells": [
  {
   "cell_type": "code",
   "execution_count": 4,
   "id": "c161329f",
   "metadata": {},
   "outputs": [],
   "source": [
    "\n",
    "import pandas as pd"
   ]
  },
  {
   "cell_type": "code",
   "execution_count": 5,
   "id": "0574d8d2",
   "metadata": {},
   "outputs": [],
   "source": [
    "# Load your merged graph dataset\n",
    "df = pd.read_csv(\"./Datasets/Weather_Datasets/2024_merged.csv\", parse_dates=[\"timestamp\"], dtype={\"station_id\": str},\n",
    "    low_memory=False)"
   ]
  },
  {
   "cell_type": "code",
   "execution_count": 6,
   "id": "3f7103cc",
   "metadata": {},
   "outputs": [
    {
     "name": "stdout",
     "output_type": "stream",
     "text": [
      "station_id      object\n",
      "timestamp       object\n",
      "LATITUDE       float64\n",
      "LONGITUDE      float64\n",
      "temperature    float64\n",
      "dew_point      float64\n",
      "wind_speed       int64\n",
      "visibility     float64\n",
      "pressure       float64\n",
      "ceiling        float64\n",
      "dtype: object\n"
     ]
    }
   ],
   "source": [
    "print(df.dtypes)\n"
   ]
  },
  {
   "cell_type": "code",
   "execution_count": 7,
   "id": "2b11f18f",
   "metadata": {},
   "outputs": [
    {
     "name": "stdout",
     "output_type": "stream",
     "text": [
      "🔹 Unique stations: 13345\n",
      "🔹 Date range: 2024-01-01 to 2024-12-31 23:00:00\n"
     ]
    }
   ],
   "source": [
    "print(\"🔹 Unique stations:\", df[\"station_id\"].nunique())\n",
    "print(\"🔹 Date range:\", df[\"timestamp\"].min(), \"to\", df[\"timestamp\"].max())\n"
   ]
  },
  {
   "cell_type": "code",
   "execution_count": 8,
   "id": "da949e6d",
   "metadata": {},
   "outputs": [
    {
     "name": "stdout",
     "output_type": "stream",
     "text": [
      "🔹 First 5 rows:\n",
      "   station_id   timestamp   LATITUDE  LONGITUDE  temperature  dew_point  \\\n",
      "0  1001099999  2024-01-01  70.933333  -8.666667         -7.0      -13.0   \n",
      "1  1003099999  2024-01-01  77.000000  15.500000         -2.3       -3.5   \n",
      "2  1007099999  2024-01-01  78.916667  11.933333         -1.5       -8.1   \n",
      "3  1008099999  2024-01-01  78.246111  15.465556         -1.7       -3.9   \n",
      "4  1008099999  2024-01-01  78.246111  15.465556         -2.0       -4.0   \n",
      "\n",
      "   wind_speed  visibility  pressure  ceiling  \n",
      "0          61     99999.9    1020.8  99999.0  \n",
      "1          20      1000.0    1006.5  99999.0  \n",
      "2          46     99999.9    1005.5  99999.0  \n",
      "3          40      1000.0    1006.3  99999.0  \n",
      "4          57       999.9    9999.9   1463.0  \n",
      "\n",
      "🔹 Column Info:\n",
      "<class 'pandas.core.frame.DataFrame'>\n",
      "RangeIndex: 130222106 entries, 0 to 130222105\n",
      "Data columns (total 10 columns):\n",
      " #   Column       Dtype  \n",
      "---  ------       -----  \n",
      " 0   station_id   object \n",
      " 1   timestamp    object \n",
      " 2   LATITUDE     float64\n",
      " 3   LONGITUDE    float64\n",
      " 4   temperature  float64\n",
      " 5   dew_point    float64\n",
      " 6   wind_speed   int64  \n",
      " 7   visibility   float64\n",
      " 8   pressure     float64\n",
      " 9   ceiling      float64\n",
      "dtypes: float64(7), int64(1), object(2)\n",
      "memory usage: 9.7+ GB\n",
      "None\n",
      "\n",
      "🔹 Descriptive Stats:\n",
      "           LATITUDE     LONGITUDE   temperature     dew_point    wind_speed  \\\n",
      "count  1.302221e+08  1.302221e+08  1.302221e+08  1.302221e+08  1.302221e+08   \n",
      "mean   3.447400e+01 -3.382419e+01  4.505474e+01  1.866714e+02  1.486924e+03   \n",
      "std    2.465557e+01  8.124420e+01  1.738688e+02  3.814756e+02  3.517526e+03   \n",
      "min   -9.000000e+01 -1.799833e+02 -8.190000e+01 -8.560000e+01  0.000000e+00   \n",
      "25%    3.179010e+01 -9.524056e+01  6.000000e+00  2.900000e+00  1.500000e+01   \n",
      "50%    4.046700e+01 -7.250000e+01  1.500000e+01  1.180000e+01  3.100000e+01   \n",
      "75%    4.783333e+01  1.785389e+01  2.350000e+01  2.270000e+01  6.200000e+01   \n",
      "max    8.365000e+01  1.797500e+02  9.999000e+02  9.999000e+02  9.999000e+03   \n",
      "\n",
      "         visibility      pressure       ceiling  \n",
      "count  1.302221e+08  1.302221e+08  1.302221e+08  \n",
      "mean   3.564361e+04  6.411046e+03  5.806714e+04  \n",
      "std    4.692669e+04  4.400879e+03  4.485626e+04  \n",
      "min    0.000000e+00  8.606000e+02  0.000000e+00  \n",
      "25%    9.999000e+02  1.016800e+03  2.200000e+04  \n",
      "50%    1.609300e+03  9.999900e+03  9.999900e+04  \n",
      "75%    9.999990e+04  9.999900e+03  9.999900e+04  \n",
      "max    9.999990e+04  9.999900e+03  9.999900e+04  \n",
      "\n",
      "🔹 Missing Values per Column:\n",
      "station_id     0\n",
      "timestamp      0\n",
      "LATITUDE       0\n",
      "LONGITUDE      0\n",
      "temperature    0\n",
      "dew_point      0\n",
      "wind_speed     0\n",
      "visibility     0\n",
      "pressure       0\n",
      "ceiling        0\n",
      "dtype: int64\n"
     ]
    }
   ],
   "source": [
    "\n",
    "\n",
    "# Show top 5 rows\n",
    "print(\"🔹 First 5 rows:\")\n",
    "print(df.head())\n",
    "\n",
    "# Show summary of columns and data types\n",
    "print(\"\\n🔹 Column Info:\")\n",
    "print(df.info())\n",
    "\n",
    "# Show basic statistics for numeric columns\n",
    "print(\"\\n🔹 Descriptive Stats:\")\n",
    "print(df.describe())\n",
    "\n",
    "# Check for missing values\n",
    "print(\"\\n🔹 Missing Values per Column:\")\n",
    "print(df.isnull().sum())"
   ]
  },
  {
   "cell_type": "code",
   "execution_count": null,
   "id": "96364797",
   "metadata": {},
   "outputs": [],
   "source": []
  }
 ],
 "metadata": {
  "kernelspec": {
   "display_name": "Python 3",
   "language": "python",
   "name": "python3"
  },
  "language_info": {
   "codemirror_mode": {
    "name": "ipython",
    "version": 3
   },
   "file_extension": ".py",
   "mimetype": "text/x-python",
   "name": "python",
   "nbconvert_exporter": "python",
   "pygments_lexer": "ipython3",
   "version": "3.10.16"
  }
 },
 "nbformat": 4,
 "nbformat_minor": 5
}
