{
  "cells": [
    {
      "cell_type": "code",
      "execution_count": 1,
      "metadata": {
        "id": "x1Iqkrr2XdpU"
      },
      "outputs": [],
      "source": [
        "import numpy as np\n",
        "import pandas as pd\n",
        "from sklearn.preprocessing import LabelEncoder, MinMaxScaler, StandardScaler\n",
        "from sklearn.model_selection import train_test_split\n",
        "import plotly.express as px\n",
        "import matplotlib.pyplot as plt\n",
        "from sklearn.decomposition import PCA\n",
        "import plotly.io as pio\n",
        "# open in jupyter:\n",
        "pio.renderers.default = \"svg\""
      ]
    },
    {
      "cell_type": "markdown",
      "metadata": {},
      "source": [
        "combine monthly arrival statistics"
      ]
    },
    {
      "cell_type": "code",
      "execution_count": null,
      "metadata": {},
      "outputs": [],
      "source": []
    },
    {
      "cell_type": "code",
      "execution_count": 12,
      "metadata": {},
      "outputs": [],
      "source": [
        "import pandas as pd\n",
        "import glob\n",
        "import os\n",
        "\n",
        "# 1) directory containing your 12 monthly CSVs\n",
        "CSV_DIR = \"Datasets/Arrival_With_Weather/2023\"\n",
        "\n",
        "desired_cols = [\n",
        "    \"FL_DATE\",\"AIRLINE\",\"AIRLINE_DOT\",\"AIRLINE_CODE\",\"FL_NUMBER\",\n",
        "    \"ORIGIN\",\"ORIGIN_CITY\",\"DEST\",\"DEST_CITY\",\n",
        "    \"CRS_DEP_TIME\",\"DEP_TIME\",\"DEP_DELAY\",\n",
        "    \"TAXI_OUT\",\"WHEELS_OFF\",\"WHEELS_ON\",\"TAXI_IN\",\n",
        "    \"CRS_ARR_TIME\",\"ARR_TIME\",\"ARR_DELAY\",\n",
        "    \"CANCELLED\",\"CANCELLATION_CODE\",\"DIVERTED\",\n",
        "    \"CRS_ELAPSED_TIME\",\"ELAPSED_TIME\",\"AIR_TIME\",\"DISTANCE\",\n",
        "    \"DELAY_DUE_CARRIER\",\"DELAY_DUE_WEATHER\",\"DELAY_DUE_NAS\",\n",
        "    \"DELAY_DUE_SECURITY\",\"DELAY_DUE_LATE_AIRCRAFT\",\n",
        "    # weather\n",
        "    \"ORIGIN_TEMP\",\"ORIGIN_PRESSURE\",\"ORIGIN_U_COMP_WIND\",\n",
        "    \"ORIGIN_V_COMP_WIND\",\"ORIGIN_PRECIP_6HR\",\n",
        "    \"DEST_TEMP\",\"DEST_PRESSURE\",\"DEST_U_COMP_WIND\",\n",
        "    \"DEST_V_COMP_WIND\",\"DEST_PRECIP_6HR\",\n",
        "]\n",
        "\n",
        "# 3) rename map: current names → desired names\n",
        "rename_map = {\n",
        "    # flight fields (fill in your actual current column names)\n",
        "    \"FlightDate\": \"FL_DATE\",\n",
        "    \"Reporting_Airline\": \"AIRLINE\",\n",
        "    \"DOT_ID_Reporting_Airline\": \"AIRLINE_DOT\",\n",
        "    \"IATA_CODE_Reporting_Airline\": \"AIRLINE_CODE\",\n",
        "    \"Flight_Number_Reporting_Airline\": \"FL_NUMBER\",\n",
        "    \"Origin\": \"ORIGIN\",\n",
        "    \"OriginCityName\": \"ORIGIN_CITY\",\n",
        "    \"Dest\": \"DEST\",\n",
        "    \"DestCityName\": \"DEST_CITY\",\n",
        "    \"CRSDepTime\": \"CRS_DEP_TIME\",\n",
        "    \"DepTime\": \"DEP_TIME\",\n",
        "    \"DepDelay\": \"DEP_DELAY\",\n",
        "    \"TaxiOut\": \"TAXI_OUT\",\n",
        "    \"WheelsOff\": \"WHEELS_OFF\",\n",
        "    \"WheelsOn\": \"WHEELS_ON\",\n",
        "    \"TaxiIn\": \"TAXI_IN\",\n",
        "    \"CRSArrTime\": \"CRS_ARR_TIME\",\n",
        "    \"ArrTime\": \"ARR_TIME\",\n",
        "    \"ArrDelay\": \"ARR_DELAY\",\n",
        "    \"Cancelled\": \"CANCELLED\",\n",
        "    \"CancellationCode\": \"CANCELLATION_CODE\",\n",
        "    \"Diverted\": \"DIVERTED\",\n",
        "    \"CRSElapsedTime\": \"CRS_ELAPSED_TIME\",\n",
        "    \"ActualElapsedTime\": \"ELAPSED_TIME\",\n",
        "    \"AirTime\": \"AIR_TIME\",\n",
        "    \"Distance\": \"DISTANCE\",\n",
        "    \"CarrierDelay\": \"DELAY_DUE_CARRIER\",\n",
        "    \"WeatherDelay\": \"DELAY_DUE_WEATHER\",\n",
        "    \"NASDelay\": \"DELAY_DUE_NAS\",\n",
        "    \"SecurityDelay\": \"DELAY_DUE_SECURITY\",\n",
        "    \"LateAircraftDelay\": \"DELAY_DUE_LATE_AIRCRAFT\",\n",
        "    \"Origin_2m_temperature\": \"ORIGIN_TEMP\",\n",
        "    \"Origin_mean_sea_level_pressure\": \"ORIGIN_PRESSURE\",\n",
        "    \"Origin_10m_u_component_of_wind\": \"ORIGIN_U_COMP_WIND\",\n",
        "    \"Origin_10m_v_component_of_wind\": \"ORIGIN_V_COMP_WIND\",\n",
        "    \"Origin_total_precipitation_6hr\": \"ORIGIN_PRECIP_6HR\",\n",
        "    \"Dest_2m_temperature\": \"DEST_TEMP\",\n",
        "    \"Dest_mean_sea_level_pressure\": \"DEST_PRESSURE\",\n",
        "    \"Dest_10m_u_component_of_wind\": \"DEST_U_COMP_WIND\",\n",
        "    \"Dest_10m_v_component_of_wind\": \"DEST_V_COMP_WIND\",\n",
        "    \"Dest_total_precipitation_6hr\": \"DEST_PRECIP_6HR\"\n",
        "}\n",
        "\n",
        "# 4) gather, standardize, and concatenate\n",
        "all_files = sorted(glob.glob(os.path.join(CSV_DIR, \"*.csv\")))\n",
        "standardized_dfs = []\n",
        "\n",
        "for fp in all_files:\n",
        "    df = pd.read_csv(fp, low_memory=False)\n",
        "    # 1) rename to get FL_DATE in place\n",
        "    df = df.rename(columns=rename_map)\n",
        "    # 2) now safely parse the new FL_DATE\n",
        "    df[\"FL_DATE\"] = pd.to_datetime(df[\"FL_DATE\"])\n",
        "\n",
        "    # ensure every desired column exists\n",
        "    for col in desired_cols:\n",
        "        if col not in df.columns:\n",
        "            df[col] = pd.NA\n",
        "    # select & reorder\n",
        "    df = df[desired_cols]\n",
        "    standardized_dfs.append(df)\n",
        "\n",
        "# final merge\n",
        "merged = pd.concat(standardized_dfs, ignore_index=True)\n",
        "\n",
        "# 5) save out the combined dataset\n",
        "merged.to_csv(\"Datasets/2023_Arrival_Combined.csv\", index=False)\n"
      ]
    },
    {
      "cell_type": "markdown",
      "metadata": {
        "id": "wUKMFwap73Pl"
      },
      "source": [
        "Load and view dataset"
      ]
    },
    {
      "cell_type": "code",
      "execution_count": null,
      "metadata": {},
      "outputs": [],
      "source": []
    },
    {
      "cell_type": "code",
      "execution_count": 2,
      "metadata": {
        "id": "Z4Fn0hUvZH4P"
      },
      "outputs": [
        {
          "name": "stderr",
          "output_type": "stream",
          "text": [
            "C:\\Users\\ebror\\AppData\\Local\\Temp\\ipykernel_25700\\4199353549.py:2: DtypeWarning:\n",
            "\n",
            "Columns (20) have mixed types. Specify dtype option on import or set low_memory=False.\n",
            "\n"
          ]
        }
      ],
      "source": [
        "#df_raw = pd.read_csv(\"../data/flights_sample_3m.csv\", encoding=\"utf-8\")\n",
        "df_augmented = pd.read_csv(\"Datasets/2023_Arrival_Combined.csv\", encoding=\"utf-8\")"
      ]
    },
    {
      "cell_type": "code",
      "execution_count": 3,
      "metadata": {},
      "outputs": [],
      "source": [
        "df = df_augmented #df_raw\n",
        "#df1 = df_raw"
      ]
    },
    {
      "cell_type": "code",
      "execution_count": 4,
      "metadata": {
        "colab": {
          "base_uri": "https://localhost:8080/"
        },
        "id": "byRpRingZqTT",
        "outputId": "a80a3a45-4de9-4167-f882-1d0d48a1007c"
      },
      "outputs": [
        {
          "data": {
            "text/plain": [
              "(6847899, 41)"
            ]
          },
          "execution_count": 4,
          "metadata": {},
          "output_type": "execute_result"
        }
      ],
      "source": [
        "#df1.shape\n",
        "df.shape"
      ]
    },
    {
      "cell_type": "code",
      "execution_count": 5,
      "metadata": {
        "colab": {
          "base_uri": "https://localhost:8080/"
        },
        "id": "eKO1p07iaDWo",
        "outputId": "b4fc1e64-7617-44ae-8d24-7fb5920b54e1"
      },
      "outputs": [
        {
          "data": {
            "text/plain": [
              "Index(['FL_DATE', 'AIRLINE', 'AIRLINE_DOT', 'AIRLINE_CODE', 'FL_NUMBER',\n",
              "       'ORIGIN', 'ORIGIN_CITY', 'DEST', 'DEST_CITY', 'CRS_DEP_TIME',\n",
              "       'DEP_TIME', 'DEP_DELAY', 'TAXI_OUT', 'WHEELS_OFF', 'WHEELS_ON',\n",
              "       'TAXI_IN', 'CRS_ARR_TIME', 'ARR_TIME', 'ARR_DELAY', 'CANCELLED',\n",
              "       'CANCELLATION_CODE', 'DIVERTED', 'CRS_ELAPSED_TIME', 'ELAPSED_TIME',\n",
              "       'AIR_TIME', 'DISTANCE', 'DELAY_DUE_CARRIER', 'DELAY_DUE_WEATHER',\n",
              "       'DELAY_DUE_NAS', 'DELAY_DUE_SECURITY', 'DELAY_DUE_LATE_AIRCRAFT',\n",
              "       'ORIGIN_TEMP', 'ORIGIN_PRESSURE', 'ORIGIN_U_COMP_WIND',\n",
              "       'ORIGIN_V_COMP_WIND', 'ORIGIN_PRECIP_6HR', 'DEST_TEMP', 'DEST_PRESSURE',\n",
              "       'DEST_U_COMP_WIND', 'DEST_V_COMP_WIND', 'DEST_PRECIP_6HR'],\n",
              "      dtype='object')"
            ]
          },
          "execution_count": 5,
          "metadata": {},
          "output_type": "execute_result"
        }
      ],
      "source": [
        "#df1.columns\n",
        "df.columns"
      ]
    },
    {
      "cell_type": "code",
      "execution_count": 6,
      "metadata": {
        "colab": {
          "base_uri": "https://localhost:8080/",
          "height": 411
        },
        "id": "1cUsCEew76t2",
        "outputId": "8f53cf9c-bb9e-4d95-dd7e-b84ea2bd5df7"
      },
      "outputs": [
        {
          "data": {
            "text/html": [
              "<div>\n",
              "<style scoped>\n",
              "    .dataframe tbody tr th:only-of-type {\n",
              "        vertical-align: middle;\n",
              "    }\n",
              "\n",
              "    .dataframe tbody tr th {\n",
              "        vertical-align: top;\n",
              "    }\n",
              "\n",
              "    .dataframe thead th {\n",
              "        text-align: right;\n",
              "    }\n",
              "</style>\n",
              "<table border=\"1\" class=\"dataframe\">\n",
              "  <thead>\n",
              "    <tr style=\"text-align: right;\">\n",
              "      <th></th>\n",
              "      <th>FL_DATE</th>\n",
              "      <th>AIRLINE</th>\n",
              "      <th>AIRLINE_DOT</th>\n",
              "      <th>AIRLINE_CODE</th>\n",
              "      <th>FL_NUMBER</th>\n",
              "      <th>ORIGIN</th>\n",
              "      <th>ORIGIN_CITY</th>\n",
              "      <th>DEST</th>\n",
              "      <th>DEST_CITY</th>\n",
              "      <th>CRS_DEP_TIME</th>\n",
              "      <th>...</th>\n",
              "      <th>ORIGIN_TEMP</th>\n",
              "      <th>ORIGIN_PRESSURE</th>\n",
              "      <th>ORIGIN_U_COMP_WIND</th>\n",
              "      <th>ORIGIN_V_COMP_WIND</th>\n",
              "      <th>ORIGIN_PRECIP_6HR</th>\n",
              "      <th>DEST_TEMP</th>\n",
              "      <th>DEST_PRESSURE</th>\n",
              "      <th>DEST_U_COMP_WIND</th>\n",
              "      <th>DEST_V_COMP_WIND</th>\n",
              "      <th>DEST_PRECIP_6HR</th>\n",
              "    </tr>\n",
              "  </thead>\n",
              "  <tbody>\n",
              "    <tr>\n",
              "      <th>0</th>\n",
              "      <td>2023-01-02</td>\n",
              "      <td>9E</td>\n",
              "      <td>20363</td>\n",
              "      <td>9E</td>\n",
              "      <td>4628</td>\n",
              "      <td>BDL</td>\n",
              "      <td>Hartford, CT</td>\n",
              "      <td>LGA</td>\n",
              "      <td>New York, NY</td>\n",
              "      <td>800</td>\n",
              "      <td>...</td>\n",
              "      <td>274.93674</td>\n",
              "      <td>101594.630</td>\n",
              "      <td>0.802523</td>\n",
              "      <td>0.581528</td>\n",
              "      <td>0.000000</td>\n",
              "      <td>279.32574</td>\n",
              "      <td>101669.69</td>\n",
              "      <td>2.430652</td>\n",
              "      <td>1.073036</td>\n",
              "      <td>0.000002</td>\n",
              "    </tr>\n",
              "    <tr>\n",
              "      <th>1</th>\n",
              "      <td>2023-01-03</td>\n",
              "      <td>9E</td>\n",
              "      <td>20363</td>\n",
              "      <td>9E</td>\n",
              "      <td>4628</td>\n",
              "      <td>BDL</td>\n",
              "      <td>Hartford, CT</td>\n",
              "      <td>LGA</td>\n",
              "      <td>New York, NY</td>\n",
              "      <td>800</td>\n",
              "      <td>...</td>\n",
              "      <td>272.82083</td>\n",
              "      <td>102107.070</td>\n",
              "      <td>0.402551</td>\n",
              "      <td>-0.698235</td>\n",
              "      <td>0.000000</td>\n",
              "      <td>282.40952</td>\n",
              "      <td>102038.56</td>\n",
              "      <td>-0.593046</td>\n",
              "      <td>2.676474</td>\n",
              "      <td>0.000414</td>\n",
              "    </tr>\n",
              "    <tr>\n",
              "      <th>2</th>\n",
              "      <td>2023-01-04</td>\n",
              "      <td>9E</td>\n",
              "      <td>20363</td>\n",
              "      <td>9E</td>\n",
              "      <td>4628</td>\n",
              "      <td>BDL</td>\n",
              "      <td>Hartford, CT</td>\n",
              "      <td>LGA</td>\n",
              "      <td>New York, NY</td>\n",
              "      <td>800</td>\n",
              "      <td>...</td>\n",
              "      <td>278.75700</td>\n",
              "      <td>100796.586</td>\n",
              "      <td>0.680189</td>\n",
              "      <td>1.778630</td>\n",
              "      <td>0.004196</td>\n",
              "      <td>283.35420</td>\n",
              "      <td>100911.00</td>\n",
              "      <td>3.174283</td>\n",
              "      <td>3.412431</td>\n",
              "      <td>0.001676</td>\n",
              "    </tr>\n",
              "    <tr>\n",
              "      <th>3</th>\n",
              "      <td>2023-01-05</td>\n",
              "      <td>9E</td>\n",
              "      <td>20363</td>\n",
              "      <td>9E</td>\n",
              "      <td>4628</td>\n",
              "      <td>BDL</td>\n",
              "      <td>Hartford, CT</td>\n",
              "      <td>LGA</td>\n",
              "      <td>New York, NY</td>\n",
              "      <td>800</td>\n",
              "      <td>...</td>\n",
              "      <td>278.44290</td>\n",
              "      <td>101170.250</td>\n",
              "      <td>-1.195706</td>\n",
              "      <td>-2.162482</td>\n",
              "      <td>0.002251</td>\n",
              "      <td>283.64417</td>\n",
              "      <td>100968.87</td>\n",
              "      <td>0.762427</td>\n",
              "      <td>0.292270</td>\n",
              "      <td>0.000692</td>\n",
              "    </tr>\n",
              "    <tr>\n",
              "      <th>4</th>\n",
              "      <td>2023-01-06</td>\n",
              "      <td>9E</td>\n",
              "      <td>20363</td>\n",
              "      <td>9E</td>\n",
              "      <td>4628</td>\n",
              "      <td>BDL</td>\n",
              "      <td>Hartford, CT</td>\n",
              "      <td>LGA</td>\n",
              "      <td>New York, NY</td>\n",
              "      <td>800</td>\n",
              "      <td>...</td>\n",
              "      <td>275.91437</td>\n",
              "      <td>101580.010</td>\n",
              "      <td>-1.507366</td>\n",
              "      <td>-1.388206</td>\n",
              "      <td>0.000162</td>\n",
              "      <td>280.19208</td>\n",
              "      <td>101450.96</td>\n",
              "      <td>-2.978482</td>\n",
              "      <td>0.235919</td>\n",
              "      <td>0.000157</td>\n",
              "    </tr>\n",
              "  </tbody>\n",
              "</table>\n",
              "<p>5 rows × 41 columns</p>\n",
              "</div>"
            ],
            "text/plain": [
              "      FL_DATE AIRLINE  AIRLINE_DOT AIRLINE_CODE  FL_NUMBER ORIGIN  \\\n",
              "0  2023-01-02      9E        20363           9E       4628    BDL   \n",
              "1  2023-01-03      9E        20363           9E       4628    BDL   \n",
              "2  2023-01-04      9E        20363           9E       4628    BDL   \n",
              "3  2023-01-05      9E        20363           9E       4628    BDL   \n",
              "4  2023-01-06      9E        20363           9E       4628    BDL   \n",
              "\n",
              "    ORIGIN_CITY DEST     DEST_CITY  CRS_DEP_TIME  ...  ORIGIN_TEMP  \\\n",
              "0  Hartford, CT  LGA  New York, NY           800  ...    274.93674   \n",
              "1  Hartford, CT  LGA  New York, NY           800  ...    272.82083   \n",
              "2  Hartford, CT  LGA  New York, NY           800  ...    278.75700   \n",
              "3  Hartford, CT  LGA  New York, NY           800  ...    278.44290   \n",
              "4  Hartford, CT  LGA  New York, NY           800  ...    275.91437   \n",
              "\n",
              "   ORIGIN_PRESSURE  ORIGIN_U_COMP_WIND  ORIGIN_V_COMP_WIND  ORIGIN_PRECIP_6HR  \\\n",
              "0       101594.630            0.802523            0.581528           0.000000   \n",
              "1       102107.070            0.402551           -0.698235           0.000000   \n",
              "2       100796.586            0.680189            1.778630           0.004196   \n",
              "3       101170.250           -1.195706           -2.162482           0.002251   \n",
              "4       101580.010           -1.507366           -1.388206           0.000162   \n",
              "\n",
              "   DEST_TEMP  DEST_PRESSURE  DEST_U_COMP_WIND  DEST_V_COMP_WIND  \\\n",
              "0  279.32574      101669.69          2.430652          1.073036   \n",
              "1  282.40952      102038.56         -0.593046          2.676474   \n",
              "2  283.35420      100911.00          3.174283          3.412431   \n",
              "3  283.64417      100968.87          0.762427          0.292270   \n",
              "4  280.19208      101450.96         -2.978482          0.235919   \n",
              "\n",
              "   DEST_PRECIP_6HR  \n",
              "0         0.000002  \n",
              "1         0.000414  \n",
              "2         0.001676  \n",
              "3         0.000692  \n",
              "4         0.000157  \n",
              "\n",
              "[5 rows x 41 columns]"
            ]
          },
          "execution_count": 6,
          "metadata": {},
          "output_type": "execute_result"
        }
      ],
      "source": [
        "#df1.head()\n",
        "df.head()"
      ]
    },
    {
      "cell_type": "markdown",
      "metadata": {
        "id": "wqXab7FG8c0k"
      },
      "source": [
        "Convert FL_DATE to \"datetime\" recognized by pandas"
      ]
    },
    {
      "cell_type": "code",
      "execution_count": 7,
      "metadata": {
        "id": "FaC3XR7WdIJb"
      },
      "outputs": [],
      "source": [
        "df['FL_DATE'] = pd.to_datetime(df['FL_DATE'], format='%Y-%m-%d').copy()"
      ]
    },
    {
      "cell_type": "markdown",
      "metadata": {
        "id": "AlvGM8hAFQ4s"
      },
      "source": [
        "Toggle assertions on or off"
      ]
    },
    {
      "cell_type": "code",
      "execution_count": 8,
      "metadata": {
        "id": "vnQxVFbu_Lxr"
      },
      "outputs": [],
      "source": [
        "TEST: bool = True"
      ]
    },
    {
      "cell_type": "markdown",
      "metadata": {
        "id": "OE8h00008oQ8"
      },
      "source": [
        "Drop cancelled and diverted flights, they are outside of our scope. we only want delayed flights"
      ]
    },
    {
      "cell_type": "code",
      "execution_count": 9,
      "metadata": {
        "id": "UFoYJnR--_Eu"
      },
      "outputs": [],
      "source": [
        "num_cancelled_or_diverted = len(df[(df['CANCELLED'] == 1) | (df['DIVERTED'] == 1)])\n",
        "cancelled_or_diverted_counts = df[(df['CANCELLED'] == 1) | (df['DIVERTED'] == 1)][\"FL_DATE\"].dt.strftime('%Y-%m').value_counts().sort_index()\n",
        "df = df[(df['CANCELLED'] != 1) & (df['DIVERTED'] != 1)]"
      ]
    },
    {
      "cell_type": "markdown",
      "metadata": {
        "id": "b7XRRBeB80AI"
      },
      "source": [
        "Attempt to drop duplicates, we found out there aren't any"
      ]
    },
    {
      "cell_type": "code",
      "execution_count": 10,
      "metadata": {
        "id": "A9L3bbQEzu-4"
      },
      "outputs": [
        {
          "name": "stderr",
          "output_type": "stream",
          "text": [
            "C:\\Users\\ebror\\AppData\\Local\\Temp\\ipykernel_25700\\2043404110.py:2: SettingWithCopyWarning:\n",
            "\n",
            "\n",
            "A value is trying to be set on a copy of a slice from a DataFrame\n",
            "\n",
            "See the caveats in the documentation: https://pandas.pydata.org/pandas-docs/stable/user_guide/indexing.html#returning-a-view-versus-a-copy\n",
            "\n"
          ]
        }
      ],
      "source": [
        "df_len_with_duplicates = len(df)\n",
        "df.drop_duplicates(inplace=True)\n",
        "if TEST:\n",
        "  assert len(df) == df_len_with_duplicates  # no duplicates"
      ]
    },
    {
      "cell_type": "code",
      "execution_count": 11,
      "metadata": {
        "id": "7Fy590r8gpCD"
      },
      "outputs": [],
      "source": [
        "def split_by_components(df: pd.DataFrame):\n",
        "  # Finding: if there is one component, it has all components\n",
        "  isna_mask = df[['DELAY_DUE_CARRIER', 'DELAY_DUE_WEATHER',\n",
        "                  'DELAY_DUE_NAS', 'DELAY_DUE_SECURITY',\n",
        "                  'DELAY_DUE_LATE_AIRCRAFT']].isna().any(axis=1)\n",
        "\n",
        "  delay_components_df = df[~isna_mask]\n",
        "  no_delay_components_df = df[isna_mask]\n",
        "\n",
        "  return delay_components_df, no_delay_components_df\n"
      ]
    },
    {
      "cell_type": "markdown",
      "metadata": {
        "id": "K7xhQ7lx-mYh"
      },
      "source": [
        "Visualize presence of delay components"
      ]
    },
    {
      "cell_type": "code",
      "execution_count": null,
      "metadata": {
        "colab": {
          "base_uri": "https://localhost:8080/",
          "height": 617
        },
        "id": "S3hv77yMZ7jO",
        "outputId": "41ebc037-30c2-490e-c60c-bffefc8d73b8"
      },
      "outputs": [],
      "source": [
        "delay_components_df, no_delay_components_df = split_by_components(df)\n",
        "\n",
        "ratio_components = len(delay_components_df) / len(df)\n",
        "\n",
        "fig = px.pie(values=[len(delay_components_df), len(no_delay_components_df), num_cancelled_or_diverted],\n",
        "             names=[\"Has delay components\", \"Missing delay components\", \"Cancelled or Diverted\"])\n",
        "fig.update_layout(title_text=\"Y Delay Components\", title_x=0.5, width=800, height=600)"
      ]
    },
    {
      "cell_type": "markdown",
      "metadata": {
        "id": "kv0Xc6FC-2Vi"
      },
      "source": [
        "Visualize presence of delay components over each month in the dataset. Blue represents data that we can use."
      ]
    },
    {
      "cell_type": "code",
      "execution_count": null,
      "metadata": {
        "colab": {
          "base_uri": "https://localhost:8080/",
          "height": 542
        },
        "id": "zG1PEek0cvZG",
        "outputId": "4369d5a1-a50a-4943-b433-46ff86c7ff6d"
      },
      "outputs": [
        {
          "data": {
            "application/vnd.plotly.v1+json": {
              "config": {
                "plotlyServerURL": "https://plot.ly"
              },
              "data": [
                {
                  "bingroup": "x",
                  "histfunc": "sum",
                  "hovertemplate": "Delay Status=Has Delay Components<br>Unique Dates=%{x}<br>sum of Count=%{y}<extra></extra>",
                  "legendgroup": "Has Delay Components",
                  "marker": {
                    "color": "#636efa",
                    "pattern": {
                      "shape": ""
                    }
                  },
                  "name": "Has Delay Components",
                  "orientation": "v",
                  "showlegend": true,
                  "type": "histogram",
                  "x": [
                    "2019-01",
                    "2019-02",
                    "2019-03",
                    "2019-04",
                    "2019-05",
                    "2019-06",
                    "2019-07",
                    "2019-08",
                    "2019-09",
                    "2019-10",
                    "2019-11",
                    "2019-12",
                    "2020-01",
                    "2020-02",
                    "2020-03",
                    "2020-04",
                    "2020-05",
                    "2020-06",
                    "2020-07",
                    "2020-08",
                    "2020-09",
                    "2020-10",
                    "2020-11",
                    "2020-12",
                    "2021-01",
                    "2021-02",
                    "2021-03",
                    "2021-04",
                    "2021-05",
                    "2021-06",
                    "2021-07",
                    "2021-08",
                    "2021-09",
                    "2021-10",
                    "2021-11",
                    "2021-12",
                    "2022-01",
                    "2022-02",
                    "2022-03",
                    "2022-04",
                    "2022-05",
                    "2022-06",
                    "2022-07",
                    "2022-08",
                    "2022-09",
                    "2022-10",
                    "2022-11",
                    "2022-12",
                    "2023-01",
                    "2023-02",
                    "2023-03",
                    "2023-04",
                    "2023-05",
                    "2023-06",
                    "2023-07",
                    "2023-08"
                  ],
                  "xaxis": "x",
                  "y": {
                    "bdata": "lSkjMFwquyq0MQU9sjUWNdkg1SlfImgy1yDsIXYViQM3A7oF4QuyC+kHugvoClYRDA4xEq0RIBMcGsQyPzlYM5cd6Cd3IH0vvSYZJc4v/DBNLzE2eja9MuUj4SOCKRc4fC6QJE43lDKIKQs8EENCMw==",
                    "dtype": "i2"
                  },
                  "yaxis": "y"
                },
                {
                  "bingroup": "x",
                  "histfunc": "sum",
                  "hovertemplate": "Delay Status=Missing Delay Components<br>Unique Dates=%{x}<br>sum of Count=%{y}<extra></extra>",
                  "legendgroup": "Missing Delay Components",
                  "marker": {
                    "color": "#EF553B",
                    "pattern": {
                      "shape": ""
                    }
                  },
                  "name": "Missing Delay Components",
                  "orientation": "v",
                  "showlegend": true,
                  "type": "histogram",
                  "x": [
                    "2019-01",
                    "2019-02",
                    "2019-03",
                    "2019-04",
                    "2019-05",
                    "2019-06",
                    "2019-07",
                    "2019-08",
                    "2019-09",
                    "2019-10",
                    "2019-11",
                    "2019-12",
                    "2020-01",
                    "2020-02",
                    "2020-03",
                    "2020-04",
                    "2020-05",
                    "2020-06",
                    "2020-07",
                    "2020-08",
                    "2020-09",
                    "2020-10",
                    "2020-11",
                    "2020-12",
                    "2021-01",
                    "2021-02",
                    "2021-03",
                    "2021-04",
                    "2021-05",
                    "2021-06",
                    "2021-07",
                    "2021-08",
                    "2021-09",
                    "2021-10",
                    "2021-11",
                    "2021-12",
                    "2022-01",
                    "2022-02",
                    "2022-03",
                    "2022-04",
                    "2022-05",
                    "2022-06",
                    "2022-07",
                    "2022-08",
                    "2022-09",
                    "2022-10",
                    "2022-11",
                    "2022-12",
                    "2023-01",
                    "2023-02",
                    "2023-03",
                    "2023-04",
                    "2023-05",
                    "2023-06",
                    "2023-07",
                    "2023-08"
                  ],
                  "xaxis": "x",
                  "y": {
                    "bdata": "cLcAADSeAACWzQAAXcEAAOfFAAAhugAAosoAAFjNAAAIzQAAJdEAAE3MAAD4wwAAkM4AAAjAAACTwQAAgUUAAK1AAAA/VAAArH8AAPGIAABVdwAAtX8AAOOFAADWgAAAVoAAAAJqAABBnAAAXJ4AAG2pAABloQAAUqsAACCtAAC4tgAAYbMAABe4AABAqAAA1KEAAMuXAACQrQAAEKcAACCyAAATqQAA+rEAAP6xAAAWtwAAlL4AAKmuAAABmgAA1qQAAJaeAACsqwAAmKgAAO68AAB/owAAiaUAAJW4AAA=",
                    "dtype": "i4"
                  },
                  "yaxis": "y"
                },
                {
                  "bingroup": "x",
                  "histfunc": "sum",
                  "hovertemplate": "Delay Status=Cancelled or Diverted<br>Unique Dates=%{x}<br>sum of Count=%{y}<extra></extra>",
                  "legendgroup": "Cancelled or Diverted",
                  "marker": {
                    "color": "#00cc96",
                    "pattern": {
                      "shape": ""
                    }
                  },
                  "name": "Cancelled or Diverted",
                  "orientation": "v",
                  "showlegend": true,
                  "type": "histogram",
                  "x": [
                    "2019-01",
                    "2019-02",
                    "2019-03",
                    "2019-04",
                    "2019-05",
                    "2019-06",
                    "2019-07",
                    "2019-08",
                    "2019-09",
                    "2019-10",
                    "2019-11",
                    "2019-12",
                    "2020-01",
                    "2020-02",
                    "2020-03",
                    "2020-04",
                    "2020-05",
                    "2020-06",
                    "2020-07",
                    "2020-08",
                    "2020-09",
                    "2020-10",
                    "2020-11",
                    "2020-12",
                    "2021-01",
                    "2021-02",
                    "2021-03",
                    "2021-04",
                    "2021-05",
                    "2021-06",
                    "2021-07",
                    "2021-08",
                    "2021-09",
                    "2021-10",
                    "2021-11",
                    "2021-12",
                    "2022-01",
                    "2022-02",
                    "2022-03",
                    "2022-04",
                    "2022-05",
                    "2022-06",
                    "2022-07",
                    "2022-08",
                    "2022-09",
                    "2022-10",
                    "2022-11",
                    "2022-12",
                    "2023-01",
                    "2023-02",
                    "2023-03",
                    "2023-04",
                    "2023-05",
                    "2023-06",
                    "2023-07",
                    "2023-08"
                  ],
                  "xaxis": "x",
                  "y": {
                    "bdata": "DwfOBowFaAYrBuMFOQYfBUIEawIyAsMCaQN7AvgrQDTxBHIAawHdAdoA8AD2ANAB0AGbB2kCKwFsATgEdATkBwgD6wS/AecF3g0ZCTYElwU+BcsH1AROBsMDaQLlAoIMxwQsBIcDnQTBAaIFvQY3BA==",
                    "dtype": "i2"
                  },
                  "yaxis": "y"
                }
              ],
              "layout": {
                "barmode": "stack",
                "font": {
                  "family": "Arial, sans-serif",
                  "size": 20
                },
                "legend": {
                  "title": {
                    "text": "Delay Status"
                  },
                  "tracegroupgap": 0
                },
                "margin": {
                  "t": 60
                },
                "template": {
                  "data": {
                    "bar": [
                      {
                        "error_x": {
                          "color": "#2a3f5f"
                        },
                        "error_y": {
                          "color": "#2a3f5f"
                        },
                        "marker": {
                          "line": {
                            "color": "#E5ECF6",
                            "width": 0.5
                          },
                          "pattern": {
                            "fillmode": "overlay",
                            "size": 10,
                            "solidity": 0.2
                          }
                        },
                        "type": "bar"
                      }
                    ],
                    "barpolar": [
                      {
                        "marker": {
                          "line": {
                            "color": "#E5ECF6",
                            "width": 0.5
                          },
                          "pattern": {
                            "fillmode": "overlay",
                            "size": 10,
                            "solidity": 0.2
                          }
                        },
                        "type": "barpolar"
                      }
                    ],
                    "carpet": [
                      {
                        "aaxis": {
                          "endlinecolor": "#2a3f5f",
                          "gridcolor": "white",
                          "linecolor": "white",
                          "minorgridcolor": "white",
                          "startlinecolor": "#2a3f5f"
                        },
                        "baxis": {
                          "endlinecolor": "#2a3f5f",
                          "gridcolor": "white",
                          "linecolor": "white",
                          "minorgridcolor": "white",
                          "startlinecolor": "#2a3f5f"
                        },
                        "type": "carpet"
                      }
                    ],
                    "choropleth": [
                      {
                        "colorbar": {
                          "outlinewidth": 0,
                          "ticks": ""
                        },
                        "type": "choropleth"
                      }
                    ],
                    "contour": [
                      {
                        "colorbar": {
                          "outlinewidth": 0,
                          "ticks": ""
                        },
                        "colorscale": [
                          [
                            0,
                            "#0d0887"
                          ],
                          [
                            0.1111111111111111,
                            "#46039f"
                          ],
                          [
                            0.2222222222222222,
                            "#7201a8"
                          ],
                          [
                            0.3333333333333333,
                            "#9c179e"
                          ],
                          [
                            0.4444444444444444,
                            "#bd3786"
                          ],
                          [
                            0.5555555555555556,
                            "#d8576b"
                          ],
                          [
                            0.6666666666666666,
                            "#ed7953"
                          ],
                          [
                            0.7777777777777778,
                            "#fb9f3a"
                          ],
                          [
                            0.8888888888888888,
                            "#fdca26"
                          ],
                          [
                            1,
                            "#f0f921"
                          ]
                        ],
                        "type": "contour"
                      }
                    ],
                    "contourcarpet": [
                      {
                        "colorbar": {
                          "outlinewidth": 0,
                          "ticks": ""
                        },
                        "type": "contourcarpet"
                      }
                    ],
                    "heatmap": [
                      {
                        "colorbar": {
                          "outlinewidth": 0,
                          "ticks": ""
                        },
                        "colorscale": [
                          [
                            0,
                            "#0d0887"
                          ],
                          [
                            0.1111111111111111,
                            "#46039f"
                          ],
                          [
                            0.2222222222222222,
                            "#7201a8"
                          ],
                          [
                            0.3333333333333333,
                            "#9c179e"
                          ],
                          [
                            0.4444444444444444,
                            "#bd3786"
                          ],
                          [
                            0.5555555555555556,
                            "#d8576b"
                          ],
                          [
                            0.6666666666666666,
                            "#ed7953"
                          ],
                          [
                            0.7777777777777778,
                            "#fb9f3a"
                          ],
                          [
                            0.8888888888888888,
                            "#fdca26"
                          ],
                          [
                            1,
                            "#f0f921"
                          ]
                        ],
                        "type": "heatmap"
                      }
                    ],
                    "histogram": [
                      {
                        "marker": {
                          "pattern": {
                            "fillmode": "overlay",
                            "size": 10,
                            "solidity": 0.2
                          }
                        },
                        "type": "histogram"
                      }
                    ],
                    "histogram2d": [
                      {
                        "colorbar": {
                          "outlinewidth": 0,
                          "ticks": ""
                        },
                        "colorscale": [
                          [
                            0,
                            "#0d0887"
                          ],
                          [
                            0.1111111111111111,
                            "#46039f"
                          ],
                          [
                            0.2222222222222222,
                            "#7201a8"
                          ],
                          [
                            0.3333333333333333,
                            "#9c179e"
                          ],
                          [
                            0.4444444444444444,
                            "#bd3786"
                          ],
                          [
                            0.5555555555555556,
                            "#d8576b"
                          ],
                          [
                            0.6666666666666666,
                            "#ed7953"
                          ],
                          [
                            0.7777777777777778,
                            "#fb9f3a"
                          ],
                          [
                            0.8888888888888888,
                            "#fdca26"
                          ],
                          [
                            1,
                            "#f0f921"
                          ]
                        ],
                        "type": "histogram2d"
                      }
                    ],
                    "histogram2dcontour": [
                      {
                        "colorbar": {
                          "outlinewidth": 0,
                          "ticks": ""
                        },
                        "colorscale": [
                          [
                            0,
                            "#0d0887"
                          ],
                          [
                            0.1111111111111111,
                            "#46039f"
                          ],
                          [
                            0.2222222222222222,
                            "#7201a8"
                          ],
                          [
                            0.3333333333333333,
                            "#9c179e"
                          ],
                          [
                            0.4444444444444444,
                            "#bd3786"
                          ],
                          [
                            0.5555555555555556,
                            "#d8576b"
                          ],
                          [
                            0.6666666666666666,
                            "#ed7953"
                          ],
                          [
                            0.7777777777777778,
                            "#fb9f3a"
                          ],
                          [
                            0.8888888888888888,
                            "#fdca26"
                          ],
                          [
                            1,
                            "#f0f921"
                          ]
                        ],
                        "type": "histogram2dcontour"
                      }
                    ],
                    "mesh3d": [
                      {
                        "colorbar": {
                          "outlinewidth": 0,
                          "ticks": ""
                        },
                        "type": "mesh3d"
                      }
                    ],
                    "parcoords": [
                      {
                        "line": {
                          "colorbar": {
                            "outlinewidth": 0,
                            "ticks": ""
                          }
                        },
                        "type": "parcoords"
                      }
                    ],
                    "pie": [
                      {
                        "automargin": true,
                        "type": "pie"
                      }
                    ],
                    "scatter": [
                      {
                        "fillpattern": {
                          "fillmode": "overlay",
                          "size": 10,
                          "solidity": 0.2
                        },
                        "type": "scatter"
                      }
                    ],
                    "scatter3d": [
                      {
                        "line": {
                          "colorbar": {
                            "outlinewidth": 0,
                            "ticks": ""
                          }
                        },
                        "marker": {
                          "colorbar": {
                            "outlinewidth": 0,
                            "ticks": ""
                          }
                        },
                        "type": "scatter3d"
                      }
                    ],
                    "scattercarpet": [
                      {
                        "marker": {
                          "colorbar": {
                            "outlinewidth": 0,
                            "ticks": ""
                          }
                        },
                        "type": "scattercarpet"
                      }
                    ],
                    "scattergeo": [
                      {
                        "marker": {
                          "colorbar": {
                            "outlinewidth": 0,
                            "ticks": ""
                          }
                        },
                        "type": "scattergeo"
                      }
                    ],
                    "scattergl": [
                      {
                        "marker": {
                          "colorbar": {
                            "outlinewidth": 0,
                            "ticks": ""
                          }
                        },
                        "type": "scattergl"
                      }
                    ],
                    "scattermap": [
                      {
                        "marker": {
                          "colorbar": {
                            "outlinewidth": 0,
                            "ticks": ""
                          }
                        },
                        "type": "scattermap"
                      }
                    ],
                    "scattermapbox": [
                      {
                        "marker": {
                          "colorbar": {
                            "outlinewidth": 0,
                            "ticks": ""
                          }
                        },
                        "type": "scattermapbox"
                      }
                    ],
                    "scatterpolar": [
                      {
                        "marker": {
                          "colorbar": {
                            "outlinewidth": 0,
                            "ticks": ""
                          }
                        },
                        "type": "scatterpolar"
                      }
                    ],
                    "scatterpolargl": [
                      {
                        "marker": {
                          "colorbar": {
                            "outlinewidth": 0,
                            "ticks": ""
                          }
                        },
                        "type": "scatterpolargl"
                      }
                    ],
                    "scatterternary": [
                      {
                        "marker": {
                          "colorbar": {
                            "outlinewidth": 0,
                            "ticks": ""
                          }
                        },
                        "type": "scatterternary"
                      }
                    ],
                    "surface": [
                      {
                        "colorbar": {
                          "outlinewidth": 0,
                          "ticks": ""
                        },
                        "colorscale": [
                          [
                            0,
                            "#0d0887"
                          ],
                          [
                            0.1111111111111111,
                            "#46039f"
                          ],
                          [
                            0.2222222222222222,
                            "#7201a8"
                          ],
                          [
                            0.3333333333333333,
                            "#9c179e"
                          ],
                          [
                            0.4444444444444444,
                            "#bd3786"
                          ],
                          [
                            0.5555555555555556,
                            "#d8576b"
                          ],
                          [
                            0.6666666666666666,
                            "#ed7953"
                          ],
                          [
                            0.7777777777777778,
                            "#fb9f3a"
                          ],
                          [
                            0.8888888888888888,
                            "#fdca26"
                          ],
                          [
                            1,
                            "#f0f921"
                          ]
                        ],
                        "type": "surface"
                      }
                    ],
                    "table": [
                      {
                        "cells": {
                          "fill": {
                            "color": "#EBF0F8"
                          },
                          "line": {
                            "color": "white"
                          }
                        },
                        "header": {
                          "fill": {
                            "color": "#C8D4E3"
                          },
                          "line": {
                            "color": "white"
                          }
                        },
                        "type": "table"
                      }
                    ]
                  },
                  "layout": {
                    "annotationdefaults": {
                      "arrowcolor": "#2a3f5f",
                      "arrowhead": 0,
                      "arrowwidth": 1
                    },
                    "autotypenumbers": "strict",
                    "coloraxis": {
                      "colorbar": {
                        "outlinewidth": 0,
                        "ticks": ""
                      }
                    },
                    "colorscale": {
                      "diverging": [
                        [
                          0,
                          "#8e0152"
                        ],
                        [
                          0.1,
                          "#c51b7d"
                        ],
                        [
                          0.2,
                          "#de77ae"
                        ],
                        [
                          0.3,
                          "#f1b6da"
                        ],
                        [
                          0.4,
                          "#fde0ef"
                        ],
                        [
                          0.5,
                          "#f7f7f7"
                        ],
                        [
                          0.6,
                          "#e6f5d0"
                        ],
                        [
                          0.7,
                          "#b8e186"
                        ],
                        [
                          0.8,
                          "#7fbc41"
                        ],
                        [
                          0.9,
                          "#4d9221"
                        ],
                        [
                          1,
                          "#276419"
                        ]
                      ],
                      "sequential": [
                        [
                          0,
                          "#0d0887"
                        ],
                        [
                          0.1111111111111111,
                          "#46039f"
                        ],
                        [
                          0.2222222222222222,
                          "#7201a8"
                        ],
                        [
                          0.3333333333333333,
                          "#9c179e"
                        ],
                        [
                          0.4444444444444444,
                          "#bd3786"
                        ],
                        [
                          0.5555555555555556,
                          "#d8576b"
                        ],
                        [
                          0.6666666666666666,
                          "#ed7953"
                        ],
                        [
                          0.7777777777777778,
                          "#fb9f3a"
                        ],
                        [
                          0.8888888888888888,
                          "#fdca26"
                        ],
                        [
                          1,
                          "#f0f921"
                        ]
                      ],
                      "sequentialminus": [
                        [
                          0,
                          "#0d0887"
                        ],
                        [
                          0.1111111111111111,
                          "#46039f"
                        ],
                        [
                          0.2222222222222222,
                          "#7201a8"
                        ],
                        [
                          0.3333333333333333,
                          "#9c179e"
                        ],
                        [
                          0.4444444444444444,
                          "#bd3786"
                        ],
                        [
                          0.5555555555555556,
                          "#d8576b"
                        ],
                        [
                          0.6666666666666666,
                          "#ed7953"
                        ],
                        [
                          0.7777777777777778,
                          "#fb9f3a"
                        ],
                        [
                          0.8888888888888888,
                          "#fdca26"
                        ],
                        [
                          1,
                          "#f0f921"
                        ]
                      ]
                    },
                    "colorway": [
                      "#636efa",
                      "#EF553B",
                      "#00cc96",
                      "#ab63fa",
                      "#FFA15A",
                      "#19d3f3",
                      "#FF6692",
                      "#B6E880",
                      "#FF97FF",
                      "#FECB52"
                    ],
                    "font": {
                      "color": "#2a3f5f"
                    },
                    "geo": {
                      "bgcolor": "white",
                      "lakecolor": "white",
                      "landcolor": "#E5ECF6",
                      "showlakes": true,
                      "showland": true,
                      "subunitcolor": "white"
                    },
                    "hoverlabel": {
                      "align": "left"
                    },
                    "hovermode": "closest",
                    "mapbox": {
                      "style": "light"
                    },
                    "paper_bgcolor": "white",
                    "plot_bgcolor": "#E5ECF6",
                    "polar": {
                      "angularaxis": {
                        "gridcolor": "white",
                        "linecolor": "white",
                        "ticks": ""
                      },
                      "bgcolor": "#E5ECF6",
                      "radialaxis": {
                        "gridcolor": "white",
                        "linecolor": "white",
                        "ticks": ""
                      }
                    },
                    "scene": {
                      "xaxis": {
                        "backgroundcolor": "#E5ECF6",
                        "gridcolor": "white",
                        "gridwidth": 2,
                        "linecolor": "white",
                        "showbackground": true,
                        "ticks": "",
                        "zerolinecolor": "white"
                      },
                      "yaxis": {
                        "backgroundcolor": "#E5ECF6",
                        "gridcolor": "white",
                        "gridwidth": 2,
                        "linecolor": "white",
                        "showbackground": true,
                        "ticks": "",
                        "zerolinecolor": "white"
                      },
                      "zaxis": {
                        "backgroundcolor": "#E5ECF6",
                        "gridcolor": "white",
                        "gridwidth": 2,
                        "linecolor": "white",
                        "showbackground": true,
                        "ticks": "",
                        "zerolinecolor": "white"
                      }
                    },
                    "shapedefaults": {
                      "line": {
                        "color": "#2a3f5f"
                      }
                    },
                    "ternary": {
                      "aaxis": {
                        "gridcolor": "white",
                        "linecolor": "white",
                        "ticks": ""
                      },
                      "baxis": {
                        "gridcolor": "white",
                        "linecolor": "white",
                        "ticks": ""
                      },
                      "bgcolor": "#E5ECF6",
                      "caxis": {
                        "gridcolor": "white",
                        "linecolor": "white",
                        "ticks": ""
                      }
                    },
                    "title": {
                      "x": 0.05
                    },
                    "xaxis": {
                      "automargin": true,
                      "gridcolor": "white",
                      "linecolor": "white",
                      "ticks": "",
                      "title": {
                        "standoff": 15
                      },
                      "zerolinecolor": "white",
                      "zerolinewidth": 2
                    },
                    "yaxis": {
                      "automargin": true,
                      "gridcolor": "white",
                      "linecolor": "white",
                      "ticks": "",
                      "title": {
                        "standoff": 15
                      },
                      "zerolinecolor": "white",
                      "zerolinewidth": 2
                    }
                  }
                },
                "width": 1200,
                "xaxis": {
                  "anchor": "y",
                  "domain": [
                    0,
                    1
                  ],
                  "title": {
                    "text": "Unique Dates"
                  },
                  "type": "category"
                },
                "yaxis": {
                  "anchor": "x",
                  "domain": [
                    0,
                    1
                  ],
                  "title": {
                    "text": "sum of Count"
                  }
                }
              }
            }
          },
          "metadata": {},
          "output_type": "display_data"
        }
      ],
      "source": [
        "components_counts = delay_components_df[\"FL_DATE\"].dt.strftime('%Y-%m').value_counts().sort_index()\n",
        "no_components_counts = no_delay_components_df[\"FL_DATE\"].dt.strftime('%Y-%m').value_counts().sort_index()\n",
        "all_dates = pd.concat([components_counts, no_components_counts, cancelled_or_diverted_counts], axis=1, keys=['Components', 'No Components', \"Cancelled or Diverted\"])\n",
        "\n",
        "# Reset index to convert index (dates) to a column\n",
        "all_dates.reset_index(inplace=True)\n",
        "all_dates.columns = ['Date', 'Has Delay Components', 'Missing Delay Components', \"Cancelled or Diverted\"]\n",
        "\n",
        "# Plotting the histogram using Plotly Express\n",
        "fig = px.histogram(all_dates, x='Date', y=['Has Delay Components', 'Missing Delay Components', \"Cancelled or Diverted\"], barmode='stack',\n",
        "                   labels={'Date': 'Unique Dates', 'value': 'Count', 'variable': 'Delay Status'})\n",
        "fig.update_xaxes(type='category')  # Set x-axis type to category for better organization\n",
        "# fig.update_layout(title_x=0.5)\n",
        "fig.update_layout(\n",
        "    font=dict(\n",
        "        family=\"Arial, sans-serif\",\n",
        "        size=20\n",
        "    ),\n",
        "    width=1200\n",
        ")\n",
        "fig.show()"
      ]
    },
    {
      "cell_type": "markdown",
      "metadata": {
        "id": "XDNXHIKl_A6P"
      },
      "source": [
        "Ensure that delay components always sum to equal arrival delay"
      ]
    },
    {
      "cell_type": "code",
      "execution_count": null,
      "metadata": {
        "colab": {
          "base_uri": "https://localhost:8080/",
          "height": 333
        },
        "id": "hFUnLKQ_kLzP",
        "outputId": "7d179c9e-a5df-4f87-9f7c-24e3d578564d"
      },
      "outputs": [],
      "source": [
        "if TEST:\n",
        "  def check_delay_components_sum_to_arr_delay(row) -> bool:\n",
        "      components_delay = row[['DELAY_DUE_CARRIER', 'DELAY_DUE_WEATHER',\n",
        "                            'DELAY_DUE_NAS', 'DELAY_DUE_SECURITY',\n",
        "                            'DELAY_DUE_LATE_AIRCRAFT']].sum()\n",
        "      return components_delay == row['ARR_DELAY']\n",
        "\n",
        "  assert delay_components_df.apply(check_delay_components_sum_to_arr_delay, axis=1).all()"
      ]
    },
    {
      "cell_type": "markdown",
      "metadata": {
        "id": "KfeRZNNo_S81"
      },
      "source": [
        "Set data to just the delay components to simplify referencing below"
      ]
    },
    {
      "cell_type": "code",
      "execution_count": null,
      "metadata": {
        "id": "Iu76atJ6GFwz"
      },
      "outputs": [],
      "source": [
        "data = delay_components_df.copy()"
      ]
    },
    {
      "cell_type": "markdown",
      "metadata": {
        "id": "QT0al0UC_bs2"
      },
      "source": [
        "Remove outliers using IQR method on the overall arrival delay"
      ]
    },
    {
      "cell_type": "code",
      "execution_count": null,
      "metadata": {
        "colab": {
          "base_uri": "https://localhost:8080/",
          "height": 1000
        },
        "id": "-ISS0Qxa7E2y",
        "outputId": "3b7a7c51-2469-4ee0-e001-f0dac8056a45"
      },
      "outputs": [
        {
          "data": {
            "image/png": "[encoded data removed]",
            "text/plain": [
              "<Figure size 800x600 with 1 Axes>"
            ]
          },
          "metadata": {},
          "output_type": "display_data"
        },
        {
          "name": "stdout",
          "output_type": "stream",
          "text": [
            "Summary Statistics after Removing Outliers:\n",
            "count    489828.000000\n",
            "mean         47.827962\n",
            "std          32.868451\n",
            "min          15.000000\n",
            "25%          23.000000\n",
            "50%          36.000000\n",
            "75%          63.000000\n",
            "max         154.000000\n",
            "Name: ARR_DELAY, dtype: float64\n",
            "count    533863.000000\n",
            "mean         67.526287\n",
            "std          93.909364\n",
            "min          15.000000\n",
            "25%          24.000000\n",
            "50%          39.000000\n",
            "75%          76.000000\n",
            "max        2934.000000\n",
            "Name: ARR_DELAY, dtype: float64\n",
            "0.0824837083671279\n",
            "44035\n"
          ]
        },
        {
          "data": {
            "image/png": "[encoded data removed]",
            "text/plain": [
              "<Figure size 800x600 with 1 Axes>"
            ]
          },
          "metadata": {},
          "output_type": "display_data"
        }
      ],
      "source": [
        "# Boxplot before removing outliers\n",
        "plt.figure(figsize=(8, 6))\n",
        "plt.boxplot(data['ARR_DELAY'])\n",
        "plt.title('Box Plot of ARR_DELAY Column')\n",
        "plt.xlabel('ARR_DELAY')\n",
        "plt.show()\n",
        "\n",
        "# Calculate Q1, Q3, IQR\n",
        "Q1 = data['ARR_DELAY'].quantile(0.25)\n",
        "Q3 = data['ARR_DELAY'].quantile(0.75)\n",
        "IQR = Q3 - Q1\n",
        "\n",
        "# Define the lower and upper bounds\n",
        "lower_bound = Q1 - 1.5 * IQR\n",
        "upper_bound = Q3 + 1.5 * IQR\n",
        "\n",
        "# Remove outliers\n",
        "data_no_outliers = data[(data['ARR_DELAY'] >= lower_bound) & (data['ARR_DELAY'] <= upper_bound)]\n",
        "\n",
        "print(\"Summary Statistics after Removing Outliers:\")\n",
        "print(data_no_outliers['ARR_DELAY'].describe())\n",
        "print(data[\"ARR_DELAY\"].describe())\n",
        "\n",
        "print((len(data) - len(data_no_outliers)) / len(data))\n",
        "print((len(data) - len(data_no_outliers)))\n",
        "\n",
        "# Box plot after removing outliers\n",
        "plt.figure(figsize=(8, 6))\n",
        "plt.boxplot(data_no_outliers['ARR_DELAY'])\n",
        "plt.title('Box Plot of ARR_DELAY Column')\n",
        "plt.xlabel('ARR_DELAY')\n",
        "plt.ylabel(\"Overall Arrival Delay (mins)\")\n",
        "plt.show()\n"
      ]
    },
    {
      "cell_type": "markdown",
      "metadata": {
        "id": "X0jOy2R6_pwP"
      },
      "source": [
        "Calculate Pearson Correlation on just the non-categorical attributes, since Pearson Correlation is invalid for categorical attributes"
      ]
    },
    {
      "cell_type": "code",
      "execution_count": null,
      "metadata": {
        "colab": {
          "base_uri": "https://localhost:8080/"
        },
        "id": "y0RG52qMHUta",
        "outputId": "93cbba88-d08b-4a9a-f1c4-76d36803035a"
      },
      "outputs": [
        {
          "name": "stdout",
          "output_type": "stream",
          "text": [
            "CRS_DEP_TIME: 0.07035140013689238\n",
            "TAXI_OUT: 0.05410605127602699\n",
            "CRS_ARR_TIME: 0.05002847040249883\n",
            "TAXI_IN: 0.023541680857311016\n",
            "CRS_ELAPSED_TIME: -0.012206498859524342\n",
            "DISTANCE: -0.02283833518818918\n"
          ]
        }
      ],
      "source": [
        "from scipy.stats import pearsonr\n",
        "\n",
        "def calculate_pearson_score(df: pd.DataFrame, col: str, y) -> float:\n",
        "  \"\"\"\n",
        "  Calculates the Pearson correlation coefficient between two columns in a DataFrame.\n",
        "\n",
        "  Args:\n",
        "    df: DataFrame.\n",
        "    col: The name of the first column.\n",
        "    y: The name of the second column.\n",
        "\n",
        "  Returns:\n",
        "    Pearson correlation coefficient.\n",
        "  \"\"\"\n",
        "  try:\n",
        "    corr,_ = pearsonr(df[col].values, y.values)\n",
        "    return corr\n",
        "  except:\n",
        "    return 0\n",
        "\n",
        "# Calculate the Pearson correlation coefficient for each column w/ ARR_DELAY\n",
        "pearson_scores = {}\n",
        "cols=['CRS_DEP_TIME', 'TAXI_OUT', 'TAXI_IN', 'CRS_ARR_TIME', 'CRS_ELAPSED_TIME',\n",
        "      'DISTANCE']\n",
        "for col in cols:\n",
        "    pearson_scores[col] = calculate_pearson_score(data_no_outliers, col, data_no_outliers[\"ARR_DELAY\"])\n",
        "\n",
        "# Sort the Pearson correlation coefficients\n",
        "sorted_pearson_scores = sorted(pearson_scores.items(), key=lambda x: x[1], reverse=True)\n",
        "\n",
        "for col, score in sorted_pearson_scores:\n",
        "    print(f\"{col}: {score}\")\n",
        "\n",
        "# NOTE: ELAPSED TIME IS REDUNDANT"
      ]
    },
    {
      "cell_type": "markdown",
      "metadata": {
        "id": "Uo5gGQuwAC3g"
      },
      "source": [
        "Calculate Kruskal-Wallis H-test to sort categorical attributes and prove redundancy for some attributes"
      ]
    },
    {
      "cell_type": "code",
      "execution_count": null,
      "metadata": {
        "colab": {
          "base_uri": "https://localhost:8080/"
        },
        "id": "mPt0ncKL26t9",
        "outputId": "8415f353-0a7c-449c-e5fe-a511d765a4c4"
      },
      "outputs": [
        {
          "name": "stdout",
          "output_type": "stream",
          "text": [
            "Categorical columns ranked by their correlation with:\n",
            "FL_DATE: 11695.475421633384\n",
            "FL_NUMBER: 8809.136394469862\n",
            "DOT_CODE: 4954.9899978141175\n",
            "AIRLINE: 4954.989997813885\n",
            "AIRLINE_DOT: 4954.989997813885\n",
            "AIRLINE_CODE: 4954.989997813885\n",
            "ORIGIN: 4605.392992471976\n",
            "ORIGIN_CITY: 4345.318673077497\n",
            "DEST: 3988.8397909004916\n",
            "DEST_CITY: 3744.0359485488907\n"
          ]
        }
      ],
      "source": [
        "from scipy.stats import kruskal\n",
        "\n",
        "cols = ['FL_DATE', 'AIRLINE', 'AIRLINE_DOT', 'AIRLINE_CODE', 'DOT_CODE',\n",
        "        'FL_NUMBER', 'ORIGIN', 'ORIGIN_CITY', 'DEST', 'DEST_CITY']\n",
        "\n",
        "# Calculate the Kruskal-Wallis H statistic for each categorical variable\n",
        "h_values = {}\n",
        "for col in cols:\n",
        "    h, p_value = kruskal(*[group['ARR_DELAY'] for name, group in data_no_outliers.groupby(col)])\n",
        "    h_values[col] = h\n",
        "\n",
        "# Sort the columns by their H values\n",
        "sorted_cols = sorted(h_values, key=h_values.get, reverse=True)\n",
        "\n",
        "print(\"Categorical columns ranked by their correlation with:\")\n",
        "for col in sorted_cols:\n",
        "    print(f\"{col}: {h_values[col]}\")\n",
        "\n",
        "# drop AIRLINE_DOT, AIRLINE_CODE, DOT_CODE bc redundant w/ AIRLINE\n",
        "# drop ORIGIN_CITY, DEST_CITY bc redundant (basically) w/ ORIGIN, DEST"
      ]
    },
    {
      "cell_type": "code",
      "execution_count": null,
      "metadata": {
        "id": "4fbvE_7qaEjZ"
      },
      "outputs": [],
      "source": [
        "X_df = data_no_outliers[\n",
        "    [\n",
        "        \"FL_DATE\",  # yyymmdd of flight (ordinal, discrete),\n",
        "        \"FL_NUMBER\",\n",
        "        \"AIRLINE\",  # name of airline (nominal, discrete)\n",
        "        # Ignore AIRLINE_CODE because it is redundant\n",
        "        \"ORIGIN\",  # origin airport code (nomincal, discrete)\n",
        "        # Ignore ORIGIN_CITY because it is redundant\n",
        "        \"DEST\",  # destination airport code (nomincal, discrete)\n",
        "        # Ignore DEST_CITY because it is redundant\n",
        "        \"CRS_DEP_TIME\",  # hhmm planned departure time (ordinal, discrete)\n",
        "        \"CRS_ARR_TIME\",  # hhmm planned arrival time (ordinal, discrete)\n",
        "        # Ignore CRS_ELAPSED_TIME because it is redundant since we have CRS_DEP_TIME and CRS_ARR_TIME\n",
        "        \"DISTANCE\",  # miles between airports (ratio, discrete)\n",
        "        \"TAXI_IN\",\n",
        "        \"TAXI_OUT\"\n",
        "    ]\n",
        "]\n",
        "\n",
        "Y_df = data_no_outliers[\n",
        "    [\n",
        "        # \"CANCELLATION_CODE\",  # reason for cancellation, NA if not cancelled (nominal, discrete)\n",
        "        # Ignore CANCELLED because it is redundant, CANCELLATION_CODE provides more information\n",
        "        # \"DIVERTED\",  # 1 if diverted, 0 if not (ordinal, discrete) NOTE: NOT SURE IF WE WANT TO KEEP\n",
        "        # \"AIR_TIME\",  # Flight time, minutes (ratio, discrete)\n",
        "        \"DELAY_DUE_CARRIER\",  # delay due to technical difficulties / damage / carrier efficiency (ratio, discrete)\n",
        "        # Hypothesis: AIRLINE, ORIGIN, DEST may inform DELAY_DUE_CARRIER\n",
        "        \"DELAY_DUE_WEATHER\",  # delay due to weather (ratio, discrete)\n",
        "        # Hypothesis: FL_DATE, ORIGIN, DEST may inform DELAY_DUE_WEATHER\n",
        "        \"DELAY_DUE_SECURITY\",  # delay due to security (ratio, discrete)\n",
        "        # Hypothesis: FL_DATE, ORIGIN, CRS_DEP_TIME, DISTANCE may inform DELAY_DUE_SECURITY,\n",
        "        \"DELAY_DUE_NAS\",  # not sure how this will do due to lacking info in features\n",
        "        \"DELAY_DUE_LATE_AIRCRAFT\"  # delay due to late aircraft (ratio, discrete)\n",
        "        # Hypothesis: AIRLINE, CRS_DEP_TIME may inform DELAY_DUE_LATE_AIRCRAFT\n",
        "    ]\n",
        "]\n",
        "\n",
        "arr_only_y_df = data_no_outliers[\"ARR_DELAY\"]\n",
        "\n",
        "# AIRLINE_CODE, DOT_CODE, FL_NUMBER are ignored because they are unique identifiers\n",
        "# TAXI_OUT, WHEELS_OFF, WHEELS_ON, TAXI_IN are ignored because they seem irrelevant NOTE: MAY WANT TO LOOK INTO THIS\n",
        "# DEP_TIME, DEP_DELAY, ARR_TIME, ARR_DELAY, ELAPSED_TIME are ignored because the individual delay contributions factor into them\n",
        "\n",
        "# WARNING: DELAY_DUE_NAS might not have sufficient info to predict this. It is National Air System Delay, minutes.\n"
      ]
    },
    {
      "cell_type": "markdown",
      "metadata": {
        "id": "U1ikOqm7Iy_u"
      },
      "source": [
        "Check if there are any NA values in X_df. There are none"
      ]
    },
    {
      "cell_type": "code",
      "execution_count": null,
      "metadata": {
        "colab": {
          "base_uri": "https://localhost:8080/"
        },
        "id": "ccN-31HK2PiK",
        "outputId": "871f2e56-520e-4287-ec89-ef5db1f0bb60"
      },
      "outputs": [
        {
          "name": "stderr",
          "output_type": "stream",
          "text": [
            "C:\\Users\\ebror\\AppData\\Local\\Temp\\ipykernel_33976\\3653023300.py:3: SettingWithCopyWarning:\n",
            "\n",
            "\n",
            "A value is trying to be set on a copy of a slice from a DataFrame\n",
            "\n",
            "See the caveats in the documentation: https://pandas.pydata.org/pandas-docs/stable/user_guide/indexing.html#returning-a-view-versus-a-copy\n",
            "\n"
          ]
        }
      ],
      "source": [
        "# Look for any NA values in X\n",
        "if TEST:\n",
        "  X_df.replace('', np.nan, inplace=True)\n",
        "  pd.isna(X_df).sum().sum() == 0"
      ]
    },
    {
      "cell_type": "markdown",
      "metadata": {
        "id": "bNxIqQhPACUX"
      },
      "source": [
        "Label encode airline and airport. ORIGIN and DEST should be encoded together to preserve the relationship between outbound and inbound same airports."
      ]
    },
    {
      "cell_type": "code",
      "execution_count": null,
      "metadata": {
        "colab": {
          "base_uri": "https://localhost:8080/",
          "height": 714
        },
        "id": "EM5b-giow9uW",
        "outputId": "ddf55e15-7ba5-4f16-9f99-5c32a0b030c6"
      },
      "outputs": [
        {
          "name": "stderr",
          "output_type": "stream",
          "text": [
            "C:\\Users\\ebror\\AppData\\Local\\Temp\\ipykernel_33976\\1727180027.py:3: SettingWithCopyWarning:\n",
            "\n",
            "\n",
            "A value is trying to be set on a copy of a slice from a DataFrame.\n",
            "Try using .loc[row_indexer,col_indexer] = value instead\n",
            "\n",
            "See the caveats in the documentation: https://pandas.pydata.org/pandas-docs/stable/user_guide/indexing.html#returning-a-view-versus-a-copy\n",
            "\n",
            "C:\\Users\\ebror\\AppData\\Local\\Temp\\ipykernel_33976\\1727180027.py:8: SettingWithCopyWarning:\n",
            "\n",
            "\n",
            "A value is trying to be set on a copy of a slice from a DataFrame.\n",
            "Try using .loc[row_indexer,col_indexer] = value instead\n",
            "\n",
            "See the caveats in the documentation: https://pandas.pydata.org/pandas-docs/stable/user_guide/indexing.html#returning-a-view-versus-a-copy\n",
            "\n",
            "C:\\Users\\ebror\\AppData\\Local\\Temp\\ipykernel_33976\\1727180027.py:9: SettingWithCopyWarning:\n",
            "\n",
            "\n",
            "A value is trying to be set on a copy of a slice from a DataFrame.\n",
            "Try using .loc[row_indexer,col_indexer] = value instead\n",
            "\n",
            "See the caveats in the documentation: https://pandas.pydata.org/pandas-docs/stable/user_guide/indexing.html#returning-a-view-versus-a-copy\n",
            "\n"
          ]
        },
        {
          "data": {
            "text/html": [
              "<div>\n",
              "<style scoped>\n",
              "    .dataframe tbody tr th:only-of-type {\n",
              "        vertical-align: middle;\n",
              "    }\n",
              "\n",
              "    .dataframe tbody tr th {\n",
              "        vertical-align: top;\n",
              "    }\n",
              "\n",
              "    .dataframe thead th {\n",
              "        text-align: right;\n",
              "    }\n",
              "</style>\n",
              "<table border=\"1\" class=\"dataframe\">\n",
              "  <thead>\n",
              "    <tr style=\"text-align: right;\">\n",
              "      <th></th>\n",
              "      <th>FL_DATE</th>\n",
              "      <th>FL_NUMBER</th>\n",
              "      <th>AIRLINE</th>\n",
              "      <th>ORIGIN</th>\n",
              "      <th>DEST</th>\n",
              "      <th>CRS_DEP_TIME</th>\n",
              "      <th>CRS_ARR_TIME</th>\n",
              "      <th>DISTANCE</th>\n",
              "      <th>TAXI_IN</th>\n",
              "      <th>TAXI_OUT</th>\n",
              "    </tr>\n",
              "  </thead>\n",
              "  <tbody>\n",
              "    <tr>\n",
              "      <th>3</th>\n",
              "      <td>2023-03-06</td>\n",
              "      <td>2295</td>\n",
              "      <td>3</td>\n",
              "      <td>247</td>\n",
              "      <td>325</td>\n",
              "      <td>1609</td>\n",
              "      <td>1829</td>\n",
              "      <td>1589.0</td>\n",
              "      <td>9.0</td>\n",
              "      <td>27.0</td>\n",
              "    </tr>\n",
              "    <tr>\n",
              "      <th>5</th>\n",
              "      <td>2019-07-31</td>\n",
              "      <td>665</td>\n",
              "      <td>15</td>\n",
              "      <td>93</td>\n",
              "      <td>257</td>\n",
              "      <td>1010</td>\n",
              "      <td>1110</td>\n",
              "      <td>181.0</td>\n",
              "      <td>3.0</td>\n",
              "      <td>15.0</td>\n",
              "    </tr>\n",
              "    <tr>\n",
              "      <th>7</th>\n",
              "      <td>2019-07-08</td>\n",
              "      <td>4464</td>\n",
              "      <td>13</td>\n",
              "      <td>167</td>\n",
              "      <td>96</td>\n",
              "      <td>1643</td>\n",
              "      <td>1945</td>\n",
              "      <td>613.0</td>\n",
              "      <td>41.0</td>\n",
              "      <td>22.0</td>\n",
              "    </tr>\n",
              "    <tr>\n",
              "      <th>10</th>\n",
              "      <td>2021-06-11</td>\n",
              "      <td>2820</td>\n",
              "      <td>3</td>\n",
              "      <td>23</td>\n",
              "      <td>31</td>\n",
              "      <td>1850</td>\n",
              "      <td>2112</td>\n",
              "      <td>859.0</td>\n",
              "      <td>4.0</td>\n",
              "      <td>14.0</td>\n",
              "    </tr>\n",
              "    <tr>\n",
              "      <th>19</th>\n",
              "      <td>2019-03-17</td>\n",
              "      <td>1157</td>\n",
              "      <td>17</td>\n",
              "      <td>343</td>\n",
              "      <td>261</td>\n",
              "      <td>1615</td>\n",
              "      <td>1815</td>\n",
              "      <td>1050.0</td>\n",
              "      <td>12.0</td>\n",
              "      <td>31.0</td>\n",
              "    </tr>\n",
              "  </tbody>\n",
              "</table>\n",
              "</div>"
            ],
            "text/plain": [
              "      FL_DATE  FL_NUMBER  AIRLINE  ...  DISTANCE  TAXI_IN  TAXI_OUT\n",
              "3  2023-03-06       2295        3  ...    1589.0      9.0      27.0\n",
              "5  2019-07-31        665       15  ...     181.0      3.0      15.0\n",
              "7  2019-07-08       4464       13  ...     613.0     41.0      22.0\n",
              "10 2021-06-11       2820        3  ...     859.0      4.0      14.0\n",
              "19 2019-03-17       1157       17  ...    1050.0     12.0      31.0\n",
              "\n",
              "[5 rows x 10 columns]"
            ]
          },
          "execution_count": 23,
          "metadata": {},
          "output_type": "execute_result"
        }
      ],
      "source": [
        "# Assign integer labels to airline\n",
        "airline_encoder = LabelEncoder()\n",
        "X_df[\"AIRLINE\"] = airline_encoder.fit_transform(X_df[\"AIRLINE\"])\n",
        "\n",
        "# Assign integer labels to airport code\n",
        "airport_encoder = LabelEncoder()\n",
        "airport_encoder.fit(pd.concat([X_df[\"ORIGIN\"],X_df[\"DEST\"]], axis=0))\n",
        "X_df[\"ORIGIN\"] = airport_encoder.transform(X_df[\"ORIGIN\"])\n",
        "X_df[\"DEST\"] = airport_encoder.transform(X_df[\"DEST\"])\n",
        "# assert X_df.loc[1, \"ORIGIN\"] == X_df.loc[3, \"ORIGIN\"] == X_df.loc[2, \"DEST\"]  # all MSP\n",
        "\n",
        "X_df.head()"
      ]
    },
    {
      "cell_type": "markdown",
      "metadata": {
        "id": "ch_IfqdnAh89"
      },
      "source": [
        "Show number of unique airports"
      ]
    },
    {
      "cell_type": "code",
      "execution_count": null,
      "metadata": {
        "colab": {
          "base_uri": "https://localhost:8080/"
        },
        "id": "cqHXucMJJcYm",
        "outputId": "773cc668-0675-442b-db44-d39e43716a60"
      },
      "outputs": [
        {
          "name": "stdout",
          "output_type": "stream",
          "text": [
            "Number of airports: 380\n"
          ]
        }
      ],
      "source": [
        "print(f\"Number of airports: {max([max(X_df['ORIGIN']), max(X_df['DEST'])]) + 1}\")"
      ]
    },
    {
      "cell_type": "markdown",
      "metadata": {
        "id": "numBTnSHAn8W"
      },
      "source": [
        "Convert hhmm time format to minutes past midnight"
      ]
    },
    {
      "cell_type": "code",
      "execution_count": null,
      "metadata": {
        "id": "URDcarey7-gC"
      },
      "outputs": [
        {
          "name": "stderr",
          "output_type": "stream",
          "text": [
            "C:\\Users\\ebror\\AppData\\Local\\Temp\\ipykernel_33976\\3880266324.py:26: SettingWithCopyWarning:\n",
            "\n",
            "\n",
            "A value is trying to be set on a copy of a slice from a DataFrame.\n",
            "Try using .loc[row_indexer,col_indexer] = value instead\n",
            "\n",
            "See the caveats in the documentation: https://pandas.pydata.org/pandas-docs/stable/user_guide/indexing.html#returning-a-view-versus-a-copy\n",
            "\n",
            "C:\\Users\\ebror\\AppData\\Local\\Temp\\ipykernel_33976\\3880266324.py:27: SettingWithCopyWarning:\n",
            "\n",
            "\n",
            "A value is trying to be set on a copy of a slice from a DataFrame.\n",
            "Try using .loc[row_indexer,col_indexer] = value instead\n",
            "\n",
            "See the caveats in the documentation: https://pandas.pydata.org/pandas-docs/stable/user_guide/indexing.html#returning-a-view-versus-a-copy\n",
            "\n",
            "C:\\Users\\ebror\\AppData\\Local\\Temp\\ipykernel_33976\\3880266324.py:30: SettingWithCopyWarning:\n",
            "\n",
            "\n",
            "A value is trying to be set on a copy of a slice from a DataFrame.\n",
            "Try using .loc[row_indexer,col_indexer] = value instead\n",
            "\n",
            "See the caveats in the documentation: https://pandas.pydata.org/pandas-docs/stable/user_guide/indexing.html#returning-a-view-versus-a-copy\n",
            "\n",
            "C:\\Users\\ebror\\AppData\\Local\\Temp\\ipykernel_33976\\3880266324.py:31: SettingWithCopyWarning:\n",
            "\n",
            "\n",
            "A value is trying to be set on a copy of a slice from a DataFrame.\n",
            "Try using .loc[row_indexer,col_indexer] = value instead\n",
            "\n",
            "See the caveats in the documentation: https://pandas.pydata.org/pandas-docs/stable/user_guide/indexing.html#returning-a-view-versus-a-copy\n",
            "\n"
          ]
        },
        {
          "data": {
            "text/html": [
              "<div>\n",
              "<style scoped>\n",
              "    .dataframe tbody tr th:only-of-type {\n",
              "        vertical-align: middle;\n",
              "    }\n",
              "\n",
              "    .dataframe tbody tr th {\n",
              "        vertical-align: top;\n",
              "    }\n",
              "\n",
              "    .dataframe thead th {\n",
              "        text-align: right;\n",
              "    }\n",
              "</style>\n",
              "<table border=\"1\" class=\"dataframe\">\n",
              "  <thead>\n",
              "    <tr style=\"text-align: right;\">\n",
              "      <th></th>\n",
              "      <th>FL_DATE</th>\n",
              "      <th>FL_NUMBER</th>\n",
              "      <th>AIRLINE</th>\n",
              "      <th>ORIGIN</th>\n",
              "      <th>DEST</th>\n",
              "      <th>CRS_DEP_TIME</th>\n",
              "      <th>CRS_ARR_TIME</th>\n",
              "      <th>DISTANCE</th>\n",
              "      <th>TAXI_IN</th>\n",
              "      <th>TAXI_OUT</th>\n",
              "    </tr>\n",
              "  </thead>\n",
              "  <tbody>\n",
              "    <tr>\n",
              "      <th>3</th>\n",
              "      <td>2023-03-06</td>\n",
              "      <td>2295</td>\n",
              "      <td>3</td>\n",
              "      <td>247</td>\n",
              "      <td>325</td>\n",
              "      <td>969</td>\n",
              "      <td>1109</td>\n",
              "      <td>1589.0</td>\n",
              "      <td>9.0</td>\n",
              "      <td>27.0</td>\n",
              "    </tr>\n",
              "    <tr>\n",
              "      <th>5</th>\n",
              "      <td>2019-07-31</td>\n",
              "      <td>665</td>\n",
              "      <td>15</td>\n",
              "      <td>93</td>\n",
              "      <td>257</td>\n",
              "      <td>610</td>\n",
              "      <td>670</td>\n",
              "      <td>181.0</td>\n",
              "      <td>3.0</td>\n",
              "      <td>15.0</td>\n",
              "    </tr>\n",
              "    <tr>\n",
              "      <th>7</th>\n",
              "      <td>2019-07-08</td>\n",
              "      <td>4464</td>\n",
              "      <td>13</td>\n",
              "      <td>167</td>\n",
              "      <td>96</td>\n",
              "      <td>1003</td>\n",
              "      <td>1185</td>\n",
              "      <td>613.0</td>\n",
              "      <td>41.0</td>\n",
              "      <td>22.0</td>\n",
              "    </tr>\n",
              "    <tr>\n",
              "      <th>10</th>\n",
              "      <td>2021-06-11</td>\n",
              "      <td>2820</td>\n",
              "      <td>3</td>\n",
              "      <td>23</td>\n",
              "      <td>31</td>\n",
              "      <td>1130</td>\n",
              "      <td>1272</td>\n",
              "      <td>859.0</td>\n",
              "      <td>4.0</td>\n",
              "      <td>14.0</td>\n",
              "    </tr>\n",
              "    <tr>\n",
              "      <th>19</th>\n",
              "      <td>2019-03-17</td>\n",
              "      <td>1157</td>\n",
              "      <td>17</td>\n",
              "      <td>343</td>\n",
              "      <td>261</td>\n",
              "      <td>975</td>\n",
              "      <td>1095</td>\n",
              "      <td>1050.0</td>\n",
              "      <td>12.0</td>\n",
              "      <td>31.0</td>\n",
              "    </tr>\n",
              "  </tbody>\n",
              "</table>\n",
              "</div>"
            ],
            "text/plain": [
              "      FL_DATE  FL_NUMBER  AIRLINE  ...  DISTANCE  TAXI_IN  TAXI_OUT\n",
              "3  2023-03-06       2295        3  ...    1589.0      9.0      27.0\n",
              "5  2019-07-31        665       15  ...     181.0      3.0      15.0\n",
              "7  2019-07-08       4464       13  ...     613.0     41.0      22.0\n",
              "10 2021-06-11       2820        3  ...     859.0      4.0      14.0\n",
              "19 2019-03-17       1157       17  ...    1050.0     12.0      31.0\n",
              "\n",
              "[5 rows x 10 columns]"
            ]
          },
          "execution_count": 25,
          "metadata": {},
          "output_type": "execute_result"
        }
      ],
      "source": [
        "def convert_hhmm_to_mins(hhmm_list):\n",
        "  hours = []\n",
        "  mins = []\n",
        "\n",
        "  # Look at str length to determine number of hours and mins\n",
        "  for s in hhmm_list:\n",
        "    if len(s) == 1:\n",
        "      hours.append(0)\n",
        "      mins.append(int(s))\n",
        "    elif len(s) == 2:\n",
        "      hours.append(0)\n",
        "      mins.append(int(s))\n",
        "    elif len(s) == 3:\n",
        "      hours.append(int(s[0]))\n",
        "      mins.append(int(s[1:]))\n",
        "    elif len(s) == 4:\n",
        "        hours.append(int(s[:2]))\n",
        "        mins.append(int(s[2:]))\n",
        "    else:\n",
        "      raise ValueError(s)\n",
        "\n",
        "  # Calculate total minutes\n",
        "  return np.array(hours) * 60 + np.array(mins)\n",
        "\n",
        "# Convert hhmm times to minutes\n",
        "X_df[\"CRS_DEP_TIME\"] = X_df[\"CRS_DEP_TIME\"].astype(str)\n",
        "X_df[\"CRS_DEP_TIME\"] = convert_hhmm_to_mins(X_df[\"CRS_DEP_TIME\"])\n",
        "# assert X_df[\"CRS_DEP_TIME\"][:5].tolist() == [715, 1280, 594, 969, 1120]\n",
        "\n",
        "X_df[\"CRS_ARR_TIME\"] = X_df[\"CRS_ARR_TIME\"].astype(str)\n",
        "X_df[\"CRS_ARR_TIME\"] = convert_hhmm_to_mins(X_df[\"CRS_ARR_TIME\"])\n",
        "# assert X_df[\"CRS_ARR_TIME\"][:5].tolist() == [901, 1395, 772, 1109, 1241]\n",
        "\n",
        "X_df.head()"
      ]
    },
    {
      "cell_type": "markdown",
      "metadata": {
        "id": "XDuYi1OnAuBB"
      },
      "source": [
        "Convert distance to an integer in case it is not. Data is recorded as discrete integer values."
      ]
    },
    {
      "cell_type": "code",
      "execution_count": null,
      "metadata": {
        "colab": {
          "base_uri": "https://localhost:8080/",
          "height": 351
        },
        "id": "7MfXRHP68nXD",
        "outputId": "53900897-d437-4673-e1c2-e964d74fe585"
      },
      "outputs": [
        {
          "name": "stderr",
          "output_type": "stream",
          "text": [
            "C:\\Users\\ebror\\AppData\\Local\\Temp\\ipykernel_33976\\2097329403.py:2: SettingWithCopyWarning:\n",
            "\n",
            "\n",
            "A value is trying to be set on a copy of a slice from a DataFrame.\n",
            "Try using .loc[row_indexer,col_indexer] = value instead\n",
            "\n",
            "See the caveats in the documentation: https://pandas.pydata.org/pandas-docs/stable/user_guide/indexing.html#returning-a-view-versus-a-copy\n",
            "\n"
          ]
        },
        {
          "data": {
            "text/html": [
              "<div>\n",
              "<style scoped>\n",
              "    .dataframe tbody tr th:only-of-type {\n",
              "        vertical-align: middle;\n",
              "    }\n",
              "\n",
              "    .dataframe tbody tr th {\n",
              "        vertical-align: top;\n",
              "    }\n",
              "\n",
              "    .dataframe thead th {\n",
              "        text-align: right;\n",
              "    }\n",
              "</style>\n",
              "<table border=\"1\" class=\"dataframe\">\n",
              "  <thead>\n",
              "    <tr style=\"text-align: right;\">\n",
              "      <th></th>\n",
              "      <th>FL_DATE</th>\n",
              "      <th>FL_NUMBER</th>\n",
              "      <th>AIRLINE</th>\n",
              "      <th>ORIGIN</th>\n",
              "      <th>DEST</th>\n",
              "      <th>CRS_DEP_TIME</th>\n",
              "      <th>CRS_ARR_TIME</th>\n",
              "      <th>DISTANCE</th>\n",
              "      <th>TAXI_IN</th>\n",
              "      <th>TAXI_OUT</th>\n",
              "    </tr>\n",
              "  </thead>\n",
              "  <tbody>\n",
              "    <tr>\n",
              "      <th>3</th>\n",
              "      <td>2023-03-06</td>\n",
              "      <td>2295</td>\n",
              "      <td>3</td>\n",
              "      <td>247</td>\n",
              "      <td>325</td>\n",
              "      <td>969</td>\n",
              "      <td>1109</td>\n",
              "      <td>1589</td>\n",
              "      <td>9.0</td>\n",
              "      <td>27.0</td>\n",
              "    </tr>\n",
              "    <tr>\n",
              "      <th>5</th>\n",
              "      <td>2019-07-31</td>\n",
              "      <td>665</td>\n",
              "      <td>15</td>\n",
              "      <td>93</td>\n",
              "      <td>257</td>\n",
              "      <td>610</td>\n",
              "      <td>670</td>\n",
              "      <td>181</td>\n",
              "      <td>3.0</td>\n",
              "      <td>15.0</td>\n",
              "    </tr>\n",
              "    <tr>\n",
              "      <th>7</th>\n",
              "      <td>2019-07-08</td>\n",
              "      <td>4464</td>\n",
              "      <td>13</td>\n",
              "      <td>167</td>\n",
              "      <td>96</td>\n",
              "      <td>1003</td>\n",
              "      <td>1185</td>\n",
              "      <td>613</td>\n",
              "      <td>41.0</td>\n",
              "      <td>22.0</td>\n",
              "    </tr>\n",
              "    <tr>\n",
              "      <th>10</th>\n",
              "      <td>2021-06-11</td>\n",
              "      <td>2820</td>\n",
              "      <td>3</td>\n",
              "      <td>23</td>\n",
              "      <td>31</td>\n",
              "      <td>1130</td>\n",
              "      <td>1272</td>\n",
              "      <td>859</td>\n",
              "      <td>4.0</td>\n",
              "      <td>14.0</td>\n",
              "    </tr>\n",
              "    <tr>\n",
              "      <th>19</th>\n",
              "      <td>2019-03-17</td>\n",
              "      <td>1157</td>\n",
              "      <td>17</td>\n",
              "      <td>343</td>\n",
              "      <td>261</td>\n",
              "      <td>975</td>\n",
              "      <td>1095</td>\n",
              "      <td>1050</td>\n",
              "      <td>12.0</td>\n",
              "      <td>31.0</td>\n",
              "    </tr>\n",
              "  </tbody>\n",
              "</table>\n",
              "</div>"
            ],
            "text/plain": [
              "      FL_DATE  FL_NUMBER  AIRLINE  ...  DISTANCE  TAXI_IN  TAXI_OUT\n",
              "3  2023-03-06       2295        3  ...      1589      9.0      27.0\n",
              "5  2019-07-31        665       15  ...       181      3.0      15.0\n",
              "7  2019-07-08       4464       13  ...       613     41.0      22.0\n",
              "10 2021-06-11       2820        3  ...       859      4.0      14.0\n",
              "19 2019-03-17       1157       17  ...      1050     12.0      31.0\n",
              "\n",
              "[5 rows x 10 columns]"
            ]
          },
          "execution_count": 26,
          "metadata": {},
          "output_type": "execute_result"
        }
      ],
      "source": [
        "# Convert distance to int, its already an int basically\n",
        "X_df[\"DISTANCE\"] = df[\"DISTANCE\"].astype(int)\n",
        "X_df.head()"
      ]
    },
    {
      "cell_type": "markdown",
      "metadata": {
        "id": "JwR1acad3qEY"
      },
      "source": [
        "Break datetime into separate YEAR, MONTH, DAY attributes"
      ]
    },
    {
      "cell_type": "code",
      "execution_count": null,
      "metadata": {
        "colab": {
          "base_uri": "https://localhost:8080/",
          "height": 1000
        },
        "id": "XT8sSdshAhP-",
        "outputId": "23cf4660-79c4-40f6-cad3-7ded95dd9c8f"
      },
      "outputs": [
        {
          "name": "stderr",
          "output_type": "stream",
          "text": [
            "C:\\Users\\ebror\\AppData\\Local\\Temp\\ipykernel_33976\\2737446006.py:2: SettingWithCopyWarning:\n",
            "\n",
            "\n",
            "A value is trying to be set on a copy of a slice from a DataFrame.\n",
            "Try using .loc[row_indexer,col_indexer] = value instead\n",
            "\n",
            "See the caveats in the documentation: https://pandas.pydata.org/pandas-docs/stable/user_guide/indexing.html#returning-a-view-versus-a-copy\n",
            "\n",
            "C:\\Users\\ebror\\AppData\\Local\\Temp\\ipykernel_33976\\2737446006.py:4: SettingWithCopyWarning:\n",
            "\n",
            "\n",
            "A value is trying to be set on a copy of a slice from a DataFrame.\n",
            "Try using .loc[row_indexer,col_indexer] = value instead\n",
            "\n",
            "See the caveats in the documentation: https://pandas.pydata.org/pandas-docs/stable/user_guide/indexing.html#returning-a-view-versus-a-copy\n",
            "\n",
            "C:\\Users\\ebror\\AppData\\Local\\Temp\\ipykernel_33976\\2737446006.py:5: SettingWithCopyWarning:\n",
            "\n",
            "\n",
            "A value is trying to be set on a copy of a slice from a DataFrame.\n",
            "Try using .loc[row_indexer,col_indexer] = value instead\n",
            "\n",
            "See the caveats in the documentation: https://pandas.pydata.org/pandas-docs/stable/user_guide/indexing.html#returning-a-view-versus-a-copy\n",
            "\n",
            "C:\\Users\\ebror\\AppData\\Local\\Temp\\ipykernel_33976\\2737446006.py:6: SettingWithCopyWarning:\n",
            "\n",
            "\n",
            "A value is trying to be set on a copy of a slice from a DataFrame.\n",
            "Try using .loc[row_indexer,col_indexer] = value instead\n",
            "\n",
            "See the caveats in the documentation: https://pandas.pydata.org/pandas-docs/stable/user_guide/indexing.html#returning-a-view-versus-a-copy\n",
            "\n",
            "C:\\Users\\ebror\\AppData\\Local\\Temp\\ipykernel_33976\\2737446006.py:9: SettingWithCopyWarning:\n",
            "\n",
            "\n",
            "A value is trying to be set on a copy of a slice from a DataFrame\n",
            "\n",
            "See the caveats in the documentation: https://pandas.pydata.org/pandas-docs/stable/user_guide/indexing.html#returning-a-view-versus-a-copy\n",
            "\n"
          ]
        },
        {
          "data": {
            "text/html": [
              "<div>\n",
              "<style scoped>\n",
              "    .dataframe tbody tr th:only-of-type {\n",
              "        vertical-align: middle;\n",
              "    }\n",
              "\n",
              "    .dataframe tbody tr th {\n",
              "        vertical-align: top;\n",
              "    }\n",
              "\n",
              "    .dataframe thead th {\n",
              "        text-align: right;\n",
              "    }\n",
              "</style>\n",
              "<table border=\"1\" class=\"dataframe\">\n",
              "  <thead>\n",
              "    <tr style=\"text-align: right;\">\n",
              "      <th></th>\n",
              "      <th>FL_NUMBER</th>\n",
              "      <th>AIRLINE</th>\n",
              "      <th>ORIGIN</th>\n",
              "      <th>DEST</th>\n",
              "      <th>CRS_DEP_TIME</th>\n",
              "      <th>CRS_ARR_TIME</th>\n",
              "      <th>DISTANCE</th>\n",
              "      <th>TAXI_IN</th>\n",
              "      <th>TAXI_OUT</th>\n",
              "      <th>YEAR</th>\n",
              "      <th>MONTH</th>\n",
              "      <th>DAY</th>\n",
              "    </tr>\n",
              "  </thead>\n",
              "  <tbody>\n",
              "    <tr>\n",
              "      <th>3</th>\n",
              "      <td>2295</td>\n",
              "      <td>3</td>\n",
              "      <td>247</td>\n",
              "      <td>325</td>\n",
              "      <td>969</td>\n",
              "      <td>1109</td>\n",
              "      <td>1589</td>\n",
              "      <td>9.0</td>\n",
              "      <td>27.0</td>\n",
              "      <td>2023</td>\n",
              "      <td>3</td>\n",
              "      <td>6</td>\n",
              "    </tr>\n",
              "    <tr>\n",
              "      <th>5</th>\n",
              "      <td>665</td>\n",
              "      <td>15</td>\n",
              "      <td>93</td>\n",
              "      <td>257</td>\n",
              "      <td>610</td>\n",
              "      <td>670</td>\n",
              "      <td>181</td>\n",
              "      <td>3.0</td>\n",
              "      <td>15.0</td>\n",
              "      <td>2019</td>\n",
              "      <td>7</td>\n",
              "      <td>31</td>\n",
              "    </tr>\n",
              "    <tr>\n",
              "      <th>7</th>\n",
              "      <td>4464</td>\n",
              "      <td>13</td>\n",
              "      <td>167</td>\n",
              "      <td>96</td>\n",
              "      <td>1003</td>\n",
              "      <td>1185</td>\n",
              "      <td>613</td>\n",
              "      <td>41.0</td>\n",
              "      <td>22.0</td>\n",
              "      <td>2019</td>\n",
              "      <td>7</td>\n",
              "      <td>8</td>\n",
              "    </tr>\n",
              "    <tr>\n",
              "      <th>10</th>\n",
              "      <td>2820</td>\n",
              "      <td>3</td>\n",
              "      <td>23</td>\n",
              "      <td>31</td>\n",
              "      <td>1130</td>\n",
              "      <td>1272</td>\n",
              "      <td>859</td>\n",
              "      <td>4.0</td>\n",
              "      <td>14.0</td>\n",
              "      <td>2021</td>\n",
              "      <td>6</td>\n",
              "      <td>11</td>\n",
              "    </tr>\n",
              "    <tr>\n",
              "      <th>19</th>\n",
              "      <td>1157</td>\n",
              "      <td>17</td>\n",
              "      <td>343</td>\n",
              "      <td>261</td>\n",
              "      <td>975</td>\n",
              "      <td>1095</td>\n",
              "      <td>1050</td>\n",
              "      <td>12.0</td>\n",
              "      <td>31.0</td>\n",
              "      <td>2019</td>\n",
              "      <td>3</td>\n",
              "      <td>17</td>\n",
              "    </tr>\n",
              "  </tbody>\n",
              "</table>\n",
              "</div>"
            ],
            "text/plain": [
              "    FL_NUMBER  AIRLINE  ORIGIN  DEST  ...  TAXI_OUT  YEAR  MONTH  DAY\n",
              "3        2295        3     247   325  ...      27.0  2023      3    6\n",
              "5         665       15      93   257  ...      15.0  2019      7   31\n",
              "7        4464       13     167    96  ...      22.0  2019      7    8\n",
              "10       2820        3      23    31  ...      14.0  2021      6   11\n",
              "19       1157       17     343   261  ...      31.0  2019      3   17\n",
              "\n",
              "[5 rows x 12 columns]"
            ]
          },
          "execution_count": 27,
          "metadata": {},
          "output_type": "execute_result"
        }
      ],
      "source": [
        "# Convert FL_DATE column to datetime\n",
        "X_df['FL_DATE'] = pd.to_datetime(X_df['FL_DATE'])\n",
        "\n",
        "X_df['YEAR'] = X_df['FL_DATE'].dt.year\n",
        "X_df['MONTH'] = X_df['FL_DATE'].dt.month\n",
        "X_df['DAY'] = X_df['FL_DATE'].dt.day\n",
        "\n",
        "# Drop the original column\n",
        "X_df.drop(columns=['FL_DATE'], inplace=True)\n",
        "\n",
        "if TEST:\n",
        "    assert X_df[\"MONTH\"].min() == 1\n",
        "    assert X_df[\"MONTH\"].max() == 12\n",
        "    assert X_df[\"DAY\"].min() == 1\n",
        "    assert X_df[\"DAY\"].max() == 31\n",
        "\n",
        "X_df.head()"
      ]
    },
    {
      "cell_type": "code",
      "execution_count": 28,
      "metadata": {
        "colab": {
          "base_uri": "https://localhost:8080/",
          "height": 550
        },
        "id": "J_y71ZJtBxOR",
        "outputId": "13fe0e0c-8a0f-49fb-8782-115e1a508f07"
      },
      "outputs": [
        {
          "name": "stderr",
          "output_type": "stream",
          "text": [
            "C:\\Users\\ebror\\AppData\\Local\\Temp\\ipykernel_33976\\3038037169.py:1: SettingWithCopyWarning:\n",
            "\n",
            "\n",
            "A value is trying to be set on a copy of a slice from a DataFrame\n",
            "\n",
            "See the caveats in the documentation: https://pandas.pydata.org/pandas-docs/stable/user_guide/indexing.html#returning-a-view-versus-a-copy\n",
            "\n"
          ]
        },
        {
          "data": {
            "text/html": [
              "<div>\n",
              "<style scoped>\n",
              "    .dataframe tbody tr th:only-of-type {\n",
              "        vertical-align: middle;\n",
              "    }\n",
              "\n",
              "    .dataframe tbody tr th {\n",
              "        vertical-align: top;\n",
              "    }\n",
              "\n",
              "    .dataframe thead th {\n",
              "        text-align: right;\n",
              "    }\n",
              "</style>\n",
              "<table border=\"1\" class=\"dataframe\">\n",
              "  <thead>\n",
              "    <tr style=\"text-align: right;\">\n",
              "      <th></th>\n",
              "      <th>AIRLINE</th>\n",
              "      <th>ORIGIN</th>\n",
              "      <th>DEST</th>\n",
              "      <th>CRS_DEP_TIME</th>\n",
              "      <th>CRS_ARR_TIME</th>\n",
              "      <th>DISTANCE</th>\n",
              "      <th>TAXI_IN</th>\n",
              "      <th>TAXI_OUT</th>\n",
              "      <th>YEAR</th>\n",
              "      <th>MONTH</th>\n",
              "      <th>DAY</th>\n",
              "    </tr>\n",
              "  </thead>\n",
              "  <tbody>\n",
              "    <tr>\n",
              "      <th>3</th>\n",
              "      <td>3</td>\n",
              "      <td>247</td>\n",
              "      <td>325</td>\n",
              "      <td>969</td>\n",
              "      <td>1109</td>\n",
              "      <td>1589</td>\n",
              "      <td>9.0</td>\n",
              "      <td>27.0</td>\n",
              "      <td>2023</td>\n",
              "      <td>3</td>\n",
              "      <td>6</td>\n",
              "    </tr>\n",
              "    <tr>\n",
              "      <th>5</th>\n",
              "      <td>15</td>\n",
              "      <td>93</td>\n",
              "      <td>257</td>\n",
              "      <td>610</td>\n",
              "      <td>670</td>\n",
              "      <td>181</td>\n",
              "      <td>3.0</td>\n",
              "      <td>15.0</td>\n",
              "      <td>2019</td>\n",
              "      <td>7</td>\n",
              "      <td>31</td>\n",
              "    </tr>\n",
              "    <tr>\n",
              "      <th>7</th>\n",
              "      <td>13</td>\n",
              "      <td>167</td>\n",
              "      <td>96</td>\n",
              "      <td>1003</td>\n",
              "      <td>1185</td>\n",
              "      <td>613</td>\n",
              "      <td>41.0</td>\n",
              "      <td>22.0</td>\n",
              "      <td>2019</td>\n",
              "      <td>7</td>\n",
              "      <td>8</td>\n",
              "    </tr>\n",
              "    <tr>\n",
              "      <th>10</th>\n",
              "      <td>3</td>\n",
              "      <td>23</td>\n",
              "      <td>31</td>\n",
              "      <td>1130</td>\n",
              "      <td>1272</td>\n",
              "      <td>859</td>\n",
              "      <td>4.0</td>\n",
              "      <td>14.0</td>\n",
              "      <td>2021</td>\n",
              "      <td>6</td>\n",
              "      <td>11</td>\n",
              "    </tr>\n",
              "    <tr>\n",
              "      <th>19</th>\n",
              "      <td>17</td>\n",
              "      <td>343</td>\n",
              "      <td>261</td>\n",
              "      <td>975</td>\n",
              "      <td>1095</td>\n",
              "      <td>1050</td>\n",
              "      <td>12.0</td>\n",
              "      <td>31.0</td>\n",
              "      <td>2019</td>\n",
              "      <td>3</td>\n",
              "      <td>17</td>\n",
              "    </tr>\n",
              "    <tr>\n",
              "      <th>...</th>\n",
              "      <td>...</td>\n",
              "      <td>...</td>\n",
              "      <td>...</td>\n",
              "      <td>...</td>\n",
              "      <td>...</td>\n",
              "      <td>...</td>\n",
              "      <td>...</td>\n",
              "      <td>...</td>\n",
              "      <td>...</td>\n",
              "      <td>...</td>\n",
              "      <td>...</td>\n",
              "    </tr>\n",
              "    <tr>\n",
              "      <th>2999970</th>\n",
              "      <td>2</td>\n",
              "      <td>96</td>\n",
              "      <td>357</td>\n",
              "      <td>707</td>\n",
              "      <td>849</td>\n",
              "      <td>814</td>\n",
              "      <td>4.0</td>\n",
              "      <td>9.0</td>\n",
              "      <td>2022</td>\n",
              "      <td>3</td>\n",
              "      <td>7</td>\n",
              "    </tr>\n",
              "    <tr>\n",
              "      <th>2999973</th>\n",
              "      <td>2</td>\n",
              "      <td>100</td>\n",
              "      <td>282</td>\n",
              "      <td>868</td>\n",
              "      <td>1094</td>\n",
              "      <td>1067</td>\n",
              "      <td>6.0</td>\n",
              "      <td>14.0</td>\n",
              "      <td>2023</td>\n",
              "      <td>8</td>\n",
              "      <td>22</td>\n",
              "    </tr>\n",
              "    <tr>\n",
              "      <th>2999981</th>\n",
              "      <td>13</td>\n",
              "      <td>322</td>\n",
              "      <td>108</td>\n",
              "      <td>780</td>\n",
              "      <td>865</td>\n",
              "      <td>306</td>\n",
              "      <td>7.0</td>\n",
              "      <td>41.0</td>\n",
              "      <td>2020</td>\n",
              "      <td>12</td>\n",
              "      <td>28</td>\n",
              "    </tr>\n",
              "    <tr>\n",
              "      <th>2999982</th>\n",
              "      <td>2</td>\n",
              "      <td>335</td>\n",
              "      <td>100</td>\n",
              "      <td>979</td>\n",
              "      <td>1193</td>\n",
              "      <td>989</td>\n",
              "      <td>18.0</td>\n",
              "      <td>12.0</td>\n",
              "      <td>2023</td>\n",
              "      <td>1</td>\n",
              "      <td>3</td>\n",
              "    </tr>\n",
              "    <tr>\n",
              "      <th>2999997</th>\n",
              "      <td>3</td>\n",
              "      <td>167</td>\n",
              "      <td>23</td>\n",
              "      <td>334</td>\n",
              "      <td>449</td>\n",
              "      <td>151</td>\n",
              "      <td>6.0</td>\n",
              "      <td>16.0</td>\n",
              "      <td>2022</td>\n",
              "      <td>9</td>\n",
              "      <td>11</td>\n",
              "    </tr>\n",
              "  </tbody>\n",
              "</table>\n",
              "<p>489828 rows × 11 columns</p>\n",
              "</div>"
            ],
            "text/plain": [
              "         AIRLINE  ORIGIN  DEST  CRS_DEP_TIME  ...  TAXI_OUT  YEAR  MONTH  DAY\n",
              "3              3     247   325           969  ...      27.0  2023      3    6\n",
              "5             15      93   257           610  ...      15.0  2019      7   31\n",
              "7             13     167    96          1003  ...      22.0  2019      7    8\n",
              "10             3      23    31          1130  ...      14.0  2021      6   11\n",
              "19            17     343   261           975  ...      31.0  2019      3   17\n",
              "...          ...     ...   ...           ...  ...       ...   ...    ...  ...\n",
              "2999970        2      96   357           707  ...       9.0  2022      3    7\n",
              "2999973        2     100   282           868  ...      14.0  2023      8   22\n",
              "2999981       13     322   108           780  ...      41.0  2020     12   28\n",
              "2999982        2     335   100           979  ...      12.0  2023      1    3\n",
              "2999997        3     167    23           334  ...      16.0  2022      9   11\n",
              "\n",
              "[489828 rows x 11 columns]"
            ]
          },
          "execution_count": 28,
          "metadata": {},
          "output_type": "execute_result"
        }
      ],
      "source": [
        "X_df.drop(columns=[\"FL_NUMBER\"], inplace=True)\n",
        "X_df"
      ]
    },
    {
      "cell_type": "markdown",
      "metadata": {
        "id": "5SdQf6-F6T3U"
      },
      "source": [
        "Taxi in and taxi out to int"
      ]
    },
    {
      "cell_type": "code",
      "execution_count": null,
      "metadata": {
        "colab": {
          "base_uri": "https://localhost:8080/",
          "height": 714
        },
        "id": "SvcJyl32EVnM",
        "outputId": "eec699a2-2cb7-41be-f9f4-b1760c393a39"
      },
      "outputs": [
        {
          "name": "stderr",
          "output_type": "stream",
          "text": [
            "C:\\Users\\ebror\\AppData\\Local\\Temp\\ipykernel_33976\\3527431485.py:1: SettingWithCopyWarning:\n",
            "\n",
            "\n",
            "A value is trying to be set on a copy of a slice from a DataFrame.\n",
            "Try using .loc[row_indexer,col_indexer] = value instead\n",
            "\n",
            "See the caveats in the documentation: https://pandas.pydata.org/pandas-docs/stable/user_guide/indexing.html#returning-a-view-versus-a-copy\n",
            "\n",
            "C:\\Users\\ebror\\AppData\\Local\\Temp\\ipykernel_33976\\3527431485.py:2: SettingWithCopyWarning:\n",
            "\n",
            "\n",
            "A value is trying to be set on a copy of a slice from a DataFrame.\n",
            "Try using .loc[row_indexer,col_indexer] = value instead\n",
            "\n",
            "See the caveats in the documentation: https://pandas.pydata.org/pandas-docs/stable/user_guide/indexing.html#returning-a-view-versus-a-copy\n",
            "\n"
          ]
        }
      ],
      "source": [
        "X_df[\"TAXI_IN\"] = X_df[\"TAXI_IN\"].astype(int)\n",
        "X_df[\"TAXI_OUT\"] = X_df[\"TAXI_OUT\"].astype(int)"
      ]
    },
    {
      "cell_type": "markdown",
      "metadata": {
        "id": "Kg1MlSSU2IXz"
      },
      "source": [
        "Look for any NA values in Y. We found that there are not any"
      ]
    },
    {
      "cell_type": "code",
      "execution_count": null,
      "metadata": {
        "id": "p74ET63Z-Ipb"
      },
      "outputs": [
        {
          "name": "stderr",
          "output_type": "stream",
          "text": [
            "C:\\Users\\ebror\\AppData\\Local\\Temp\\ipykernel_33976\\3814927210.py:2: SettingWithCopyWarning:\n",
            "\n",
            "\n",
            "A value is trying to be set on a copy of a slice from a DataFrame\n",
            "\n",
            "See the caveats in the documentation: https://pandas.pydata.org/pandas-docs/stable/user_guide/indexing.html#returning-a-view-versus-a-copy\n",
            "\n"
          ]
        }
      ],
      "source": [
        "if TEST:\n",
        "  Y_df.replace('', np.nan, inplace=True)\n",
        "  assert pd.isna(Y_df).sum().sum() == 0"
      ]
    },
    {
      "cell_type": "markdown",
      "metadata": {
        "id": "6_9r9ByQ2QR9"
      },
      "source": [
        "Convert Y to int (all values are already integers in the data). Ensure length matches length of X_df."
      ]
    },
    {
      "cell_type": "code",
      "execution_count": null,
      "metadata": {
        "id": "LGFXqLb0LFMq"
      },
      "outputs": [],
      "source": [
        "Y_df = Y_df.astype(int)\n",
        "if TEST:\n",
        "  assert len(X_df) == len(Y_df)"
      ]
    },
    {
      "cell_type": "code",
      "execution_count": null,
      "metadata": {
        "id": "jLKA5u0gMAO0"
      },
      "outputs": [],
      "source": [
        "arr_only_y_df = arr_only_y_df.astype(int)"
      ]
    },
    {
      "cell_type": "markdown",
      "metadata": {
        "id": "UHCdy1Rx6Zhs"
      },
      "source": [
        "Split into train and test using 75/25 split and random_state"
      ]
    },
    {
      "cell_type": "code",
      "execution_count": null,
      "metadata": {
        "colab": {
          "base_uri": "https://localhost:8080/",
          "height": 423
        },
        "id": "OdaeJOdgI-Iu",
        "outputId": "cd928c1a-0210-41b0-9d09-7c3e0fdfbd4c"
      },
      "outputs": [],
      "source": [
        "X_train, X_test, Y_train, Y_test, y_arr_only_train, y_arr_only_test = train_test_split(X_df, Y_df, arr_only_y_df, random_state=42, test_size=0.25)"
      ]
    },
    {
      "cell_type": "markdown",
      "metadata": {
        "id": "vtwKoWRF6inM"
      },
      "source": [
        "Scale numeric columns using Z-normalization. Fit to X_train, apply to X_test to prevent data leakage."
      ]
    },
    {
      "cell_type": "code",
      "execution_count": null,
      "metadata": {
        "id": "7tFLdJ3xJjah"
      },
      "outputs": [
        {
          "data": {
            "text/html": [
              "<div>\n",
              "<style scoped>\n",
              "    .dataframe tbody tr th:only-of-type {\n",
              "        vertical-align: middle;\n",
              "    }\n",
              "\n",
              "    .dataframe tbody tr th {\n",
              "        vertical-align: top;\n",
              "    }\n",
              "\n",
              "    .dataframe thead th {\n",
              "        text-align: right;\n",
              "    }\n",
              "</style>\n",
              "<table border=\"1\" class=\"dataframe\">\n",
              "  <thead>\n",
              "    <tr style=\"text-align: right;\">\n",
              "      <th></th>\n",
              "      <th>AIRLINE</th>\n",
              "      <th>ORIGIN</th>\n",
              "      <th>DEST</th>\n",
              "      <th>YEAR</th>\n",
              "      <th>MONTH</th>\n",
              "      <th>DAY</th>\n",
              "      <th>CRS_DEP_TIME</th>\n",
              "      <th>CRS_ARR_TIME</th>\n",
              "      <th>DISTANCE</th>\n",
              "      <th>TAXI_IN</th>\n",
              "      <th>TAXI_OUT</th>\n",
              "    </tr>\n",
              "  </thead>\n",
              "  <tbody>\n",
              "    <tr>\n",
              "      <th>1847761</th>\n",
              "      <td>0</td>\n",
              "      <td>172</td>\n",
              "      <td>201</td>\n",
              "      <td>2019</td>\n",
              "      <td>12</td>\n",
              "      <td>3</td>\n",
              "      <td>-1.700534</td>\n",
              "      <td>-1.213982</td>\n",
              "      <td>2.425204</td>\n",
              "      <td>0.066053</td>\n",
              "      <td>-0.705807</td>\n",
              "    </tr>\n",
              "    <tr>\n",
              "      <th>304758</th>\n",
              "      <td>2</td>\n",
              "      <td>213</td>\n",
              "      <td>100</td>\n",
              "      <td>2023</td>\n",
              "      <td>8</td>\n",
              "      <td>26</td>\n",
              "      <td>1.181485</td>\n",
              "      <td>1.047237</td>\n",
              "      <td>-0.918461</td>\n",
              "      <td>0.066053</td>\n",
              "      <td>0.092940</td>\n",
              "    </tr>\n",
              "    <tr>\n",
              "      <th>2470125</th>\n",
              "      <td>15</td>\n",
              "      <td>99</td>\n",
              "      <td>313</td>\n",
              "      <td>2022</td>\n",
              "      <td>12</td>\n",
              "      <td>13</td>\n",
              "      <td>-1.521081</td>\n",
              "      <td>-1.299610</td>\n",
              "      <td>0.006777</td>\n",
              "      <td>-0.754562</td>\n",
              "      <td>2.688866</td>\n",
              "    </tr>\n",
              "    <tr>\n",
              "      <th>2530902</th>\n",
              "      <td>17</td>\n",
              "      <td>261</td>\n",
              "      <td>300</td>\n",
              "      <td>2023</td>\n",
              "      <td>6</td>\n",
              "      <td>24</td>\n",
              "      <td>0.786688</td>\n",
              "      <td>1.012352</td>\n",
              "      <td>-0.342083</td>\n",
              "      <td>0.066053</td>\n",
              "      <td>0.159502</td>\n",
              "    </tr>\n",
              "    <tr>\n",
              "      <th>2722217</th>\n",
              "      <td>14</td>\n",
              "      <td>86</td>\n",
              "      <td>100</td>\n",
              "      <td>2021</td>\n",
              "      <td>9</td>\n",
              "      <td>28</td>\n",
              "      <td>0.359589</td>\n",
              "      <td>0.317812</td>\n",
              "      <td>-0.834195</td>\n",
              "      <td>-0.036524</td>\n",
              "      <td>-0.372996</td>\n",
              "    </tr>\n",
              "  </tbody>\n",
              "</table>\n",
              "</div>"
            ],
            "text/plain": [
              "         AIRLINE  ORIGIN  DEST  ...  DISTANCE   TAXI_IN  TAXI_OUT\n",
              "1847761        0     172   201  ...  2.425204  0.066053 -0.705807\n",
              "304758         2     213   100  ... -0.918461  0.066053  0.092940\n",
              "2470125       15      99   313  ...  0.006777 -0.754562  2.688866\n",
              "2530902       17     261   300  ... -0.342083  0.066053  0.159502\n",
              "2722217       14      86   100  ... -0.834195 -0.036524 -0.372996\n",
              "\n",
              "[5 rows x 11 columns]"
            ]
          },
          "execution_count": 34,
          "metadata": {},
          "output_type": "execute_result"
        }
      ],
      "source": [
        "numeric_columns = [\"CRS_DEP_TIME\", \"CRS_ARR_TIME\", \"DISTANCE\", \"TAXI_IN\", \"TAXI_OUT\"]\n",
        "categorical_columns = [\"AIRLINE\", \"ORIGIN\", \"DEST\", \"YEAR\", \"MONTH\", \"DAY\"]\n",
        "scaler = StandardScaler()\n",
        "X_train_scale = pd.DataFrame(scaler.fit_transform(X_train[numeric_columns]), columns=numeric_columns, index=X_train.index)\n",
        "X_test_scale = pd.DataFrame(scaler.transform(X_test[numeric_columns]), columns=numeric_columns, index=X_test.index)\n",
        "\n",
        "X_train_scale = pd.concat([X_train[categorical_columns], X_train_scale], axis=1)\n",
        "X_test_scale = pd.concat([X_test[categorical_columns], X_test_scale], axis=1)\n",
        "\n",
        "X_train_scale.head()"
      ]
    },
    {
      "cell_type": "markdown",
      "metadata": {
        "id": "5PNK_ez16312"
      },
      "source": [
        "Save label-encoded X data to CSV"
      ]
    },
    {
      "cell_type": "code",
      "execution_count": null,
      "metadata": {
        "id": "ipAH-h8FLftX"
      },
      "outputs": [],
      "source": [
        "X_train_scale.to_csv(\"../data/X_train_label.csv\", index=False)\n",
        "X_test_scale.to_csv(\"../data/X_test_label.csv\", index=False)"
      ]
    },
    {
      "cell_type": "markdown",
      "metadata": {},
      "source": [
        "Save Y data to CSV"
      ]
    },
    {
      "cell_type": "code",
      "execution_count": null,
      "metadata": {},
      "outputs": [],
      "source": [
        "Y_train.to_csv(\"../data/Y_train.csv\", index=False)\n",
        "Y_test.to_csv(\"../data/Y_test.csv\", index=False)\n",
        "y_arr_only_train.to_csv(\"../data/arr_delay_only_y_train.csv\", index=False)\n",
        "y_arr_only_test.to_csv(\"../data/arr_delay_only_y_test.csv\", index=False)"
      ]
    },
    {
      "cell_type": "markdown",
      "metadata": {},
      "source": [
        "STOP"
      ]
    },
    {
      "cell_type": "markdown",
      "metadata": {},
      "source": [
        "RUN splits through next of the jupyter notebooks in README.md"
      ]
    },
    {
      "cell_type": "markdown",
      "metadata": {},
      "source": []
    },
    {
      "cell_type": "markdown",
      "metadata": {},
      "source": []
    },
    {
      "cell_type": "markdown",
      "metadata": {},
      "source": []
    },
    {
      "cell_type": "markdown",
      "metadata": {},
      "source": []
    },
    {
      "cell_type": "markdown",
      "metadata": {},
      "source": []
    },
    {
      "cell_type": "markdown",
      "metadata": {},
      "source": []
    },
    {
      "cell_type": "markdown",
      "metadata": {},
      "source": []
    },
    {
      "cell_type": "markdown",
      "metadata": {},
      "source": [
        "Try out PCA on the non-categorical columns. We don't see any meaningful improvement so we don't use PCA"
      ]
    },
    {
      "cell_type": "code",
      "execution_count": 37,
      "metadata": {},
      "outputs": [
        {
          "name": "stdout",
          "output_type": "stream",
          "text": [
            "1 components:\n",
            "PCA1 correlation: -0.024139939884932488\n",
            "\n",
            "\n",
            "2 components:\n",
            "PCA1 correlation: -0.02413993988493264\n",
            "PCA2 correlation: -0.064985573442742\n",
            "\n",
            "\n",
            "3 components:\n",
            "PCA1 correlation: -0.024139939884932494\n",
            "PCA2 correlation: -0.06498557344274201\n",
            "PCA3 correlation: 0.026945497112211805\n",
            "\n",
            "\n",
            "4 components:\n",
            "PCA1 correlation: -0.024139939884932463\n",
            "PCA2 correlation: -0.06498557344274206\n",
            "PCA3 correlation: 0.02694549711221145\n",
            "PCA4 correlation: 0.06025599295851206\n",
            "\n",
            "\n"
          ]
        }
      ],
      "source": [
        "for n_components in range(1, len(numeric_columns)):\n",
        "    pca = PCA(n_components=n_components)\n",
        "    cols = [f\"PCA{i}\" for i in range(1, n_components + 1)]\n",
        "\n",
        "    principal_components = pca.fit_transform(X_train[numeric_columns])\n",
        "    principal_components = pd.DataFrame(principal_components, columns=cols)\n",
        "\n",
        "    print(f\"{n_components} components:\")\n",
        "    for col in cols:\n",
        "        print(f\"{col} correlation: {calculate_pearson_score(principal_components, col, Y_train.sum(axis=1))}\")\n",
        "    print(\"\\n\")"
      ]
    },
    {
      "cell_type": "markdown",
      "metadata": {
        "id": "2DOUPdhn7R92"
      },
      "source": [
        "One-hot encode and split again"
      ]
    },
    {
      "cell_type": "code",
      "execution_count": 38,
      "metadata": {
        "colab": {
          "base_uri": "https://localhost:8080/",
          "height": 255
        },
        "id": "gVl-gyyyArOx",
        "outputId": "276c8378-4ef7-48b9-fb50-e1aeb3dc488c"
      },
      "outputs": [
        {
          "data": {
            "text/html": [
              "<div>\n",
              "<style scoped>\n",
              "    .dataframe tbody tr th:only-of-type {\n",
              "        vertical-align: middle;\n",
              "    }\n",
              "\n",
              "    .dataframe tbody tr th {\n",
              "        vertical-align: top;\n",
              "    }\n",
              "\n",
              "    .dataframe thead th {\n",
              "        text-align: right;\n",
              "    }\n",
              "</style>\n",
              "<table border=\"1\" class=\"dataframe\">\n",
              "  <thead>\n",
              "    <tr style=\"text-align: right;\">\n",
              "      <th></th>\n",
              "      <th>CRS_DEP_TIME</th>\n",
              "      <th>CRS_ARR_TIME</th>\n",
              "      <th>DISTANCE</th>\n",
              "      <th>TAXI_IN</th>\n",
              "      <th>TAXI_OUT</th>\n",
              "      <th>YEAR_2019</th>\n",
              "      <th>YEAR_2020</th>\n",
              "      <th>YEAR_2021</th>\n",
              "      <th>YEAR_2022</th>\n",
              "      <th>YEAR_2023</th>\n",
              "      <th>MONTH_1</th>\n",
              "      <th>MONTH_2</th>\n",
              "      <th>MONTH_3</th>\n",
              "      <th>MONTH_4</th>\n",
              "      <th>MONTH_5</th>\n",
              "      <th>MONTH_6</th>\n",
              "      <th>MONTH_7</th>\n",
              "      <th>MONTH_8</th>\n",
              "      <th>MONTH_9</th>\n",
              "      <th>MONTH_10</th>\n",
              "      <th>MONTH_11</th>\n",
              "      <th>MONTH_12</th>\n",
              "      <th>DAY_1</th>\n",
              "      <th>DAY_2</th>\n",
              "      <th>DAY_3</th>\n",
              "      <th>DAY_4</th>\n",
              "      <th>DAY_5</th>\n",
              "      <th>DAY_6</th>\n",
              "      <th>DAY_7</th>\n",
              "      <th>DAY_8</th>\n",
              "      <th>DAY_9</th>\n",
              "      <th>DAY_10</th>\n",
              "      <th>DAY_11</th>\n",
              "      <th>DAY_12</th>\n",
              "      <th>DAY_13</th>\n",
              "      <th>DAY_14</th>\n",
              "      <th>DAY_15</th>\n",
              "      <th>DAY_16</th>\n",
              "      <th>DAY_17</th>\n",
              "      <th>DAY_18</th>\n",
              "      <th>...</th>\n",
              "      <th>ORIGIN_340</th>\n",
              "      <th>ORIGIN_341</th>\n",
              "      <th>ORIGIN_342</th>\n",
              "      <th>ORIGIN_343</th>\n",
              "      <th>ORIGIN_344</th>\n",
              "      <th>ORIGIN_345</th>\n",
              "      <th>ORIGIN_346</th>\n",
              "      <th>ORIGIN_347</th>\n",
              "      <th>ORIGIN_348</th>\n",
              "      <th>ORIGIN_349</th>\n",
              "      <th>ORIGIN_350</th>\n",
              "      <th>ORIGIN_351</th>\n",
              "      <th>ORIGIN_352</th>\n",
              "      <th>ORIGIN_353</th>\n",
              "      <th>ORIGIN_354</th>\n",
              "      <th>ORIGIN_355</th>\n",
              "      <th>ORIGIN_356</th>\n",
              "      <th>ORIGIN_357</th>\n",
              "      <th>ORIGIN_358</th>\n",
              "      <th>ORIGIN_359</th>\n",
              "      <th>ORIGIN_360</th>\n",
              "      <th>ORIGIN_361</th>\n",
              "      <th>ORIGIN_362</th>\n",
              "      <th>ORIGIN_363</th>\n",
              "      <th>ORIGIN_364</th>\n",
              "      <th>ORIGIN_365</th>\n",
              "      <th>ORIGIN_366</th>\n",
              "      <th>ORIGIN_367</th>\n",
              "      <th>ORIGIN_368</th>\n",
              "      <th>ORIGIN_369</th>\n",
              "      <th>ORIGIN_370</th>\n",
              "      <th>ORIGIN_371</th>\n",
              "      <th>ORIGIN_372</th>\n",
              "      <th>ORIGIN_373</th>\n",
              "      <th>ORIGIN_374</th>\n",
              "      <th>ORIGIN_375</th>\n",
              "      <th>ORIGIN_376</th>\n",
              "      <th>ORIGIN_377</th>\n",
              "      <th>ORIGIN_378</th>\n",
              "      <th>ORIGIN_379</th>\n",
              "    </tr>\n",
              "  </thead>\n",
              "  <tbody>\n",
              "    <tr>\n",
              "      <th>3</th>\n",
              "      <td>969</td>\n",
              "      <td>1109</td>\n",
              "      <td>1589</td>\n",
              "      <td>9</td>\n",
              "      <td>27</td>\n",
              "      <td>False</td>\n",
              "      <td>False</td>\n",
              "      <td>False</td>\n",
              "      <td>False</td>\n",
              "      <td>True</td>\n",
              "      <td>False</td>\n",
              "      <td>False</td>\n",
              "      <td>True</td>\n",
              "      <td>False</td>\n",
              "      <td>False</td>\n",
              "      <td>False</td>\n",
              "      <td>False</td>\n",
              "      <td>False</td>\n",
              "      <td>False</td>\n",
              "      <td>False</td>\n",
              "      <td>False</td>\n",
              "      <td>False</td>\n",
              "      <td>False</td>\n",
              "      <td>False</td>\n",
              "      <td>False</td>\n",
              "      <td>False</td>\n",
              "      <td>False</td>\n",
              "      <td>True</td>\n",
              "      <td>False</td>\n",
              "      <td>False</td>\n",
              "      <td>False</td>\n",
              "      <td>False</td>\n",
              "      <td>False</td>\n",
              "      <td>False</td>\n",
              "      <td>False</td>\n",
              "      <td>False</td>\n",
              "      <td>False</td>\n",
              "      <td>False</td>\n",
              "      <td>False</td>\n",
              "      <td>False</td>\n",
              "      <td>...</td>\n",
              "      <td>False</td>\n",
              "      <td>False</td>\n",
              "      <td>False</td>\n",
              "      <td>False</td>\n",
              "      <td>False</td>\n",
              "      <td>False</td>\n",
              "      <td>False</td>\n",
              "      <td>False</td>\n",
              "      <td>False</td>\n",
              "      <td>False</td>\n",
              "      <td>False</td>\n",
              "      <td>False</td>\n",
              "      <td>False</td>\n",
              "      <td>False</td>\n",
              "      <td>False</td>\n",
              "      <td>False</td>\n",
              "      <td>False</td>\n",
              "      <td>False</td>\n",
              "      <td>False</td>\n",
              "      <td>False</td>\n",
              "      <td>False</td>\n",
              "      <td>False</td>\n",
              "      <td>False</td>\n",
              "      <td>False</td>\n",
              "      <td>False</td>\n",
              "      <td>False</td>\n",
              "      <td>False</td>\n",
              "      <td>False</td>\n",
              "      <td>False</td>\n",
              "      <td>False</td>\n",
              "      <td>False</td>\n",
              "      <td>False</td>\n",
              "      <td>False</td>\n",
              "      <td>False</td>\n",
              "      <td>False</td>\n",
              "      <td>False</td>\n",
              "      <td>False</td>\n",
              "      <td>False</td>\n",
              "      <td>False</td>\n",
              "      <td>False</td>\n",
              "    </tr>\n",
              "    <tr>\n",
              "      <th>5</th>\n",
              "      <td>610</td>\n",
              "      <td>670</td>\n",
              "      <td>181</td>\n",
              "      <td>3</td>\n",
              "      <td>15</td>\n",
              "      <td>True</td>\n",
              "      <td>False</td>\n",
              "      <td>False</td>\n",
              "      <td>False</td>\n",
              "      <td>False</td>\n",
              "      <td>False</td>\n",
              "      <td>False</td>\n",
              "      <td>False</td>\n",
              "      <td>False</td>\n",
              "      <td>False</td>\n",
              "      <td>False</td>\n",
              "      <td>True</td>\n",
              "      <td>False</td>\n",
              "      <td>False</td>\n",
              "      <td>False</td>\n",
              "      <td>False</td>\n",
              "      <td>False</td>\n",
              "      <td>False</td>\n",
              "      <td>False</td>\n",
              "      <td>False</td>\n",
              "      <td>False</td>\n",
              "      <td>False</td>\n",
              "      <td>False</td>\n",
              "      <td>False</td>\n",
              "      <td>False</td>\n",
              "      <td>False</td>\n",
              "      <td>False</td>\n",
              "      <td>False</td>\n",
              "      <td>False</td>\n",
              "      <td>False</td>\n",
              "      <td>False</td>\n",
              "      <td>False</td>\n",
              "      <td>False</td>\n",
              "      <td>False</td>\n",
              "      <td>False</td>\n",
              "      <td>...</td>\n",
              "      <td>False</td>\n",
              "      <td>False</td>\n",
              "      <td>False</td>\n",
              "      <td>False</td>\n",
              "      <td>False</td>\n",
              "      <td>False</td>\n",
              "      <td>False</td>\n",
              "      <td>False</td>\n",
              "      <td>False</td>\n",
              "      <td>False</td>\n",
              "      <td>False</td>\n",
              "      <td>False</td>\n",
              "      <td>False</td>\n",
              "      <td>False</td>\n",
              "      <td>False</td>\n",
              "      <td>False</td>\n",
              "      <td>False</td>\n",
              "      <td>False</td>\n",
              "      <td>False</td>\n",
              "      <td>False</td>\n",
              "      <td>False</td>\n",
              "      <td>False</td>\n",
              "      <td>False</td>\n",
              "      <td>False</td>\n",
              "      <td>False</td>\n",
              "      <td>False</td>\n",
              "      <td>False</td>\n",
              "      <td>False</td>\n",
              "      <td>False</td>\n",
              "      <td>False</td>\n",
              "      <td>False</td>\n",
              "      <td>False</td>\n",
              "      <td>False</td>\n",
              "      <td>False</td>\n",
              "      <td>False</td>\n",
              "      <td>False</td>\n",
              "      <td>False</td>\n",
              "      <td>False</td>\n",
              "      <td>False</td>\n",
              "      <td>False</td>\n",
              "    </tr>\n",
              "    <tr>\n",
              "      <th>7</th>\n",
              "      <td>1003</td>\n",
              "      <td>1185</td>\n",
              "      <td>613</td>\n",
              "      <td>41</td>\n",
              "      <td>22</td>\n",
              "      <td>True</td>\n",
              "      <td>False</td>\n",
              "      <td>False</td>\n",
              "      <td>False</td>\n",
              "      <td>False</td>\n",
              "      <td>False</td>\n",
              "      <td>False</td>\n",
              "      <td>False</td>\n",
              "      <td>False</td>\n",
              "      <td>False</td>\n",
              "      <td>False</td>\n",
              "      <td>True</td>\n",
              "      <td>False</td>\n",
              "      <td>False</td>\n",
              "      <td>False</td>\n",
              "      <td>False</td>\n",
              "      <td>False</td>\n",
              "      <td>False</td>\n",
              "      <td>False</td>\n",
              "      <td>False</td>\n",
              "      <td>False</td>\n",
              "      <td>False</td>\n",
              "      <td>False</td>\n",
              "      <td>False</td>\n",
              "      <td>True</td>\n",
              "      <td>False</td>\n",
              "      <td>False</td>\n",
              "      <td>False</td>\n",
              "      <td>False</td>\n",
              "      <td>False</td>\n",
              "      <td>False</td>\n",
              "      <td>False</td>\n",
              "      <td>False</td>\n",
              "      <td>False</td>\n",
              "      <td>False</td>\n",
              "      <td>...</td>\n",
              "      <td>False</td>\n",
              "      <td>False</td>\n",
              "      <td>False</td>\n",
              "      <td>False</td>\n",
              "      <td>False</td>\n",
              "      <td>False</td>\n",
              "      <td>False</td>\n",
              "      <td>False</td>\n",
              "      <td>False</td>\n",
              "      <td>False</td>\n",
              "      <td>False</td>\n",
              "      <td>False</td>\n",
              "      <td>False</td>\n",
              "      <td>False</td>\n",
              "      <td>False</td>\n",
              "      <td>False</td>\n",
              "      <td>False</td>\n",
              "      <td>False</td>\n",
              "      <td>False</td>\n",
              "      <td>False</td>\n",
              "      <td>False</td>\n",
              "      <td>False</td>\n",
              "      <td>False</td>\n",
              "      <td>False</td>\n",
              "      <td>False</td>\n",
              "      <td>False</td>\n",
              "      <td>False</td>\n",
              "      <td>False</td>\n",
              "      <td>False</td>\n",
              "      <td>False</td>\n",
              "      <td>False</td>\n",
              "      <td>False</td>\n",
              "      <td>False</td>\n",
              "      <td>False</td>\n",
              "      <td>False</td>\n",
              "      <td>False</td>\n",
              "      <td>False</td>\n",
              "      <td>False</td>\n",
              "      <td>False</td>\n",
              "      <td>False</td>\n",
              "    </tr>\n",
              "    <tr>\n",
              "      <th>10</th>\n",
              "      <td>1130</td>\n",
              "      <td>1272</td>\n",
              "      <td>859</td>\n",
              "      <td>4</td>\n",
              "      <td>14</td>\n",
              "      <td>False</td>\n",
              "      <td>False</td>\n",
              "      <td>True</td>\n",
              "      <td>False</td>\n",
              "      <td>False</td>\n",
              "      <td>False</td>\n",
              "      <td>False</td>\n",
              "      <td>False</td>\n",
              "      <td>False</td>\n",
              "      <td>False</td>\n",
              "      <td>True</td>\n",
              "      <td>False</td>\n",
              "      <td>False</td>\n",
              "      <td>False</td>\n",
              "      <td>False</td>\n",
              "      <td>False</td>\n",
              "      <td>False</td>\n",
              "      <td>False</td>\n",
              "      <td>False</td>\n",
              "      <td>False</td>\n",
              "      <td>False</td>\n",
              "      <td>False</td>\n",
              "      <td>False</td>\n",
              "      <td>False</td>\n",
              "      <td>False</td>\n",
              "      <td>False</td>\n",
              "      <td>False</td>\n",
              "      <td>True</td>\n",
              "      <td>False</td>\n",
              "      <td>False</td>\n",
              "      <td>False</td>\n",
              "      <td>False</td>\n",
              "      <td>False</td>\n",
              "      <td>False</td>\n",
              "      <td>False</td>\n",
              "      <td>...</td>\n",
              "      <td>False</td>\n",
              "      <td>False</td>\n",
              "      <td>False</td>\n",
              "      <td>False</td>\n",
              "      <td>False</td>\n",
              "      <td>False</td>\n",
              "      <td>False</td>\n",
              "      <td>False</td>\n",
              "      <td>False</td>\n",
              "      <td>False</td>\n",
              "      <td>False</td>\n",
              "      <td>False</td>\n",
              "      <td>False</td>\n",
              "      <td>False</td>\n",
              "      <td>False</td>\n",
              "      <td>False</td>\n",
              "      <td>False</td>\n",
              "      <td>False</td>\n",
              "      <td>False</td>\n",
              "      <td>False</td>\n",
              "      <td>False</td>\n",
              "      <td>False</td>\n",
              "      <td>False</td>\n",
              "      <td>False</td>\n",
              "      <td>False</td>\n",
              "      <td>False</td>\n",
              "      <td>False</td>\n",
              "      <td>False</td>\n",
              "      <td>False</td>\n",
              "      <td>False</td>\n",
              "      <td>False</td>\n",
              "      <td>False</td>\n",
              "      <td>False</td>\n",
              "      <td>False</td>\n",
              "      <td>False</td>\n",
              "      <td>False</td>\n",
              "      <td>False</td>\n",
              "      <td>False</td>\n",
              "      <td>False</td>\n",
              "      <td>False</td>\n",
              "    </tr>\n",
              "    <tr>\n",
              "      <th>19</th>\n",
              "      <td>975</td>\n",
              "      <td>1095</td>\n",
              "      <td>1050</td>\n",
              "      <td>12</td>\n",
              "      <td>31</td>\n",
              "      <td>True</td>\n",
              "      <td>False</td>\n",
              "      <td>False</td>\n",
              "      <td>False</td>\n",
              "      <td>False</td>\n",
              "      <td>False</td>\n",
              "      <td>False</td>\n",
              "      <td>True</td>\n",
              "      <td>False</td>\n",
              "      <td>False</td>\n",
              "      <td>False</td>\n",
              "      <td>False</td>\n",
              "      <td>False</td>\n",
              "      <td>False</td>\n",
              "      <td>False</td>\n",
              "      <td>False</td>\n",
              "      <td>False</td>\n",
              "      <td>False</td>\n",
              "      <td>False</td>\n",
              "      <td>False</td>\n",
              "      <td>False</td>\n",
              "      <td>False</td>\n",
              "      <td>False</td>\n",
              "      <td>False</td>\n",
              "      <td>False</td>\n",
              "      <td>False</td>\n",
              "      <td>False</td>\n",
              "      <td>False</td>\n",
              "      <td>False</td>\n",
              "      <td>False</td>\n",
              "      <td>False</td>\n",
              "      <td>False</td>\n",
              "      <td>False</td>\n",
              "      <td>True</td>\n",
              "      <td>False</td>\n",
              "      <td>...</td>\n",
              "      <td>False</td>\n",
              "      <td>False</td>\n",
              "      <td>False</td>\n",
              "      <td>True</td>\n",
              "      <td>False</td>\n",
              "      <td>False</td>\n",
              "      <td>False</td>\n",
              "      <td>False</td>\n",
              "      <td>False</td>\n",
              "      <td>False</td>\n",
              "      <td>False</td>\n",
              "      <td>False</td>\n",
              "      <td>False</td>\n",
              "      <td>False</td>\n",
              "      <td>False</td>\n",
              "      <td>False</td>\n",
              "      <td>False</td>\n",
              "      <td>False</td>\n",
              "      <td>False</td>\n",
              "      <td>False</td>\n",
              "      <td>False</td>\n",
              "      <td>False</td>\n",
              "      <td>False</td>\n",
              "      <td>False</td>\n",
              "      <td>False</td>\n",
              "      <td>False</td>\n",
              "      <td>False</td>\n",
              "      <td>False</td>\n",
              "      <td>False</td>\n",
              "      <td>False</td>\n",
              "      <td>False</td>\n",
              "      <td>False</td>\n",
              "      <td>False</td>\n",
              "      <td>False</td>\n",
              "      <td>False</td>\n",
              "      <td>False</td>\n",
              "      <td>False</td>\n",
              "      <td>False</td>\n",
              "      <td>False</td>\n",
              "      <td>False</td>\n",
              "    </tr>\n",
              "  </tbody>\n",
              "</table>\n",
              "<p>5 rows × 830 columns</p>\n",
              "</div>"
            ],
            "text/plain": [
              "    CRS_DEP_TIME  CRS_ARR_TIME  DISTANCE  ...  ORIGIN_377  ORIGIN_378  ORIGIN_379\n",
              "3            969          1109      1589  ...       False       False       False\n",
              "5            610           670       181  ...       False       False       False\n",
              "7           1003          1185       613  ...       False       False       False\n",
              "10          1130          1272       859  ...       False       False       False\n",
              "19           975          1095      1050  ...       False       False       False\n",
              "\n",
              "[5 rows x 830 columns]"
            ]
          },
          "execution_count": 38,
          "metadata": {},
          "output_type": "execute_result"
        }
      ],
      "source": [
        "X_one_hot = pd.get_dummies(X_df, columns=[\"YEAR\", \"MONTH\", \"DAY\", 'AIRLINE', 'DEST', 'ORIGIN'])  # one-hot encode\n",
        "X_train, X_test, Y_train, Y_test, y_arr_only_train, y_arr_only_test = train_test_split(X_one_hot, Y_df, arr_only_y_df, random_state=42, test_size=0.25)\n",
        "X_one_hot.head()"
      ]
    },
    {
      "cell_type": "markdown",
      "metadata": {
        "id": "ydNkqxRI7UxW"
      },
      "source": [
        "Normalize one-hot encoded data with MinMax"
      ]
    },
    {
      "cell_type": "code",
      "execution_count": 39,
      "metadata": {
        "id": "FkHkt-WU-l7O"
      },
      "outputs": [
        {
          "data": {
            "text/html": [
              "<div>\n",
              "<style scoped>\n",
              "    .dataframe tbody tr th:only-of-type {\n",
              "        vertical-align: middle;\n",
              "    }\n",
              "\n",
              "    .dataframe tbody tr th {\n",
              "        vertical-align: top;\n",
              "    }\n",
              "\n",
              "    .dataframe thead th {\n",
              "        text-align: right;\n",
              "    }\n",
              "</style>\n",
              "<table border=\"1\" class=\"dataframe\">\n",
              "  <thead>\n",
              "    <tr style=\"text-align: right;\">\n",
              "      <th></th>\n",
              "      <th>CRS_DEP_TIME</th>\n",
              "      <th>CRS_ARR_TIME</th>\n",
              "      <th>DISTANCE</th>\n",
              "      <th>TAXI_IN</th>\n",
              "      <th>TAXI_OUT</th>\n",
              "      <th>YEAR_2019</th>\n",
              "      <th>YEAR_2020</th>\n",
              "      <th>YEAR_2021</th>\n",
              "      <th>YEAR_2022</th>\n",
              "      <th>YEAR_2023</th>\n",
              "      <th>MONTH_1</th>\n",
              "      <th>MONTH_2</th>\n",
              "      <th>MONTH_3</th>\n",
              "      <th>MONTH_4</th>\n",
              "      <th>MONTH_5</th>\n",
              "      <th>MONTH_6</th>\n",
              "      <th>MONTH_7</th>\n",
              "      <th>MONTH_8</th>\n",
              "      <th>MONTH_9</th>\n",
              "      <th>MONTH_10</th>\n",
              "      <th>MONTH_11</th>\n",
              "      <th>MONTH_12</th>\n",
              "      <th>DAY_1</th>\n",
              "      <th>DAY_2</th>\n",
              "      <th>DAY_3</th>\n",
              "      <th>DAY_4</th>\n",
              "      <th>DAY_5</th>\n",
              "      <th>DAY_6</th>\n",
              "      <th>DAY_7</th>\n",
              "      <th>DAY_8</th>\n",
              "      <th>DAY_9</th>\n",
              "      <th>DAY_10</th>\n",
              "      <th>DAY_11</th>\n",
              "      <th>DAY_12</th>\n",
              "      <th>DAY_13</th>\n",
              "      <th>DAY_14</th>\n",
              "      <th>DAY_15</th>\n",
              "      <th>DAY_16</th>\n",
              "      <th>DAY_17</th>\n",
              "      <th>DAY_18</th>\n",
              "      <th>...</th>\n",
              "      <th>ORIGIN_340</th>\n",
              "      <th>ORIGIN_341</th>\n",
              "      <th>ORIGIN_342</th>\n",
              "      <th>ORIGIN_343</th>\n",
              "      <th>ORIGIN_344</th>\n",
              "      <th>ORIGIN_345</th>\n",
              "      <th>ORIGIN_346</th>\n",
              "      <th>ORIGIN_347</th>\n",
              "      <th>ORIGIN_348</th>\n",
              "      <th>ORIGIN_349</th>\n",
              "      <th>ORIGIN_350</th>\n",
              "      <th>ORIGIN_351</th>\n",
              "      <th>ORIGIN_352</th>\n",
              "      <th>ORIGIN_353</th>\n",
              "      <th>ORIGIN_354</th>\n",
              "      <th>ORIGIN_355</th>\n",
              "      <th>ORIGIN_356</th>\n",
              "      <th>ORIGIN_357</th>\n",
              "      <th>ORIGIN_358</th>\n",
              "      <th>ORIGIN_359</th>\n",
              "      <th>ORIGIN_360</th>\n",
              "      <th>ORIGIN_361</th>\n",
              "      <th>ORIGIN_362</th>\n",
              "      <th>ORIGIN_363</th>\n",
              "      <th>ORIGIN_364</th>\n",
              "      <th>ORIGIN_365</th>\n",
              "      <th>ORIGIN_366</th>\n",
              "      <th>ORIGIN_367</th>\n",
              "      <th>ORIGIN_368</th>\n",
              "      <th>ORIGIN_369</th>\n",
              "      <th>ORIGIN_370</th>\n",
              "      <th>ORIGIN_371</th>\n",
              "      <th>ORIGIN_372</th>\n",
              "      <th>ORIGIN_373</th>\n",
              "      <th>ORIGIN_374</th>\n",
              "      <th>ORIGIN_375</th>\n",
              "      <th>ORIGIN_376</th>\n",
              "      <th>ORIGIN_377</th>\n",
              "      <th>ORIGIN_378</th>\n",
              "      <th>ORIGIN_379</th>\n",
              "    </tr>\n",
              "  </thead>\n",
              "  <tbody>\n",
              "    <tr>\n",
              "      <th>0</th>\n",
              "      <td>0.291377</td>\n",
              "      <td>0.414177</td>\n",
              "      <td>0.445914</td>\n",
              "      <td>0.052023</td>\n",
              "      <td>0.055556</td>\n",
              "      <td>1.0</td>\n",
              "      <td>0.0</td>\n",
              "      <td>0.0</td>\n",
              "      <td>0.0</td>\n",
              "      <td>0.0</td>\n",
              "      <td>0.0</td>\n",
              "      <td>0.0</td>\n",
              "      <td>0.0</td>\n",
              "      <td>0.0</td>\n",
              "      <td>0.0</td>\n",
              "      <td>0.0</td>\n",
              "      <td>0.0</td>\n",
              "      <td>0.0</td>\n",
              "      <td>0.0</td>\n",
              "      <td>0.0</td>\n",
              "      <td>0.0</td>\n",
              "      <td>1.0</td>\n",
              "      <td>0.0</td>\n",
              "      <td>0.0</td>\n",
              "      <td>1.0</td>\n",
              "      <td>0.0</td>\n",
              "      <td>0.0</td>\n",
              "      <td>0.0</td>\n",
              "      <td>0.0</td>\n",
              "      <td>0.0</td>\n",
              "      <td>0.0</td>\n",
              "      <td>0.0</td>\n",
              "      <td>0.0</td>\n",
              "      <td>0.0</td>\n",
              "      <td>0.0</td>\n",
              "      <td>0.0</td>\n",
              "      <td>0.0</td>\n",
              "      <td>0.0</td>\n",
              "      <td>0.0</td>\n",
              "      <td>0.0</td>\n",
              "      <td>...</td>\n",
              "      <td>0.0</td>\n",
              "      <td>0.0</td>\n",
              "      <td>0.0</td>\n",
              "      <td>0.0</td>\n",
              "      <td>0.0</td>\n",
              "      <td>0.0</td>\n",
              "      <td>0.0</td>\n",
              "      <td>0.0</td>\n",
              "      <td>0.0</td>\n",
              "      <td>0.0</td>\n",
              "      <td>0.0</td>\n",
              "      <td>0.0</td>\n",
              "      <td>0.0</td>\n",
              "      <td>0.0</td>\n",
              "      <td>0.0</td>\n",
              "      <td>0.0</td>\n",
              "      <td>0.0</td>\n",
              "      <td>0.0</td>\n",
              "      <td>0.0</td>\n",
              "      <td>0.0</td>\n",
              "      <td>0.0</td>\n",
              "      <td>0.0</td>\n",
              "      <td>0.0</td>\n",
              "      <td>0.0</td>\n",
              "      <td>0.0</td>\n",
              "      <td>0.0</td>\n",
              "      <td>0.0</td>\n",
              "      <td>0.0</td>\n",
              "      <td>0.0</td>\n",
              "      <td>0.0</td>\n",
              "      <td>0.0</td>\n",
              "      <td>0.0</td>\n",
              "      <td>0.0</td>\n",
              "      <td>0.0</td>\n",
              "      <td>0.0</td>\n",
              "      <td>0.0</td>\n",
              "      <td>0.0</td>\n",
              "      <td>0.0</td>\n",
              "      <td>0.0</td>\n",
              "      <td>0.0</td>\n",
              "    </tr>\n",
              "    <tr>\n",
              "      <th>1</th>\n",
              "      <td>0.849791</td>\n",
              "      <td>0.909659</td>\n",
              "      <td>0.054283</td>\n",
              "      <td>0.052023</td>\n",
              "      <td>0.122222</td>\n",
              "      <td>0.0</td>\n",
              "      <td>0.0</td>\n",
              "      <td>0.0</td>\n",
              "      <td>0.0</td>\n",
              "      <td>1.0</td>\n",
              "      <td>0.0</td>\n",
              "      <td>0.0</td>\n",
              "      <td>0.0</td>\n",
              "      <td>0.0</td>\n",
              "      <td>0.0</td>\n",
              "      <td>0.0</td>\n",
              "      <td>0.0</td>\n",
              "      <td>1.0</td>\n",
              "      <td>0.0</td>\n",
              "      <td>0.0</td>\n",
              "      <td>0.0</td>\n",
              "      <td>0.0</td>\n",
              "      <td>0.0</td>\n",
              "      <td>0.0</td>\n",
              "      <td>0.0</td>\n",
              "      <td>0.0</td>\n",
              "      <td>0.0</td>\n",
              "      <td>0.0</td>\n",
              "      <td>0.0</td>\n",
              "      <td>0.0</td>\n",
              "      <td>0.0</td>\n",
              "      <td>0.0</td>\n",
              "      <td>0.0</td>\n",
              "      <td>0.0</td>\n",
              "      <td>0.0</td>\n",
              "      <td>0.0</td>\n",
              "      <td>0.0</td>\n",
              "      <td>0.0</td>\n",
              "      <td>0.0</td>\n",
              "      <td>0.0</td>\n",
              "      <td>...</td>\n",
              "      <td>0.0</td>\n",
              "      <td>0.0</td>\n",
              "      <td>0.0</td>\n",
              "      <td>0.0</td>\n",
              "      <td>0.0</td>\n",
              "      <td>0.0</td>\n",
              "      <td>0.0</td>\n",
              "      <td>0.0</td>\n",
              "      <td>0.0</td>\n",
              "      <td>0.0</td>\n",
              "      <td>0.0</td>\n",
              "      <td>0.0</td>\n",
              "      <td>0.0</td>\n",
              "      <td>0.0</td>\n",
              "      <td>0.0</td>\n",
              "      <td>0.0</td>\n",
              "      <td>0.0</td>\n",
              "      <td>0.0</td>\n",
              "      <td>0.0</td>\n",
              "      <td>0.0</td>\n",
              "      <td>0.0</td>\n",
              "      <td>0.0</td>\n",
              "      <td>0.0</td>\n",
              "      <td>0.0</td>\n",
              "      <td>0.0</td>\n",
              "      <td>0.0</td>\n",
              "      <td>0.0</td>\n",
              "      <td>0.0</td>\n",
              "      <td>0.0</td>\n",
              "      <td>0.0</td>\n",
              "      <td>0.0</td>\n",
              "      <td>0.0</td>\n",
              "      <td>0.0</td>\n",
              "      <td>0.0</td>\n",
              "      <td>0.0</td>\n",
              "      <td>0.0</td>\n",
              "      <td>0.0</td>\n",
              "      <td>0.0</td>\n",
              "      <td>0.0</td>\n",
              "      <td>0.0</td>\n",
              "    </tr>\n",
              "    <tr>\n",
              "      <th>2</th>\n",
              "      <td>0.326147</td>\n",
              "      <td>0.395413</td>\n",
              "      <td>0.162653</td>\n",
              "      <td>0.005780</td>\n",
              "      <td>0.338889</td>\n",
              "      <td>0.0</td>\n",
              "      <td>0.0</td>\n",
              "      <td>0.0</td>\n",
              "      <td>1.0</td>\n",
              "      <td>0.0</td>\n",
              "      <td>0.0</td>\n",
              "      <td>0.0</td>\n",
              "      <td>0.0</td>\n",
              "      <td>0.0</td>\n",
              "      <td>0.0</td>\n",
              "      <td>0.0</td>\n",
              "      <td>0.0</td>\n",
              "      <td>0.0</td>\n",
              "      <td>0.0</td>\n",
              "      <td>0.0</td>\n",
              "      <td>0.0</td>\n",
              "      <td>1.0</td>\n",
              "      <td>0.0</td>\n",
              "      <td>0.0</td>\n",
              "      <td>0.0</td>\n",
              "      <td>0.0</td>\n",
              "      <td>0.0</td>\n",
              "      <td>0.0</td>\n",
              "      <td>0.0</td>\n",
              "      <td>0.0</td>\n",
              "      <td>0.0</td>\n",
              "      <td>0.0</td>\n",
              "      <td>0.0</td>\n",
              "      <td>0.0</td>\n",
              "      <td>1.0</td>\n",
              "      <td>0.0</td>\n",
              "      <td>0.0</td>\n",
              "      <td>0.0</td>\n",
              "      <td>0.0</td>\n",
              "      <td>0.0</td>\n",
              "      <td>...</td>\n",
              "      <td>0.0</td>\n",
              "      <td>0.0</td>\n",
              "      <td>0.0</td>\n",
              "      <td>0.0</td>\n",
              "      <td>0.0</td>\n",
              "      <td>0.0</td>\n",
              "      <td>0.0</td>\n",
              "      <td>0.0</td>\n",
              "      <td>0.0</td>\n",
              "      <td>0.0</td>\n",
              "      <td>0.0</td>\n",
              "      <td>0.0</td>\n",
              "      <td>0.0</td>\n",
              "      <td>0.0</td>\n",
              "      <td>0.0</td>\n",
              "      <td>0.0</td>\n",
              "      <td>0.0</td>\n",
              "      <td>0.0</td>\n",
              "      <td>0.0</td>\n",
              "      <td>0.0</td>\n",
              "      <td>0.0</td>\n",
              "      <td>0.0</td>\n",
              "      <td>0.0</td>\n",
              "      <td>0.0</td>\n",
              "      <td>0.0</td>\n",
              "      <td>0.0</td>\n",
              "      <td>0.0</td>\n",
              "      <td>0.0</td>\n",
              "      <td>0.0</td>\n",
              "      <td>0.0</td>\n",
              "      <td>0.0</td>\n",
              "      <td>0.0</td>\n",
              "      <td>0.0</td>\n",
              "      <td>0.0</td>\n",
              "      <td>0.0</td>\n",
              "      <td>0.0</td>\n",
              "      <td>0.0</td>\n",
              "      <td>0.0</td>\n",
              "      <td>0.0</td>\n",
              "      <td>0.0</td>\n",
              "    </tr>\n",
              "    <tr>\n",
              "      <th>3</th>\n",
              "      <td>0.773296</td>\n",
              "      <td>0.902015</td>\n",
              "      <td>0.121792</td>\n",
              "      <td>0.052023</td>\n",
              "      <td>0.127778</td>\n",
              "      <td>0.0</td>\n",
              "      <td>0.0</td>\n",
              "      <td>0.0</td>\n",
              "      <td>0.0</td>\n",
              "      <td>1.0</td>\n",
              "      <td>0.0</td>\n",
              "      <td>0.0</td>\n",
              "      <td>0.0</td>\n",
              "      <td>0.0</td>\n",
              "      <td>0.0</td>\n",
              "      <td>1.0</td>\n",
              "      <td>0.0</td>\n",
              "      <td>0.0</td>\n",
              "      <td>0.0</td>\n",
              "      <td>0.0</td>\n",
              "      <td>0.0</td>\n",
              "      <td>0.0</td>\n",
              "      <td>0.0</td>\n",
              "      <td>0.0</td>\n",
              "      <td>0.0</td>\n",
              "      <td>0.0</td>\n",
              "      <td>0.0</td>\n",
              "      <td>0.0</td>\n",
              "      <td>0.0</td>\n",
              "      <td>0.0</td>\n",
              "      <td>0.0</td>\n",
              "      <td>0.0</td>\n",
              "      <td>0.0</td>\n",
              "      <td>0.0</td>\n",
              "      <td>0.0</td>\n",
              "      <td>0.0</td>\n",
              "      <td>0.0</td>\n",
              "      <td>0.0</td>\n",
              "      <td>0.0</td>\n",
              "      <td>0.0</td>\n",
              "      <td>...</td>\n",
              "      <td>0.0</td>\n",
              "      <td>0.0</td>\n",
              "      <td>0.0</td>\n",
              "      <td>0.0</td>\n",
              "      <td>0.0</td>\n",
              "      <td>0.0</td>\n",
              "      <td>0.0</td>\n",
              "      <td>0.0</td>\n",
              "      <td>0.0</td>\n",
              "      <td>0.0</td>\n",
              "      <td>0.0</td>\n",
              "      <td>0.0</td>\n",
              "      <td>0.0</td>\n",
              "      <td>0.0</td>\n",
              "      <td>0.0</td>\n",
              "      <td>0.0</td>\n",
              "      <td>0.0</td>\n",
              "      <td>0.0</td>\n",
              "      <td>0.0</td>\n",
              "      <td>0.0</td>\n",
              "      <td>0.0</td>\n",
              "      <td>0.0</td>\n",
              "      <td>0.0</td>\n",
              "      <td>0.0</td>\n",
              "      <td>0.0</td>\n",
              "      <td>0.0</td>\n",
              "      <td>0.0</td>\n",
              "      <td>0.0</td>\n",
              "      <td>0.0</td>\n",
              "      <td>0.0</td>\n",
              "      <td>0.0</td>\n",
              "      <td>0.0</td>\n",
              "      <td>0.0</td>\n",
              "      <td>0.0</td>\n",
              "      <td>0.0</td>\n",
              "      <td>0.0</td>\n",
              "      <td>0.0</td>\n",
              "      <td>0.0</td>\n",
              "      <td>0.0</td>\n",
              "      <td>0.0</td>\n",
              "    </tr>\n",
              "    <tr>\n",
              "      <th>4</th>\n",
              "      <td>0.690542</td>\n",
              "      <td>0.749826</td>\n",
              "      <td>0.064153</td>\n",
              "      <td>0.046243</td>\n",
              "      <td>0.083333</td>\n",
              "      <td>0.0</td>\n",
              "      <td>0.0</td>\n",
              "      <td>1.0</td>\n",
              "      <td>0.0</td>\n",
              "      <td>0.0</td>\n",
              "      <td>0.0</td>\n",
              "      <td>0.0</td>\n",
              "      <td>0.0</td>\n",
              "      <td>0.0</td>\n",
              "      <td>0.0</td>\n",
              "      <td>0.0</td>\n",
              "      <td>0.0</td>\n",
              "      <td>0.0</td>\n",
              "      <td>1.0</td>\n",
              "      <td>0.0</td>\n",
              "      <td>0.0</td>\n",
              "      <td>0.0</td>\n",
              "      <td>0.0</td>\n",
              "      <td>0.0</td>\n",
              "      <td>0.0</td>\n",
              "      <td>0.0</td>\n",
              "      <td>0.0</td>\n",
              "      <td>0.0</td>\n",
              "      <td>0.0</td>\n",
              "      <td>0.0</td>\n",
              "      <td>0.0</td>\n",
              "      <td>0.0</td>\n",
              "      <td>0.0</td>\n",
              "      <td>0.0</td>\n",
              "      <td>0.0</td>\n",
              "      <td>0.0</td>\n",
              "      <td>0.0</td>\n",
              "      <td>0.0</td>\n",
              "      <td>0.0</td>\n",
              "      <td>0.0</td>\n",
              "      <td>...</td>\n",
              "      <td>0.0</td>\n",
              "      <td>0.0</td>\n",
              "      <td>0.0</td>\n",
              "      <td>0.0</td>\n",
              "      <td>0.0</td>\n",
              "      <td>0.0</td>\n",
              "      <td>0.0</td>\n",
              "      <td>0.0</td>\n",
              "      <td>0.0</td>\n",
              "      <td>0.0</td>\n",
              "      <td>0.0</td>\n",
              "      <td>0.0</td>\n",
              "      <td>0.0</td>\n",
              "      <td>0.0</td>\n",
              "      <td>0.0</td>\n",
              "      <td>0.0</td>\n",
              "      <td>0.0</td>\n",
              "      <td>0.0</td>\n",
              "      <td>0.0</td>\n",
              "      <td>0.0</td>\n",
              "      <td>0.0</td>\n",
              "      <td>0.0</td>\n",
              "      <td>0.0</td>\n",
              "      <td>0.0</td>\n",
              "      <td>0.0</td>\n",
              "      <td>0.0</td>\n",
              "      <td>0.0</td>\n",
              "      <td>0.0</td>\n",
              "      <td>0.0</td>\n",
              "      <td>0.0</td>\n",
              "      <td>0.0</td>\n",
              "      <td>0.0</td>\n",
              "      <td>0.0</td>\n",
              "      <td>0.0</td>\n",
              "      <td>0.0</td>\n",
              "      <td>0.0</td>\n",
              "      <td>0.0</td>\n",
              "      <td>0.0</td>\n",
              "      <td>0.0</td>\n",
              "      <td>0.0</td>\n",
              "    </tr>\n",
              "  </tbody>\n",
              "</table>\n",
              "<p>5 rows × 830 columns</p>\n",
              "</div>"
            ],
            "text/plain": [
              "   CRS_DEP_TIME  CRS_ARR_TIME  DISTANCE  ...  ORIGIN_377  ORIGIN_378  ORIGIN_379\n",
              "0      0.291377      0.414177  0.445914  ...         0.0         0.0         0.0\n",
              "1      0.849791      0.909659  0.054283  ...         0.0         0.0         0.0\n",
              "2      0.326147      0.395413  0.162653  ...         0.0         0.0         0.0\n",
              "3      0.773296      0.902015  0.121792  ...         0.0         0.0         0.0\n",
              "4      0.690542      0.749826  0.064153  ...         0.0         0.0         0.0\n",
              "\n",
              "[5 rows x 830 columns]"
            ]
          },
          "execution_count": 39,
          "metadata": {},
          "output_type": "execute_result"
        }
      ],
      "source": [
        "# Normalize using MinMax\n",
        "scaler = MinMaxScaler()\n",
        "X_train_norm = pd.DataFrame(scaler.fit_transform(X_train), columns=X_train.columns)\n",
        "X_test_norm = pd.DataFrame(scaler.transform(X_test), columns=X_test.columns)\n",
        "\n",
        "X_train_norm.head()"
      ]
    },
    {
      "cell_type": "markdown",
      "metadata": {},
      "source": []
    },
    {
      "cell_type": "markdown",
      "metadata": {},
      "source": []
    },
    {
      "cell_type": "markdown",
      "metadata": {},
      "source": []
    },
    {
      "cell_type": "markdown",
      "metadata": {},
      "source": []
    },
    {
      "cell_type": "markdown",
      "metadata": {},
      "source": []
    },
    {
      "cell_type": "markdown",
      "metadata": {},
      "source": []
    },
    {
      "cell_type": "markdown",
      "metadata": {
        "id": "rMQoY2Sb7fLW"
      },
      "source": [
        "Save one-hot encoded X data to CSV"
      ]
    },
    {
      "cell_type": "code",
      "execution_count": 40,
      "metadata": {
        "id": "26IPqBnjL0Gs"
      },
      "outputs": [],
      "source": [
        "X_train.to_csv(\"../data/X_train_onehot.csv\", index=False)\n",
        "X_test.to_csv(\"../data/X_test_onehot.csv\", index=False)"
      ]
    },
    {
      "cell_type": "markdown",
      "metadata": {
        "id": "vDL8QelB7qRc"
      },
      "source": [
        "Visualize amount of flights that are delayed as a result of multiple reasons"
      ]
    },
    {
      "cell_type": "code",
      "execution_count": 41,
      "metadata": {
        "colab": {
          "base_uri": "https://localhost:8080/"
        },
        "id": "uoZxlG0cNeyh",
        "outputId": "5428cec8-2f7d-4213-b94e-fff8af9ed9f8"
      },
      "outputs": [
        {
          "name": "stdout",
          "output_type": "stream",
          "text": [
            "Ratio delayed for >1 reason: 0.4819283503597181\n"
          ]
        }
      ],
      "source": [
        "delay_for_multiple_reasons_mask = (Y_df > 0).sum(axis=1) > 1\n",
        "Y_num_rows_with_delay_for_multiple_reasons = delay_for_multiple_reasons_mask.sum()\n",
        "\n",
        "print(f\"Ratio delayed for >1 reason: {Y_num_rows_with_delay_for_multiple_reasons / len(Y_df)}\")"
      ]
    },
    {
      "cell_type": "code",
      "execution_count": 42,
      "metadata": {
        "colab": {
          "base_uri": "https://localhost:8080/",
          "height": 617
        },
        "id": "2E2BjymLOe3G",
        "outputId": "1993c896-599e-4b62-f735-83d882166177"
      },
      "outputs": [
        {
          "data": {
            "application/vnd.plotly.v1+json": {
              "config": {
                "plotlyServerURL": "https://plot.ly"
              },
              "data": [
                {
                  "domain": {
                    "x": [
                      0,
                      1
                    ],
                    "y": [
                      0,
                      1
                    ]
                  },
                  "hovertemplate": "Number of Nonzero Delay Components=%{label}<br>Percentage=%{value}<extra></extra>",
                  "labels": {
                    "bdata": "AQIDBA==",
                    "dtype": "i1"
                  },
                  "legendgroup": "",
                  "name": "",
                  "showlegend": true,
                  "type": "pie",
                  "values": {
                    "bdata": "MX15LlHnSUAQGDHk5XBDQE5SJu3gjyJAh1CxXpCFnj8=",
                    "dtype": "f8"
                  }
                }
              ],
              "layout": {
                "height": 600,
                "legend": {
                  "tracegroupgap": 0
                },
                "template": {
                  "data": {
                    "bar": [
                      {
                        "error_x": {
                          "color": "#2a3f5f"
                        },
                        "error_y": {
                          "color": "#2a3f5f"
                        },
                        "marker": {
                          "line": {
                            "color": "#E5ECF6",
                            "width": 0.5
                          },
                          "pattern": {
                            "fillmode": "overlay",
                            "size": 10,
                            "solidity": 0.2
                          }
                        },
                        "type": "bar"
                      }
                    ],
                    "barpolar": [
                      {
                        "marker": {
                          "line": {
                            "color": "#E5ECF6",
                            "width": 0.5
                          },
                          "pattern": {
                            "fillmode": "overlay",
                            "size": 10,
                            "solidity": 0.2
                          }
                        },
                        "type": "barpolar"
                      }
                    ],
                    "carpet": [
                      {
                        "aaxis": {
                          "endlinecolor": "#2a3f5f",
                          "gridcolor": "white",
                          "linecolor": "white",
                          "minorgridcolor": "white",
                          "startlinecolor": "#2a3f5f"
                        },
                        "baxis": {
                          "endlinecolor": "#2a3f5f",
                          "gridcolor": "white",
                          "linecolor": "white",
                          "minorgridcolor": "white",
                          "startlinecolor": "#2a3f5f"
                        },
                        "type": "carpet"
                      }
                    ],
                    "choropleth": [
                      {
                        "colorbar": {
                          "outlinewidth": 0,
                          "ticks": ""
                        },
                        "type": "choropleth"
                      }
                    ],
                    "contour": [
                      {
                        "colorbar": {
                          "outlinewidth": 0,
                          "ticks": ""
                        },
                        "colorscale": [
                          [
                            0,
                            "#0d0887"
                          ],
                          [
                            0.1111111111111111,
                            "#46039f"
                          ],
                          [
                            0.2222222222222222,
                            "#7201a8"
                          ],
                          [
                            0.3333333333333333,
                            "#9c179e"
                          ],
                          [
                            0.4444444444444444,
                            "#bd3786"
                          ],
                          [
                            0.5555555555555556,
                            "#d8576b"
                          ],
                          [
                            0.6666666666666666,
                            "#ed7953"
                          ],
                          [
                            0.7777777777777778,
                            "#fb9f3a"
                          ],
                          [
                            0.8888888888888888,
                            "#fdca26"
                          ],
                          [
                            1,
                            "#f0f921"
                          ]
                        ],
                        "type": "contour"
                      }
                    ],
                    "contourcarpet": [
                      {
                        "colorbar": {
                          "outlinewidth": 0,
                          "ticks": ""
                        },
                        "type": "contourcarpet"
                      }
                    ],
                    "heatmap": [
                      {
                        "colorbar": {
                          "outlinewidth": 0,
                          "ticks": ""
                        },
                        "colorscale": [
                          [
                            0,
                            "#0d0887"
                          ],
                          [
                            0.1111111111111111,
                            "#46039f"
                          ],
                          [
                            0.2222222222222222,
                            "#7201a8"
                          ],
                          [
                            0.3333333333333333,
                            "#9c179e"
                          ],
                          [
                            0.4444444444444444,
                            "#bd3786"
                          ],
                          [
                            0.5555555555555556,
                            "#d8576b"
                          ],
                          [
                            0.6666666666666666,
                            "#ed7953"
                          ],
                          [
                            0.7777777777777778,
                            "#fb9f3a"
                          ],
                          [
                            0.8888888888888888,
                            "#fdca26"
                          ],
                          [
                            1,
                            "#f0f921"
                          ]
                        ],
                        "type": "heatmap"
                      }
                    ],
                    "histogram": [
                      {
                        "marker": {
                          "pattern": {
                            "fillmode": "overlay",
                            "size": 10,
                            "solidity": 0.2
                          }
                        },
                        "type": "histogram"
                      }
                    ],
                    "histogram2d": [
                      {
                        "colorbar": {
                          "outlinewidth": 0,
                          "ticks": ""
                        },
                        "colorscale": [
                          [
                            0,
                            "#0d0887"
                          ],
                          [
                            0.1111111111111111,
                            "#46039f"
                          ],
                          [
                            0.2222222222222222,
                            "#7201a8"
                          ],
                          [
                            0.3333333333333333,
                            "#9c179e"
                          ],
                          [
                            0.4444444444444444,
                            "#bd3786"
                          ],
                          [
                            0.5555555555555556,
                            "#d8576b"
                          ],
                          [
                            0.6666666666666666,
                            "#ed7953"
                          ],
                          [
                            0.7777777777777778,
                            "#fb9f3a"
                          ],
                          [
                            0.8888888888888888,
                            "#fdca26"
                          ],
                          [
                            1,
                            "#f0f921"
                          ]
                        ],
                        "type": "histogram2d"
                      }
                    ],
                    "histogram2dcontour": [
                      {
                        "colorbar": {
                          "outlinewidth": 0,
                          "ticks": ""
                        },
                        "colorscale": [
                          [
                            0,
                            "#0d0887"
                          ],
                          [
                            0.1111111111111111,
                            "#46039f"
                          ],
                          [
                            0.2222222222222222,
                            "#7201a8"
                          ],
                          [
                            0.3333333333333333,
                            "#9c179e"
                          ],
                          [
                            0.4444444444444444,
                            "#bd3786"
                          ],
                          [
                            0.5555555555555556,
                            "#d8576b"
                          ],
                          [
                            0.6666666666666666,
                            "#ed7953"
                          ],
                          [
                            0.7777777777777778,
                            "#fb9f3a"
                          ],
                          [
                            0.8888888888888888,
                            "#fdca26"
                          ],
                          [
                            1,
                            "#f0f921"
                          ]
                        ],
                        "type": "histogram2dcontour"
                      }
                    ],
                    "mesh3d": [
                      {
                        "colorbar": {
                          "outlinewidth": 0,
                          "ticks": ""
                        },
                        "type": "mesh3d"
                      }
                    ],
                    "parcoords": [
                      {
                        "line": {
                          "colorbar": {
                            "outlinewidth": 0,
                            "ticks": ""
                          }
                        },
                        "type": "parcoords"
                      }
                    ],
                    "pie": [
                      {
                        "automargin": true,
                        "type": "pie"
                      }
                    ],
                    "scatter": [
                      {
                        "fillpattern": {
                          "fillmode": "overlay",
                          "size": 10,
                          "solidity": 0.2
                        },
                        "type": "scatter"
                      }
                    ],
                    "scatter3d": [
                      {
                        "line": {
                          "colorbar": {
                            "outlinewidth": 0,
                            "ticks": ""
                          }
                        },
                        "marker": {
                          "colorbar": {
                            "outlinewidth": 0,
                            "ticks": ""
                          }
                        },
                        "type": "scatter3d"
                      }
                    ],
                    "scattercarpet": [
                      {
                        "marker": {
                          "colorbar": {
                            "outlinewidth": 0,
                            "ticks": ""
                          }
                        },
                        "type": "scattercarpet"
                      }
                    ],
                    "scattergeo": [
                      {
                        "marker": {
                          "colorbar": {
                            "outlinewidth": 0,
                            "ticks": ""
                          }
                        },
                        "type": "scattergeo"
                      }
                    ],
                    "scattergl": [
                      {
                        "marker": {
                          "colorbar": {
                            "outlinewidth": 0,
                            "ticks": ""
                          }
                        },
                        "type": "scattergl"
                      }
                    ],
                    "scattermap": [
                      {
                        "marker": {
                          "colorbar": {
                            "outlinewidth": 0,
                            "ticks": ""
                          }
                        },
                        "type": "scattermap"
                      }
                    ],
                    "scattermapbox": [
                      {
                        "marker": {
                          "colorbar": {
                            "outlinewidth": 0,
                            "ticks": ""
                          }
                        },
                        "type": "scattermapbox"
                      }
                    ],
                    "scatterpolar": [
                      {
                        "marker": {
                          "colorbar": {
                            "outlinewidth": 0,
                            "ticks": ""
                          }
                        },
                        "type": "scatterpolar"
                      }
                    ],
                    "scatterpolargl": [
                      {
                        "marker": {
                          "colorbar": {
                            "outlinewidth": 0,
                            "ticks": ""
                          }
                        },
                        "type": "scatterpolargl"
                      }
                    ],
                    "scatterternary": [
                      {
                        "marker": {
                          "colorbar": {
                            "outlinewidth": 0,
                            "ticks": ""
                          }
                        },
                        "type": "scatterternary"
                      }
                    ],
                    "surface": [
                      {
                        "colorbar": {
                          "outlinewidth": 0,
                          "ticks": ""
                        },
                        "colorscale": [
                          [
                            0,
                            "#0d0887"
                          ],
                          [
                            0.1111111111111111,
                            "#46039f"
                          ],
                          [
                            0.2222222222222222,
                            "#7201a8"
                          ],
                          [
                            0.3333333333333333,
                            "#9c179e"
                          ],
                          [
                            0.4444444444444444,
                            "#bd3786"
                          ],
                          [
                            0.5555555555555556,
                            "#d8576b"
                          ],
                          [
                            0.6666666666666666,
                            "#ed7953"
                          ],
                          [
                            0.7777777777777778,
                            "#fb9f3a"
                          ],
                          [
                            0.8888888888888888,
                            "#fdca26"
                          ],
                          [
                            1,
                            "#f0f921"
                          ]
                        ],
                        "type": "surface"
                      }
                    ],
                    "table": [
                      {
                        "cells": {
                          "fill": {
                            "color": "#EBF0F8"
                          },
                          "line": {
                            "color": "white"
                          }
                        },
                        "header": {
                          "fill": {
                            "color": "#C8D4E3"
                          },
                          "line": {
                            "color": "white"
                          }
                        },
                        "type": "table"
                      }
                    ]
                  },
                  "layout": {
                    "annotationdefaults": {
                      "arrowcolor": "#2a3f5f",
                      "arrowhead": 0,
                      "arrowwidth": 1
                    },
                    "autotypenumbers": "strict",
                    "coloraxis": {
                      "colorbar": {
                        "outlinewidth": 0,
                        "ticks": ""
                      }
                    },
                    "colorscale": {
                      "diverging": [
                        [
                          0,
                          "#8e0152"
                        ],
                        [
                          0.1,
                          "#c51b7d"
                        ],
                        [
                          0.2,
                          "#de77ae"
                        ],
                        [
                          0.3,
                          "#f1b6da"
                        ],
                        [
                          0.4,
                          "#fde0ef"
                        ],
                        [
                          0.5,
                          "#f7f7f7"
                        ],
                        [
                          0.6,
                          "#e6f5d0"
                        ],
                        [
                          0.7,
                          "#b8e186"
                        ],
                        [
                          0.8,
                          "#7fbc41"
                        ],
                        [
                          0.9,
                          "#4d9221"
                        ],
                        [
                          1,
                          "#276419"
                        ]
                      ],
                      "sequential": [
                        [
                          0,
                          "#0d0887"
                        ],
                        [
                          0.1111111111111111,
                          "#46039f"
                        ],
                        [
                          0.2222222222222222,
                          "#7201a8"
                        ],
                        [
                          0.3333333333333333,
                          "#9c179e"
                        ],
                        [
                          0.4444444444444444,
                          "#bd3786"
                        ],
                        [
                          0.5555555555555556,
                          "#d8576b"
                        ],
                        [
                          0.6666666666666666,
                          "#ed7953"
                        ],
                        [
                          0.7777777777777778,
                          "#fb9f3a"
                        ],
                        [
                          0.8888888888888888,
                          "#fdca26"
                        ],
                        [
                          1,
                          "#f0f921"
                        ]
                      ],
                      "sequentialminus": [
                        [
                          0,
                          "#0d0887"
                        ],
                        [
                          0.1111111111111111,
                          "#46039f"
                        ],
                        [
                          0.2222222222222222,
                          "#7201a8"
                        ],
                        [
                          0.3333333333333333,
                          "#9c179e"
                        ],
                        [
                          0.4444444444444444,
                          "#bd3786"
                        ],
                        [
                          0.5555555555555556,
                          "#d8576b"
                        ],
                        [
                          0.6666666666666666,
                          "#ed7953"
                        ],
                        [
                          0.7777777777777778,
                          "#fb9f3a"
                        ],
                        [
                          0.8888888888888888,
                          "#fdca26"
                        ],
                        [
                          1,
                          "#f0f921"
                        ]
                      ]
                    },
                    "colorway": [
                      "#636efa",
                      "#EF553B",
                      "#00cc96",
                      "#ab63fa",
                      "#FFA15A",
                      "#19d3f3",
                      "#FF6692",
                      "#B6E880",
                      "#FF97FF",
                      "#FECB52"
                    ],
                    "font": {
                      "color": "#2a3f5f"
                    },
                    "geo": {
                      "bgcolor": "white",
                      "lakecolor": "white",
                      "landcolor": "#E5ECF6",
                      "showlakes": true,
                      "showland": true,
                      "subunitcolor": "white"
                    },
                    "hoverlabel": {
                      "align": "left"
                    },
                    "hovermode": "closest",
                    "mapbox": {
                      "style": "light"
                    },
                    "paper_bgcolor": "white",
                    "plot_bgcolor": "#E5ECF6",
                    "polar": {
                      "angularaxis": {
                        "gridcolor": "white",
                        "linecolor": "white",
                        "ticks": ""
                      },
                      "bgcolor": "#E5ECF6",
                      "radialaxis": {
                        "gridcolor": "white",
                        "linecolor": "white",
                        "ticks": ""
                      }
                    },
                    "scene": {
                      "xaxis": {
                        "backgroundcolor": "#E5ECF6",
                        "gridcolor": "white",
                        "gridwidth": 2,
                        "linecolor": "white",
                        "showbackground": true,
                        "ticks": "",
                        "zerolinecolor": "white"
                      },
                      "yaxis": {
                        "backgroundcolor": "#E5ECF6",
                        "gridcolor": "white",
                        "gridwidth": 2,
                        "linecolor": "white",
                        "showbackground": true,
                        "ticks": "",
                        "zerolinecolor": "white"
                      },
                      "zaxis": {
                        "backgroundcolor": "#E5ECF6",
                        "gridcolor": "white",
                        "gridwidth": 2,
                        "linecolor": "white",
                        "showbackground": true,
                        "ticks": "",
                        "zerolinecolor": "white"
                      }
                    },
                    "shapedefaults": {
                      "line": {
                        "color": "#2a3f5f"
                      }
                    },
                    "ternary": {
                      "aaxis": {
                        "gridcolor": "white",
                        "linecolor": "white",
                        "ticks": ""
                      },
                      "baxis": {
                        "gridcolor": "white",
                        "linecolor": "white",
                        "ticks": ""
                      },
                      "bgcolor": "#E5ECF6",
                      "caxis": {
                        "gridcolor": "white",
                        "linecolor": "white",
                        "ticks": ""
                      }
                    },
                    "title": {
                      "x": 0.05
                    },
                    "xaxis": {
                      "automargin": true,
                      "gridcolor": "white",
                      "linecolor": "white",
                      "ticks": "",
                      "title": {
                        "standoff": 15
                      },
                      "zerolinecolor": "white",
                      "zerolinewidth": 2
                    },
                    "yaxis": {
                      "automargin": true,
                      "gridcolor": "white",
                      "linecolor": "white",
                      "ticks": "",
                      "title": {
                        "standoff": 15
                      },
                      "zerolinecolor": "white",
                      "zerolinewidth": 2
                    }
                  }
                },
                "title": {
                  "text": "Percentage of Each Number of Nonzero Delay Components",
                  "x": 0.5
                },
                "width": 800
              }
            }
          },
          "metadata": {},
          "output_type": "display_data"
        }
      ],
      "source": [
        "nonzero_counts = (Y_df > 0).sum(axis=1)\n",
        "\n",
        "# Calculate the percentage of each count\n",
        "percentage_counts = (nonzero_counts.value_counts(normalize=True) * 100).sort_index().reset_index()\n",
        "percentage_counts.columns = ['Number of Nonzero Delay Components', 'Percentage']\n",
        "\n",
        "fig = px.pie(percentage_counts, values='Percentage', names='Number of Nonzero Delay Components',\n",
        "             title='Percentage of Each Number of Nonzero Delay Components')\n",
        "fig.update_layout(title_x=0.5, width=800, height=600)\n",
        "fig.show()"
      ]
    },
    {
      "cell_type": "code",
      "execution_count": 43,
      "metadata": {},
      "outputs": [],
      "source": [
        "import lime\n",
        "import lime.lime_tabular\n",
        "import numpy as np\n",
        "from xgboost import XGBRegressor\n",
        "from sklearn.metrics import mean_absolute_error, mean_squared_error\n",
        "import shap"
      ]
    },
    {
      "cell_type": "code",
      "execution_count": 44,
      "metadata": {},
      "outputs": [
        {
          "name": "stdout",
          "output_type": "stream",
          "text": [
            "Train Mean Absolute Error: 9.296624798927287\n",
            "Test Mean Absolute Error: 9.494620342168233\n",
            "Train Mean Squared Error: 327.8570487975735\n",
            "Test Mean Squared Error: 344.8901252406382\n"
          ]
        }
      ],
      "source": [
        "xgb_regressor = XGBRegressor(objective='reg:squarederror', random_state=42)\n",
        "xgb_regressor.fit(X_train_norm, Y_train)\n",
        "\n",
        "Y_test_pred = xgb_regressor.predict(X_test_norm)\n",
        "Y_train_pred = xgb_regressor.predict(X_train_norm)\n",
        "\n",
        "test_mae = mean_absolute_error(Y_test, Y_test_pred)\n",
        "test_mse = mean_squared_error(Y_test, Y_test_pred)\n",
        "\n",
        "train_mae = mean_absolute_error(Y_train, Y_train_pred)\n",
        "train_mse = mean_squared_error(Y_train, Y_train_pred)\n",
        "\n",
        "print(f\"Train Mean Absolute Error: {train_mae}\")\n",
        "print(f\"Test Mean Absolute Error: {test_mae}\")\n",
        "\n",
        "print(f\"Train Mean Squared Error: {train_mse}\")\n",
        "print(f\"Test Mean Squared Error: {test_mse}\")"
      ]
    }
  ],
  "metadata": {
    "colab": {
      "provenance": []
    },
    "kernelspec": {
      "display_name": "Python 3",
      "language": "python",
      "name": "python3"
    },
    "language_info": {
      "codemirror_mode": {
        "name": "ipython",
        "version": 3
      },
      "file_extension": ".py",
      "mimetype": "text/x-python",
      "name": "python",
      "nbconvert_exporter": "python",
      "pygments_lexer": "ipython3",
      "version": "3.10.16"
    }
  },
  "nbformat": 4,
  "nbformat_minor": 0
}
