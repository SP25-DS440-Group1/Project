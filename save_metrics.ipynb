{
 "cells": [
  {
   "cell_type": "code",
   "execution_count": null,
   "id": "7bec8646",
   "metadata": {},
   "outputs": [],
   "source": [
    "import os\n",
    "import pandas as pd\n",
    "import matplotlib.pyplot as plt"
   ]
  },
  {
   "cell_type": "code",
   "execution_count": null,
   "id": "1314c84f",
   "metadata": {},
   "outputs": [],
   "source": [
    "# CONFIG\n",
    "metrics_dir = \"./models/results\"   \n",
    "results_dir     = \"./models/results/figures\"\n",
    "os.makedirs(results_dir, exist_ok=True)"
   ]
  },
  {
   "cell_type": "code",
   "execution_count": null,
   "id": "dce667f5",
   "metadata": {},
   "outputs": [],
   "source": [
    "# Load all history CSVs, drop 'lr' if present\n",
    "histories = {}\n",
    "for fn in sorted(os.listdir(metrics_dir)):\n",
    "    if fn.lower().endswith(\".csv\"):\n",
    "        model = os.path.splitext(fn)[0]\n",
    "        df = pd.read_csv(os.path.join(metrics_dir, fn), index_col=0)\n",
    "        if \"lr\" in df.columns:\n",
    "            df = df.drop(columns=[\"lr\"])\n",
    "        histories[model] = df\n",
    "\n",
    "if not histories:\n",
    "    raise FileNotFoundError(f\"No CSVs found in {metrics_dir}\")"
   ]
  },
  {
   "cell_type": "code",
   "execution_count": null,
   "metadata": {},
   "outputs": [],
   "source": [
    "# Plot each metric over epochs\n",
    "#    Each metric becomes one PNG with one line per model\n",
    "metrics = list(next(iter(histories.values())).columns)\n",
    "for metric in metrics:\n",
    "    plt.figure(figsize=(8,5))\n",
    "    for model, df in histories.items():\n",
    "        plt.plot(df.index, df[metric], label=model)\n",
    "    plt.title(f\"{metric.upper()} over Epochs\")\n",
    "    plt.xlabel(\"Epoch\")\n",
    "    plt.ylabel(metric)\n",
    "    plt.grid(alpha=0.3)\n",
    "    plt.legend()\n",
    "    plt.tight_layout()\n",
    "    plt.savefig(os.path.join(results_dir, f\"{metric}_curve.png\"))\n",
    "    plt.close()"
   ]
  },
  {
   "cell_type": "code",
   "execution_count": 14,
   "id": "2f5f23a1",
   "metadata": {},
   "outputs": [],
   "source": [
    "for metric in metrics:\n",
    "    plt.figure(figsize=(8,5))\n",
    "\n",
    "    # find every aug model\n",
    "    for aug_name in sorted(histories):\n",
    "        if not aug_name.endswith(\"_aug\"):\n",
    "            continue\n",
    "        base = aug_name[:-4]           # strip \"_aug\"\n",
    "        orig_name = base               # original has no suffix\n",
    "        if orig_name not in histories:\n",
    "            continue\n",
    "\n",
    "        s_orig = histories[orig_name][metric]\n",
    "        s_aug  = histories[aug_name][metric]\n",
    "\n",
    "        # reindex both to same epoch range\n",
    "        maxlen = max(len(s_orig), len(s_aug))\n",
    "        idx    = list(range(maxlen))\n",
    "        s_orig = s_orig.reindex(idx, method=\"ffill\")\n",
    "        s_aug  = s_aug.reindex(idx, method=\"ffill\")\n",
    "\n",
    "        diff = s_aug.values - s_orig.values\n",
    "        plt.plot(idx, diff, label=base)\n",
    "\n",
    "    plt.axhline(0, color=\"k\", linewidth=1)\n",
    "    plt.title(f\"Δ {metric.upper()} (aug − orig)\")\n",
    "    plt.xlabel(\"Epoch\")\n",
    "    plt.ylabel(f\"Δ {metric}\")\n",
    "    plt.legend(title=\"model\")\n",
    "    plt.grid(alpha=0.3)\n",
    "    plt.tight_layout()\n",
    "    plt.savefig(os.path.join(results_dir, f\"{metric}_diff.png\"))\n",
    "    plt.close()"
   ]
  },
  {
   "cell_type": "code",
   "execution_count": 15,
   "id": "e92d1aa1",
   "metadata": {},
   "outputs": [],
   "source": [
    "# rows=metrics, cols=models\n",
    "summary_df = pd.DataFrame({model: df.iloc[-1] for model, df in histories.items()})\n",
    "\n",
    "# if you had an lr entry in the index, drop it\n",
    "if \"lr\" in summary_df.index:\n",
    "    summary_df = summary_df.drop(index=\"lr\")\n",
    "\n",
    "summary_df = summary_df.round(2)"
   ]
  },
  {
   "cell_type": "code",
   "execution_count": 16,
   "id": "0ff29ad5",
   "metadata": {},
   "outputs": [],
   "source": [
    "clean_csv = os.path.join(results_dir, \"metrics_summary_final_epoch_no_lr.csv\")\n",
    "png_path  = os.path.join(results_dir, \"metrics_summary_final_epoch_no_lr.png\")"
   ]
  },
  {
   "cell_type": "code",
   "execution_count": null,
   "metadata": {},
   "outputs": [
    {
     "name": "stdout",
     "output_type": "stream",
     "text": [
      "Wrote best-epoch metrics → ./models/results/1\\metrics_summary_best.csv\n",
      "Wrote filtered table figure → ./models/results/1\\metrics_summary_best.png\n"
     ]
    }
   ],
   "source": [
    "# CONFIG\n",
    "metrics_dir = \"./models/results\"\n",
    "out_csv     = os.path.join(metrics_dir, \"metrics_summary_best.csv\")\n",
    "out_png     = os.path.join(metrics_dir, \"metrics_summary_best.png\")\n",
    "\n",
    "# gather CSVs\n",
    "csv_files = [\n",
    "    fn for fn in os.listdir(metrics_dir)\n",
    "    if fn.lower().endswith(\".csv\")\n",
    "]\n",
    "\n",
    "best_dfs = []\n",
    "for fn in csv_files:\n",
    "    df = pd.read_csv(os.path.join(metrics_dir, fn))\n",
    "    # pick best epoch by val_loss (or last row if no val_loss)\n",
    "    if \"val_loss\" in df:\n",
    "        best = df.loc[[ df[\"val_loss\"].idxmin() ]].copy()\n",
    "    else:\n",
    "        best = df.iloc[[-1]].copy()\n",
    "    # derive model name\n",
    "    model_name = os.path.splitext(fn)[0]\n",
    "    # drop any lr columns\n",
    "    for col in (\"lr\", \"learning_rate\"):\n",
    "        if col in best:\n",
    "            best = best.drop(columns=col)\n",
    "    # round numeric\n",
    "    best = best.round(2)\n",
    "    # insert Model\n",
    "    best.insert(0, \"Model\", model_name)\n",
    "    best_dfs.append(best)\n",
    "\n",
    "# concat\n",
    "summary = pd.concat(best_dfs, ignore_index=True)\n",
    "\n",
    "# save CSV of all metrics (optional)\n",
    "summary.to_csv(out_csv, index=False)\n",
    "print(\"Wrote best-epoch metrics →\", out_csv)\n",
    "\n",
    "# select only desired columns for the table\n",
    "keep = [\"Model\", \"loss\", \"mae\", \"val_loss\", \"val_mae\"]\n",
    "table_df = summary[keep]\n",
    "\n",
    "# render PNG\n",
    "n_rows, n_cols = table_df.shape\n",
    "fig_w = max(6, n_cols * 1.2)\n",
    "fig_h = max(2, n_rows * 0.4)\n",
    "fig, ax = plt.subplots(figsize=(fig_w, fig_h))\n",
    "ax.axis(\"off\")\n",
    "\n",
    "tbl = ax.table(\n",
    "    cellText=table_df.values,\n",
    "    colLabels=[c.replace(\"_\", \" \").title() for c in table_df.columns],\n",
    "    cellLoc=\"center\",\n",
    "    loc=\"center\"\n",
    ")\n",
    "tbl.auto_set_font_size(False)\n",
    "tbl.set_fontsize(10)\n",
    "tbl.scale(1, 1.5)\n",
    "\n",
    "plt.tight_layout()\n",
    "plt.savefig(out_png, dpi=150, bbox_inches=\"tight\")\n",
    "plt.close()\n",
    "print(\"Wrote filtered table figure →\", out_png)\n"
   ]
  }
 ],
 "metadata": {
  "kernelspec": {
   "display_name": "Python 3",
   "language": "python",
   "name": "python3"
  },
  "language_info": {
   "codemirror_mode": {
    "name": "ipython",
    "version": 3
   },
   "file_extension": ".py",
   "mimetype": "text/x-python",
   "name": "python",
   "nbconvert_exporter": "python",
   "pygments_lexer": "ipython3",
   "version": "3.10.16"
  }
 },
 "nbformat": 4,
 "nbformat_minor": 5
}
