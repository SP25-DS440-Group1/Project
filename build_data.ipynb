{
 "cells": [
  {
   "cell_type": "code",
   "execution_count": 7,
   "metadata": {},
   "outputs": [],
   "source": [
    "import pandas as pd\n",
    "from sklearn.model_selection import train_test_split"
   ]
  },
  {
   "cell_type": "markdown",
   "metadata": {},
   "source": [
    "Load datasets"
   ]
  },
  {
   "cell_type": "code",
   "execution_count": 8,
   "metadata": {},
   "outputs": [],
   "source": [
    "X_train_label = pd.read_csv(\"./data/X_train_label.csv\")\n",
    "X_test_label = pd.read_csv(\"./data/X_test_label.csv\")\n",
    "\n",
    "Y_train = pd.read_csv(\"./data/Y_train.csv\")\n",
    "Y_test = pd.read_csv(\"./data/Y_test.csv\")"
   ]
  },
  {
   "cell_type": "markdown",
   "metadata": {},
   "source": [
    "Combine train and test, sort by date, split into train and test temporally"
   ]
  },
  {
   "cell_type": "code",
   "execution_count": null,
   "metadata": {},
   "outputs": [],
   "source": [
    "X_train_label_lstm = X_train_label.copy()\n",
    "X_test_label_lstm = X_test_label.copy()\n",
    "\n",
    "X_lstm1 = pd.concat([X_train_label_lstm, Y_train], axis=1)\n",
    "X_lstm2 = pd.concat([X_test_label_lstm, Y_test], axis=1)\n",
    "\n",
    "combined_df_lstm = pd.concat([X_lstm1, X_lstm2])\n",
    "\n",
    "# Sort by date\n",
    "combined_df_lstm.sort_values([\"YEAR\", \"MONTH\", \"DAY\", \"CRS_DEP_TIME\", \"CRS_ARR_TIME\"], inplace=True)\n",
    "\n",
    "# Features (X_LSTM)\n",
    "X_LSTM = combined_df_lstm[[\"YEAR\", \"MONTH\", \"DAY\", 'AIRLINE', 'ORIGIN', 'DEST', 'CRS_DEP_TIME', 'CRS_ARR_TIME', 'DISTANCE', 'TAXI_IN', 'TAXI_OUT',\"ORIGIN_TEMP\", \"ORIGIN_PRESSURE\", \"ORIGIN_U_COMP_WIND\",\n",
    "    \"ORIGIN_V_COMP_WIND\", \"ORIGIN_PRECIP_6HR\", \"DEST_TEMP\", \"DEST_PRESSURE\", \"DEST_U_COMP_WIND\", \"DEST_V_COMP_WIND\", \"DEST_PRECIP_6HR\"]]\n",
    "\n",
    "# Target variables (Y_LSTM)\n",
    "Y_LSTM = combined_df_lstm[['DELAY_DUE_CARRIER', 'DELAY_DUE_WEATHER', 'DELAY_DUE_SECURITY', 'DELAY_DUE_NAS', 'DELAY_DUE_LATE_AIRCRAFT', \"ARR_DELAY\"]]\n",
    "X_train_lstm, X_test_lstm, y_train_lstm, y_test_lstm = train_test_split(X_LSTM, Y_LSTM, test_size=0.25, shuffle=False)"
   ]
  },
  {
   "cell_type": "code",
   "execution_count": 10,
   "metadata": {},
   "outputs": [],
   "source": [
    "X_train_lstm.to_csv(\"./data/X_train_lstm.csv\", index=False)\n",
    "X_test_lstm.to_csv(\"./data/X_test_lstm.csv\", index=False)\n",
    "y_train_lstm.to_csv(\"./data/Y_train_lstm.csv\", index=False)\n",
    "y_test_lstm.to_csv(\"./data/Y_test_lstm.csv\", index=False)"
   ]
  },
  {
   "cell_type": "code",
   "execution_count": null,
   "metadata": {},
   "outputs": [],
   "source": [
    "X_train_label_lstm_old = X_train_label.copy()\n",
    "X_test_label_lstm_old = X_test_label.copy()\n",
    "\n",
    "X_lstm1_old = pd.concat([X_train_label_lstm_old, Y_train], axis=1)\n",
    "X_lstm2_old = pd.concat([X_test_label_lstm_old, Y_test], axis=1)\n",
    "\n",
    "combined_df_lstm_old = pd.concat([X_lstm1_old, X_lstm2_old])\n",
    "\n",
    "# Sort by date\n",
    "combined_df_lstm_old.sort_values([\"YEAR\", \"MONTH\", \"DAY\", \"CRS_DEP_TIME\", \"CRS_ARR_TIME\"], inplace=True)\n",
    "\n",
    "# Features (X_LSTM)\n",
    "X_LSTM = combined_df_lstm_old[[\"YEAR\", \"MONTH\", \"DAY\", 'AIRLINE', 'ORIGIN', 'DEST', 'CRS_DEP_TIME', 'CRS_ARR_TIME', 'DISTANCE', 'TAXI_IN', 'TAXI_OUT']]\n",
    "\n",
    "# Target variables (Y_LSTM)\n",
    "Y_LSTM = combined_df_lstm_old[['DELAY_DUE_CARRIER', 'DELAY_DUE_WEATHER', 'DELAY_DUE_SECURITY', 'DELAY_DUE_NAS', 'DELAY_DUE_LATE_AIRCRAFT', \"ARR_DELAY\"]]\n",
    "X_train_lstm, X_test_lstm, y_train_lstm, y_test_lstm = train_test_split(X_LSTM, Y_LSTM, test_size=0.25, shuffle=False)"
   ]
  },
  {
   "cell_type": "markdown",
   "metadata": {},
   "source": [
    "Write time-series datasets to CSV"
   ]
  },
  {
   "cell_type": "code",
   "execution_count": 12,
   "metadata": {},
   "outputs": [],
   "source": [
    "X_train_lstm.to_csv(\"./data/old_data/X_train_lstm.csv\", index=False)\n",
    "X_test_lstm.to_csv(\"./data/old_data/X_test_lstm.csv\", index=False)\n",
    "y_train_lstm.to_csv(\"./data/old_data/Y_train_lstm.csv\", index=False)\n",
    "y_test_lstm.to_csv(\"./data/old_data/Y_test_lstm.csv\", index=False)"
   ]
  }
 ],
 "metadata": {
  "kernelspec": {
   "display_name": "Python 3",
   "language": "python",
   "name": "python3"
  },
  "language_info": {
   "codemirror_mode": {
    "name": "ipython",
    "version": 3
   },
   "file_extension": ".py",
   "mimetype": "text/x-python",
   "name": "python",
   "nbconvert_exporter": "python",
   "pygments_lexer": "ipython3",
   "version": "3.10.16"
  }
 },
 "nbformat": 4,
 "nbformat_minor": 2
}
